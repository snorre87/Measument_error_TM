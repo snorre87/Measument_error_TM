{
 "cells": [
  {
   "cell_type": "code",
   "execution_count": 1,
   "metadata": {},
   "outputs": [],
   "source": [
    "import os\n",
    "files = [i for i in os.listdir() if 'label_' in i]"
   ]
  },
  {
   "cell_type": "code",
   "execution_count": 2,
   "metadata": {},
   "outputs": [
    {
     "data": {
      "text/plain": [
       "1446"
      ]
     },
     "execution_count": 2,
     "metadata": {},
     "output_type": "execute_result"
    }
   ],
   "source": [
    "import json\n",
    "import re\n",
    "line_sep = r'[\\n\\r]+'\n",
    "data = []\n",
    "import codecs\n",
    "for filename in files:\n",
    "    coder = filename.split('_')[1].split('.')[0]\n",
    "    with codecs.open(filename,'r','utf-8') as f:\n",
    "        s = f.read()\n",
    "        l = re.split(line_sep,s)[0:-1]#.split('\\n\\r')[0:-1]\n",
    "        for d in l:\n",
    "            d = json.loads(d)\n",
    "            d['coder'] = coder\n",
    "            data.append(d)\n",
    "import pandas as pd\n",
    "df = pd.DataFrame(data)\n",
    "# fix error with missing true cat in the beginning\n",
    "import pickle\n",
    "sample,class2num = pickle.load(open('validate_dependencies.pkl','rb'))\n",
    "pol_df = pd.read_csv('base_dataframe.csv')\n",
    "import pickle\n",
    "#base = '/home/snorre/Dropbox/Forskning/bigdata/data_inspections/'\n",
    "#pol_df,noise_df, Index = pickle.load(open(base+'topic_simulation_dependencies.pkl','rb'))\n",
    "#class2num2 = dict(pol_df[['topic','topic_class']].values)\n",
    "#class2num2 = sorted(class2num2,key=lambda x: class2num2[x])\n",
    "\n",
    "#class2class = dict(zip(class2num,class2num2))\n",
    "\n",
    "\n",
    "\n",
    "def get_dic_name(num):\n",
    "    return class2english[class2class[class2num[int(num)]]]\n",
    "#topicnum2english = [get_dic_name(i) for i in range(len(class2class))]\n",
    "#json.dump(topicnum2english,open('topicnum2english','w'))\n",
    "                    \n",
    "class2english = {'kunst _musik_museum_kulturpol': 'Culture', ' klima_ miljø _ naturen ': 'Environment',\n",
    "                 'undervis_folkeskole_ungdomsuddan': 'Education', 'udenrig_ forsvaret _militær': 'Foreign affairs',\n",
    "                 ' EU _ eu': 'EU', ' sundhed': 'Health',\n",
    "                 'indvandr_flygt_udlænding': 'Immigration', ' beskæftig': 'Employment', 'skat': 'Taxes', \n",
    "                 'forskning_ universitet_videregående udd': 'Science',\n",
    "                 ' religi_ værdipol': 'Religion', ' økonom_ vækst': 'Economy', \n",
    "                 'kriminal_kriminel': 'Crime', 'hjemmehjælp_ ældre _ pension_ plejehjem': 'Elder care',\n",
    "                 'fattig_socialt udsat_socialminis_svageste': 'Social policy'}\n",
    "len(df)"
   ]
  },
  {
   "cell_type": "code",
   "execution_count": 3,
   "metadata": {},
   "outputs": [],
   "source": [
    "# make weighing scheme by the prevalence of each class.\n",
    "class_weight = (pol_df.topic_class.value_counts().sort_index()).values"
   ]
  },
  {
   "cell_type": "code",
   "execution_count": 4,
   "metadata": {},
   "outputs": [],
   "source": [
    "topicnum2english = json.load(open('topicnum2english','r'))\n",
    "def get_dic_name(num):\n",
    "    return topicnum2english[int(num)]"
   ]
  },
  {
   "cell_type": "code",
   "execution_count": 5,
   "metadata": {},
   "outputs": [],
   "source": [
    "for i in range(15):\n",
    "    get_dic_name(i)"
   ]
  },
  {
   "cell_type": "code",
   "execution_count": 6,
   "metadata": {},
   "outputs": [
    {
     "data": {
      "text/plain": [
       "(coder\n",
       " slf    574\n",
       " sr      59\n",
       " ss     813\n",
       " dtype: int64, 1446)"
      ]
     },
     "execution_count": 6,
     "metadata": {},
     "output_type": "execute_result"
    }
   ],
   "source": [
    "df.groupby('coder').size(),len(df)"
   ]
  },
  {
   "cell_type": "code",
   "execution_count": 107,
   "metadata": {},
   "outputs": [
    {
     "data": {
      "text/plain": [
       "6.4"
      ]
     },
     "execution_count": 107,
     "metadata": {},
     "output_type": "execute_result"
    }
   ],
   "source": [
    "1440/(15*15)"
   ]
  },
  {
   "cell_type": "code",
   "execution_count": 278,
   "metadata": {},
   "outputs": [
    {
     "data": {
      "text/plain": [
       "361"
      ]
     },
     "execution_count": 278,
     "metadata": {},
     "output_type": "execute_result"
    }
   ],
   "source": [
    "len(df)-df.id.nunique()"
   ]
  },
  {
   "cell_type": "code",
   "execution_count": 279,
   "metadata": {},
   "outputs": [
    {
     "data": {
      "text/plain": [
       "361"
      ]
     },
     "execution_count": 279,
     "metadata": {},
     "output_type": "execute_result"
    }
   ],
   "source": [
    "(df.id.value_counts()-1).sum()"
   ]
  },
  {
   "cell_type": "code",
   "execution_count": 6,
   "metadata": {},
   "outputs": [],
   "source": [
    "id2topic = dict(sample[['id','topic_class']].values)"
   ]
  },
  {
   "cell_type": "code",
   "execution_count": 54,
   "metadata": {},
   "outputs": [
    {
     "data": {
      "text/plain": [
       "(1787, 1079)"
      ]
     },
     "execution_count": 54,
     "metadata": {},
     "output_type": "execute_result"
    }
   ],
   "source": [
    "len(id2topic),df.id.nunique()"
   ]
  },
  {
   "cell_type": "code",
   "execution_count": 7,
   "metadata": {},
   "outputs": [],
   "source": [
    "df['true']=df.true.apply(lambda x: 'y' if x=='7' else x)\n",
    "len(df)\n",
    "df['TRUE'] = df.true.apply(lambda x: x=='y')"
   ]
  },
  {
   "cell_type": "code",
   "execution_count": 8,
   "metadata": {},
   "outputs": [],
   "source": [
    "df['true_cat'] = df.id.apply(lambda x: id2topic[x])"
   ]
  },
  {
   "cell_type": "code",
   "execution_count": 9,
   "metadata": {},
   "outputs": [],
   "source": [
    "df['weight'] = df.category.apply(lambda x: class_weight[int(x)])"
   ]
  },
  {
   "cell_type": "code",
   "execution_count": 10,
   "metadata": {},
   "outputs": [],
   "source": [
    "df['weight2'] = df.true_cat.apply(lambda x: class_weight[int(x)])"
   ]
  },
  {
   "cell_type": "code",
   "execution_count": 10,
   "metadata": {
    "collapsed": true
   },
   "outputs": [],
   "source": [
    "#df.groupby('id').apply(lambda x: if len(x)>1,\n",
    "#Counter(df.id)"
   ]
  },
  {
   "cell_type": "code",
   "execution_count": 11,
   "metadata": {
    "scrolled": true
   },
   "outputs": [],
   "source": [
    "df['random'] = df.category!=df.true_cat\n",
    "#df[df.TRUE][['id','category']]"
   ]
  },
  {
   "cell_type": "markdown",
   "metadata": {},
   "source": [
    "## Combining the Two Evaluation Types.\n",
    "\n",
    "- Is this right --> A label (either neg or pos) if category was true. If category False only \n",
    "- Exhaustive label --> Label pos and neg."
   ]
  },
  {
   "cell_type": "code",
   "execution_count": 12,
   "metadata": {},
   "outputs": [],
   "source": [
    "import numpy as np\n",
    "def is_in(val,simple=True):\n",
    "    \n",
    "    vals = df[['category','true_cat','classes','TRUE']].values\n",
    "    temp = []\n",
    "    if not simple:\n",
    "        for cat,tcat,classes,boolean in vals:\n",
    "\n",
    "            if val==cat:\n",
    "                if boolean:\n",
    "                    temp.append(1)\n",
    "                else:\n",
    "                    temp.append(-1)\n",
    "                continue\n",
    "            elif type(classes)==list:\n",
    "                if val in classes:\n",
    "                    temp.append(1)\n",
    "                else:            \n",
    "                    #if val==tcat:\n",
    "                     #   temp.append(-2) # then it was explicitly rejected.\n",
    "                    #else:\n",
    "                    temp.append(0) # then it might have been forgotten.\n",
    "            else:\n",
    "                temp.append(np.nan)\n",
    "    else:\n",
    "        for cat,tcat,classes,boolean in vals:\n",
    "            if val==cat:\n",
    "                if boolean:\n",
    "                    temp.append(1)\n",
    "                else:\n",
    "                    temp.append(0)\n",
    "            else:\n",
    "                temp.append(np.nan)\n",
    "    return temp\n",
    "        \n",
    "    # next get category\n",
    "    \n",
    "    \n",
    "for i in range(15):\n",
    "    df[i] = is_in(i)"
   ]
  },
  {
   "cell_type": "code",
   "execution_count": 13,
   "metadata": {},
   "outputs": [
    {
     "name": "stderr",
     "output_type": "stream",
     "text": [
      "<ipython-input-13-17ce63765a41>:7: RuntimeWarning: Mean of empty slice\n",
      "  agreement = np.nanmean(vals)\n"
     ]
    }
   ],
   "source": [
    "import numpy as np\n",
    "def get_agreements(df):\n",
    "    agreements = {'category':[],'aggreement':[],'n':[],'true_count':[]}\n",
    "    cats = []\n",
    "    for cat,groupdf in df.groupby('true_cat'):\n",
    "        vals = groupdf.groupby('id').apply(lambda x: (len(set(x.TRUE))==1)*1 if (len(x)>1 and x.category.nunique()==1)else np.nan)\n",
    "        agreement = np.nanmean(vals)\n",
    "        #print(cat,get_dic_name(cat),agreement,sum(np.isfinite(vals)))\n",
    "        #agreements.append(agreement)\n",
    "        agreements['category'].append(get_dic_name(cat))\n",
    "        agreements['aggreement'].append(agreement)\n",
    "        agreements['n'].append(sum(np.isfinite(vals)))\n",
    "        agreements['true_count'].append(np.nansum(vals))\n",
    "    return pd.DataFrame(agreements)\n",
    "agreement_df = get_agreements(df)\n",
    "temp = get_agreements(df[df['random']])\n",
    "temp.columns = ['category','agreement_random','n_random','true_count_random']\n",
    "agreement_df = agreement_df.merge(temp)\n",
    "temp = get_agreements(df[~df['random']])\n",
    "temp.columns = ['category','agreement_true','n_true','true_count_true']\n",
    "agreement_df = agreement_df.merge(temp)"
   ]
  },
  {
   "cell_type": "code",
   "execution_count": 15,
   "metadata": {},
   "outputs": [
    {
     "data": {
      "text/plain": [
       "0.85"
      ]
     },
     "execution_count": 15,
     "metadata": {},
     "output_type": "execute_result"
    }
   ],
   "source": [
    "all_n = agreement_df.n_true.sum()+agreement_df.n_random.sum() # only two where they got the same id and same \"false\" label\n",
    "n_agg = agreement_df.true_count_true.sum() + agreement_df.agreement_random.sum()\n",
    "n_agg/all_n"
   ]
  },
  {
   "cell_type": "code",
   "execution_count": null,
   "metadata": {
    "collapsed": true
   },
   "outputs": [],
   "source": [
    "matched_categories = [0.0, 1.0, 2.0, 3.0, 4.0, 5.0, 6.0, 7.0, 8.0, 9.0, 10.0, 11.0, 12.0, 13.0]"
   ]
  },
  {
   "cell_type": "code",
   "execution_count": 100,
   "metadata": {},
   "outputs": [
    {
     "data": {
      "text/plain": [
       "510"
      ]
     },
     "execution_count": 100,
     "metadata": {},
     "output_type": "execute_result"
    }
   ],
   "source": [
    "sum(np.random.binomial(1,0.5,size=1000)==np.random.binomial(1,0.5,size=1000))\n"
   ]
  },
  {
   "cell_type": "code",
   "execution_count": 102,
   "metadata": {},
   "outputs": [
    {
     "data": {
      "text/plain": [
       "Culture             80\n",
       "Environment        112\n",
       "Education           93\n",
       "Foreign affairs     97\n",
       "EU                  93\n",
       "Health              98\n",
       "Immigration         95\n",
       "Employment          94\n",
       "Taxes               98\n",
       "Science             94\n",
       "Religion            98\n",
       "Economy             83\n",
       "Crime              103\n",
       "Elder care         104\n",
       "Social policy       98\n",
       "dtype: int64"
      ]
     },
     "execution_count": 102,
     "metadata": {},
     "output_type": "execute_result"
    }
   ],
   "source": [
    "mat.sum(axis=1)"
   ]
  },
  {
   "cell_type": "code",
   "execution_count": 16,
   "metadata": {
    "collapsed": true
   },
   "outputs": [],
   "source": [
    "sample = df.copy()\n",
    "sample['dummy'] = 1\n",
    "n_cats = sample.true_cat.nunique()\n",
    "mat = sample.groupby(['category','true_cat']).dummy.sum().unstack(fill_value=0).stack().values.reshape(n_cats,n_cats)"
   ]
  },
  {
   "cell_type": "code",
   "execution_count": 17,
   "metadata": {
    "collapsed": true
   },
   "outputs": [],
   "source": [
    "#sample[sample.random].shape\n",
    "#702/(225-15)"
   ]
  },
  {
   "cell_type": "code",
   "execution_count": 21,
   "metadata": {},
   "outputs": [],
   "source": [
    "import seaborn as sns\n",
    "%matplotlib inline\n",
    "#sns.heatmap((mat.T/mat.sum(axis=1)).T)"
   ]
  },
  {
   "cell_type": "code",
   "execution_count": 122,
   "metadata": {},
   "outputs": [
    {
     "data": {
      "text/plain": [
       "<matplotlib.axes._subplots.AxesSubplot at 0x29505a6f8d0>"
      ]
     },
     "execution_count": 122,
     "metadata": {},
     "output_type": "execute_result"
    },
    {
     "data": {
      "image/png": "[encoded data removed]",
      "text/plain": [
       "<Figure size 432x288 with 2 Axes>"
      ]
     },
     "metadata": {
      "needs_background": "light"
     },
     "output_type": "display_data"
    }
   ],
   "source": []
  },
  {
   "cell_type": "markdown",
   "metadata": {},
   "source": [
    "## Precision and Recall"
   ]
  },
  {
   "cell_type": "code",
   "execution_count": 211,
   "metadata": {},
   "outputs": [
    {
     "data": {
      "text/plain": [
       "(TRUE\n",
       " False    0.513064\n",
       " True     0.486936\n",
       " Name: weight, dtype: float64, TRUE\n",
       " False    0.509596\n",
       " True     0.490404\n",
       " Name: weight2, dtype: float64)"
      ]
     },
     "execution_count": 211,
     "metadata": {},
     "output_type": "execute_result"
    }
   ],
   "source": [
    "df.groupby('TRUE')['weight'].sum()/df.weight.sum(),df.groupby('TRUE')['weight2'].sum()/df.weight2.sum()"
   ]
  },
  {
   "cell_type": "code",
   "execution_count": 22,
   "metadata": {
    "collapsed": true
   },
   "outputs": [],
   "source": [
    "#(df['TRUE']*df['weight2']).sum()/df['weight2'].sum()"
   ]
  },
  {
   "cell_type": "code",
   "execution_count": null,
   "metadata": {},
   "outputs": [],
   "source": []
  },
  {
   "cell_type": "code",
   "execution_count": 14,
   "metadata": {},
   "outputs": [],
   "source": [
    "sample = df.copy()\n",
    "sample['dummy'] = 1\n",
    "precision_df = pd.DataFrame(sample[~sample.random].groupby('true_cat')['TRUE'].mean()).reset_index()\n",
    "precision_df.columns = ['category','precision']\n",
    "precision_df['label'] = precision_df.category.apply(get_dic_name)#.unstack(fill_value=np.nan)"
   ]
  },
  {
   "cell_type": "code",
   "execution_count": 26,
   "metadata": {},
   "outputs": [],
   "source": [
    "#temp['label'] = temp.category.apply(get_dic_name)"
   ]
  },
  {
   "cell_type": "code",
   "execution_count": 218,
   "metadata": {
    "collapsed": true
   },
   "outputs": [],
   "source": [
    "#temp.sort_values('weighted_precision')"
   ]
  },
  {
   "cell_type": "code",
   "execution_count": 15,
   "metadata": {},
   "outputs": [
    {
     "data": {
      "text/html": [
       "<div>\n",
       "<style scoped>\n",
       "    .dataframe tbody tr th:only-of-type {\n",
       "        vertical-align: middle;\n",
       "    }\n",
       "\n",
       "    .dataframe tbody tr th {\n",
       "        vertical-align: top;\n",
       "    }\n",
       "\n",
       "    .dataframe thead th {\n",
       "        text-align: right;\n",
       "    }\n",
       "</style>\n",
       "<table border=\"1\" class=\"dataframe\">\n",
       "  <thead>\n",
       "    <tr style=\"text-align: right;\">\n",
       "      <th></th>\n",
       "      <th>label</th>\n",
       "      <th>precision</th>\n",
       "    </tr>\n",
       "  </thead>\n",
       "  <tbody>\n",
       "    <tr>\n",
       "      <th>9</th>\n",
       "      <td>Science</td>\n",
       "      <td>0.729167</td>\n",
       "    </tr>\n",
       "    <tr>\n",
       "      <th>12</th>\n",
       "      <td>Crime</td>\n",
       "      <td>0.800000</td>\n",
       "    </tr>\n",
       "    <tr>\n",
       "      <th>5</th>\n",
       "      <td>Health</td>\n",
       "      <td>0.808511</td>\n",
       "    </tr>\n",
       "    <tr>\n",
       "      <th>3</th>\n",
       "      <td>Foreign affairs</td>\n",
       "      <td>0.812500</td>\n",
       "    </tr>\n",
       "    <tr>\n",
       "      <th>11</th>\n",
       "      <td>Economy</td>\n",
       "      <td>0.829268</td>\n",
       "    </tr>\n",
       "    <tr>\n",
       "      <th>13</th>\n",
       "      <td>Elder care</td>\n",
       "      <td>0.844828</td>\n",
       "    </tr>\n",
       "    <tr>\n",
       "      <th>2</th>\n",
       "      <td>Education</td>\n",
       "      <td>0.846154</td>\n",
       "    </tr>\n",
       "    <tr>\n",
       "      <th>4</th>\n",
       "      <td>EU</td>\n",
       "      <td>0.862745</td>\n",
       "    </tr>\n",
       "    <tr>\n",
       "      <th>0</th>\n",
       "      <td>Culture</td>\n",
       "      <td>0.878049</td>\n",
       "    </tr>\n",
       "    <tr>\n",
       "      <th>10</th>\n",
       "      <td>Religion</td>\n",
       "      <td>0.888889</td>\n",
       "    </tr>\n",
       "    <tr>\n",
       "      <th>14</th>\n",
       "      <td>Social policy</td>\n",
       "      <td>0.909091</td>\n",
       "    </tr>\n",
       "    <tr>\n",
       "      <th>8</th>\n",
       "      <td>Taxes</td>\n",
       "      <td>0.914894</td>\n",
       "    </tr>\n",
       "    <tr>\n",
       "      <th>1</th>\n",
       "      <td>Environment</td>\n",
       "      <td>0.932203</td>\n",
       "    </tr>\n",
       "    <tr>\n",
       "      <th>7</th>\n",
       "      <td>Employment</td>\n",
       "      <td>0.942308</td>\n",
       "    </tr>\n",
       "    <tr>\n",
       "      <th>6</th>\n",
       "      <td>Immigration</td>\n",
       "      <td>0.977273</td>\n",
       "    </tr>\n",
       "  </tbody>\n",
       "</table>\n",
       "</div>"
      ],
      "text/plain": [
       "              label  precision\n",
       "9           Science   0.729167\n",
       "12            Crime   0.800000\n",
       "5            Health   0.808511\n",
       "3   Foreign affairs   0.812500\n",
       "11          Economy   0.829268\n",
       "13       Elder care   0.844828\n",
       "2         Education   0.846154\n",
       "4                EU   0.862745\n",
       "0           Culture   0.878049\n",
       "10         Religion   0.888889\n",
       "14    Social policy   0.909091\n",
       "8             Taxes   0.914894\n",
       "1       Environment   0.932203\n",
       "7        Employment   0.942308\n",
       "6       Immigration   0.977273"
      ]
     },
     "execution_count": 15,
     "metadata": {},
     "output_type": "execute_result"
    }
   ],
   "source": [
    "precision_df.sort_values('precision')[['label','precision']]\n"
   ]
  },
  {
   "cell_type": "markdown",
   "metadata": {},
   "source": [
    "## How often was a category overlooked?\n",
    "Use only the ones where the provided label was false. And then see how many times it was believed to be true."
   ]
  },
  {
   "cell_type": "code",
   "execution_count": 30,
   "metadata": {},
   "outputs": [
    {
     "data": {
      "text/html": [
       "<div>\n",
       "<style scoped>\n",
       "    .dataframe tbody tr th:only-of-type {\n",
       "        vertical-align: middle;\n",
       "    }\n",
       "\n",
       "    .dataframe tbody tr th {\n",
       "        vertical-align: top;\n",
       "    }\n",
       "\n",
       "    .dataframe thead th {\n",
       "        text-align: right;\n",
       "    }\n",
       "</style>\n",
       "<table border=\"1\" class=\"dataframe\">\n",
       "  <thead>\n",
       "    <tr style=\"text-align: right;\">\n",
       "      <th></th>\n",
       "      <th>label</th>\n",
       "      <th>recall</th>\n",
       "      <th>weighted_recall</th>\n",
       "    </tr>\n",
       "  </thead>\n",
       "  <tbody>\n",
       "    <tr>\n",
       "      <th>4</th>\n",
       "      <td>EU</td>\n",
       "      <td>1.000000</td>\n",
       "      <td>1.000000</td>\n",
       "    </tr>\n",
       "    <tr>\n",
       "      <th>8</th>\n",
       "      <td>Taxes</td>\n",
       "      <td>1.000000</td>\n",
       "      <td>1.000000</td>\n",
       "    </tr>\n",
       "    <tr>\n",
       "      <th>13</th>\n",
       "      <td>Elder care</td>\n",
       "      <td>0.956522</td>\n",
       "      <td>0.965965</td>\n",
       "    </tr>\n",
       "    <tr>\n",
       "      <th>6</th>\n",
       "      <td>Immigration</td>\n",
       "      <td>0.942308</td>\n",
       "      <td>0.948245</td>\n",
       "    </tr>\n",
       "    <tr>\n",
       "      <th>2</th>\n",
       "      <td>Education</td>\n",
       "      <td>0.930233</td>\n",
       "      <td>0.943659</td>\n",
       "    </tr>\n",
       "    <tr>\n",
       "      <th>5</th>\n",
       "      <td>Health</td>\n",
       "      <td>0.921569</td>\n",
       "      <td>0.935922</td>\n",
       "    </tr>\n",
       "    <tr>\n",
       "      <th>12</th>\n",
       "      <td>Crime</td>\n",
       "      <td>0.915254</td>\n",
       "      <td>0.912128</td>\n",
       "    </tr>\n",
       "    <tr>\n",
       "      <th>9</th>\n",
       "      <td>Science</td>\n",
       "      <td>0.913043</td>\n",
       "      <td>0.893339</td>\n",
       "    </tr>\n",
       "    <tr>\n",
       "      <th>1</th>\n",
       "      <td>Environment</td>\n",
       "      <td>0.907407</td>\n",
       "      <td>0.866701</td>\n",
       "    </tr>\n",
       "    <tr>\n",
       "      <th>0</th>\n",
       "      <td>Culture</td>\n",
       "      <td>0.897436</td>\n",
       "      <td>0.881482</td>\n",
       "    </tr>\n",
       "    <tr>\n",
       "      <th>3</th>\n",
       "      <td>Foreign affairs</td>\n",
       "      <td>0.877551</td>\n",
       "      <td>0.859413</td>\n",
       "    </tr>\n",
       "    <tr>\n",
       "      <th>7</th>\n",
       "      <td>Employment</td>\n",
       "      <td>0.860465</td>\n",
       "      <td>0.879581</td>\n",
       "    </tr>\n",
       "    <tr>\n",
       "      <th>11</th>\n",
       "      <td>Economy</td>\n",
       "      <td>0.833333</td>\n",
       "      <td>0.834409</td>\n",
       "    </tr>\n",
       "    <tr>\n",
       "      <th>10</th>\n",
       "      <td>Religion</td>\n",
       "      <td>0.772727</td>\n",
       "      <td>0.772314</td>\n",
       "    </tr>\n",
       "    <tr>\n",
       "      <th>14</th>\n",
       "      <td>Social policy</td>\n",
       "      <td>0.767442</td>\n",
       "      <td>0.720877</td>\n",
       "    </tr>\n",
       "  </tbody>\n",
       "</table>\n",
       "</div>"
      ],
      "text/plain": [
       "              label    recall  weighted_recall\n",
       "4                EU  1.000000         1.000000\n",
       "8             Taxes  1.000000         1.000000\n",
       "13       Elder care  0.956522         0.965965\n",
       "6       Immigration  0.942308         0.948245\n",
       "2         Education  0.930233         0.943659\n",
       "5            Health  0.921569         0.935922\n",
       "12            Crime  0.915254         0.912128\n",
       "9           Science  0.913043         0.893339\n",
       "1       Environment  0.907407         0.866701\n",
       "0           Culture  0.897436         0.881482\n",
       "3   Foreign affairs  0.877551         0.859413\n",
       "7        Employment  0.860465         0.879581\n",
       "11          Economy  0.833333         0.834409\n",
       "10         Religion  0.772727         0.772314\n",
       "14    Social policy  0.767442         0.720877"
      ]
     },
     "execution_count": 30,
     "metadata": {},
     "output_type": "execute_result"
    },
    {
     "data": {
      "text/plain": [
       "<Figure size 864x576 with 0 Axes>"
      ]
     },
     "metadata": {},
     "output_type": "display_data"
    }
   ],
   "source": [
    "import matplotlib.pyplot as plt\n",
    "def get_weighted(groupdf,ref='true'):\n",
    "  #  print(ref)\n",
    "    if ref=='true':\n",
    "        w = groupdf['weight2'].values\n",
    "        v = groupdf['TRUE'].values*1.0\n",
    "        #print(w.dot(v)/sum(w),sum(v)/len(v),w)\n",
    "        return w.dot(v)/sum(w)\n",
    "        #return ((groupdf.TRUE*1.0) * groupdf['weight']).sum()/groupdf.weight.sum()\n",
    "    if ref=='random':\n",
    "        w = groupdf['weight2'].values\n",
    "        v = groupdf['TRUE'].values*1.0\n",
    "        print(list(zip(v,w,groupdf.category)))\n",
    "   #     print(w.dot(v)/sum(w)==sum(v)/len(v),w)\n",
    "        return w.dot(v)/sum(w)\n",
    "        return ((groupdf.TRUE*1.0) * groupdf['weight2']).sum()/groupdf.weight2.sum()\n",
    "\n",
    "plt.figure(figsize=(12,8))\n",
    "overlooked_df = sample[sample.random].groupby('category')['TRUE'].mean().reset_index()\n",
    "overlooked_df.columns = ['category','percentage']\n",
    "temp = pd.DataFrame(sample[sample.random].groupby('category').apply(get_weighted).reset_index())\n",
    "temp.columns = ['category','weighted_percentage']\n",
    "overlooked_df = overlooked_df.merge(temp)\n",
    "overlooked_df['label'] = overlooked_df.category.apply(get_dic_name)#.unstack(fill_value=np.nan)\n",
    "overlooked_df['recall'] = 1-overlooked_df['percentage']\n",
    "overlooked_df['weighted_recall'] = 1-overlooked_df['weighted_percentage']\n",
    "overlooked_df.sort_values('percentage')[['label','recall','weighted_recall']]\n",
    "\n",
    "#mat.columns = [get_dic_name(i) for i in mat.columns]\n",
    "#mat.index = mat.columns\n",
    "#sns.heatmap(mat,annot=True)"
   ]
  },
  {
   "cell_type": "code",
   "execution_count": 267,
   "metadata": {},
   "outputs": [
    {
     "data": {
      "text/plain": [
       "(0.8941632055972817, 0.8994778651483962)"
      ]
     },
     "execution_count": 267,
     "metadata": {},
     "output_type": "execute_result"
    }
   ],
   "source": [
    "overlooked_df.weighted_recall.mean(),overlooked_df.recall.mean()"
   ]
  },
  {
   "cell_type": "code",
   "execution_count": 33,
   "metadata": {
    "collapsed": true
   },
   "outputs": [],
   "source": [
    "f1_df = overlooked_df.merge(precision_df)"
   ]
  },
  {
   "cell_type": "code",
   "execution_count": 35,
   "metadata": {},
   "outputs": [
    {
     "data": {
      "text/plain": [
       "6"
      ]
     },
     "execution_count": 35,
     "metadata": {},
     "output_type": "execute_result"
    }
   ],
   "source": [
    "np.array([3,2]).prod()"
   ]
  },
  {
   "cell_type": "code",
   "execution_count": 38,
   "metadata": {},
   "outputs": [],
   "source": [
    "f1_df = overlooked_df.merge(precision_df)\n",
    "f1_df['f1'] = f1_df[['precision','weighted_recall']].apply(lambda x: (2*x.prod())/x.sum(),axis=1)"
   ]
  },
  {
   "cell_type": "code",
   "execution_count": 76,
   "metadata": {},
   "outputs": [],
   "source": [
    "\n",
    "#f1_df['f1'] = f1_df[['precision','weighted_recall']].sum(axis=1)/2"
   ]
  },
  {
   "cell_type": "code",
   "execution_count": null,
   "metadata": {},
   "outputs": [],
   "source": []
  },
  {
   "cell_type": "code",
   "execution_count": 42,
   "metadata": {
    "collapsed": true
   },
   "outputs": [],
   "source": [
    "f1_df['category'] = f1_df.label"
   ]
  },
  {
   "cell_type": "code",
   "execution_count": 73,
   "metadata": {},
   "outputs": [],
   "source": [
    "f1_df.to_csv('category2performance.csv',index=False)"
   ]
  },
  {
   "cell_type": "code",
   "execution_count": 43,
   "metadata": {},
   "outputs": [
    {
     "name": "stdout",
     "output_type": "stream",
     "text": [
      "| category        |   f1 |   precision |   weighted_recall |\n",
      "|:----------------|-----:|------------:|------------------:|\n",
      "| Immigration     | 0.96 |        0.98 |              0.95 |\n",
      "| Taxes           | 0.96 |        0.91 |              1    |\n",
      "| EU              | 0.93 |        0.86 |              1    |\n",
      "| Employment      | 0.91 |        0.94 |              0.88 |\n",
      "| Elder care      | 0.9  |        0.84 |              0.97 |\n",
      "| Environment     | 0.9  |        0.93 |              0.87 |\n",
      "| Education       | 0.89 |        0.85 |              0.94 |\n",
      "| Culture         | 0.88 |        0.88 |              0.88 |\n",
      "| Health          | 0.87 |        0.81 |              0.94 |\n",
      "| Crime           | 0.85 |        0.8  |              0.91 |\n",
      "| Foreign affairs | 0.84 |        0.81 |              0.86 |\n",
      "| Economy         | 0.83 |        0.83 |              0.83 |\n",
      "| Religion        | 0.83 |        0.89 |              0.77 |\n",
      "| Social policy   | 0.8  |        0.91 |              0.72 |\n",
      "| Science         | 0.8  |        0.73 |              0.89 |\n"
     ]
    }
   ],
   "source": [
    "import tabulate\n",
    "print(tabulate.tabulate(f1_df.sort_values('f1',ascending=False)[['category','f1','precision','weighted_recall']], tablefmt=\"pipe\"\n",
    "                        , headers=\"keys\",showindex=False,floatfmt='.2g'))\n",
    "#f1_df.sort_values('f1')[['label','f1','precision','weighted_recall']]"
   ]
  },
  {
   "cell_type": "code",
   "execution_count": null,
   "metadata": {},
   "outputs": [],
   "source": []
  },
  {
   "cell_type": "code",
   "execution_count": null,
   "metadata": {
    "collapsed": true
   },
   "outputs": [],
   "source": []
  },
  {
   "cell_type": "code",
   "execution_count": null,
   "metadata": {
    "collapsed": true
   },
   "outputs": [],
   "source": [
    "plt.figure(figsize=(12,8))\n",
    "mat = sample[sample.random].groupby(['category','category'])['TRUE'].mean().unstack(fill_value=np.nan)\n",
    "mat.columns = [get_dic_name(i) for i in mat.columns]\n",
    "mat.index = mat.columns\n",
    "sns.heatmap(mat,annot=True)"
   ]
  },
  {
   "cell_type": "code",
   "execution_count": 46,
   "metadata": {},
   "outputs": [
    {
     "data": {
      "image/png": "[encoded data removed]",
      "text/plain": [
       "<Figure size 864x576 with 2 Axes>"
      ]
     },
     "metadata": {},
     "output_type": "display_data"
    }
   ],
   "source": [
    "plt.figure(figsize=(12,8))\n",
    "mat = sample[sample.random].groupby(['true_cat','category'])['TRUE'].mean().unstack(fill_value=np.nan)\n",
    "mat.columns = [get_dic_name(i) for i in mat.columns]\n",
    "mat.index = mat.columns\n",
    "sns.heatmap(mat,annot=True)\n",
    "plt.savefig('output/descriptives/confusion_matrix_dictionaries.png')"
   ]
  },
  {
   "cell_type": "code",
   "execution_count": 136,
   "metadata": {},
   "outputs": [
    {
     "data": {
      "text/plain": [
       "<matplotlib.axes._subplots.AxesSubplot at 0x2950663b518>"
      ]
     },
     "execution_count": 136,
     "metadata": {},
     "output_type": "execute_result"
    },
    {
     "data": {
      "image/png": "[encoded data removed]",
      "text/plain": [
       "<Figure size 864x576 with 2 Axes>"
      ]
     },
     "metadata": {
      "needs_background": "light"
     },
     "output_type": "display_data"
    }
   ],
   "source": [
    "plt.figure(figsize=(12,8))\n",
    "mat = sample[sample.random].groupby(['true_cat','category'])['TRUE'].mean().unstack(fill_value=np.nan)\n",
    "mat.columns = [get_dic_name(i) for i in mat.columns]\n",
    "mat.index = mat.columns\n",
    "sns.heatmap(mat,annot=True)"
   ]
  },
  {
   "cell_type": "code",
   "execution_count": 130,
   "metadata": {},
   "outputs": [
    {
     "data": {
      "text/plain": [
       "<matplotlib.axes._subplots.AxesSubplot at 0x29505edc0b8>"
      ]
     },
     "execution_count": 130,
     "metadata": {},
     "output_type": "execute_result"
    },
    {
     "data": {
      "image/png": "[encoded data removed]",
      "text/plain": [
       "<Figure size 864x576 with 2 Axes>"
      ]
     },
     "metadata": {
      "needs_background": "light"
     },
     "output_type": "display_data"
    }
   ],
   "source": [
    "plt.figure(figsize=(12,8))\n",
    "sns.heatmap(sample[sample.random].groupby(['true_cat','category'])['TRUE'].size().unstack(fill_value=0),annot=True)"
   ]
  },
  {
   "cell_type": "code",
   "execution_count": 118,
   "metadata": {},
   "outputs": [
    {
     "data": {
      "text/html": [
       "<div>\n",
       "<style scoped>\n",
       "    .dataframe tbody tr th:only-of-type {\n",
       "        vertical-align: middle;\n",
       "    }\n",
       "\n",
       "    .dataframe tbody tr th {\n",
       "        vertical-align: top;\n",
       "    }\n",
       "\n",
       "    .dataframe thead th {\n",
       "        text-align: right;\n",
       "    }\n",
       "</style>\n",
       "<table border=\"1\" class=\"dataframe\">\n",
       "  <thead>\n",
       "    <tr style=\"text-align: right;\">\n",
       "      <th></th>\n",
       "      <th>category</th>\n",
       "      <th>classes</th>\n",
       "      <th>coder</th>\n",
       "      <th>id</th>\n",
       "      <th>t</th>\n",
       "      <th>t2</th>\n",
       "      <th>true</th>\n",
       "      <th>true_cat</th>\n",
       "      <th>TRUE</th>\n",
       "      <th>0</th>\n",
       "      <th>...</th>\n",
       "      <th>7</th>\n",
       "      <th>8</th>\n",
       "      <th>9</th>\n",
       "      <th>10</th>\n",
       "      <th>11</th>\n",
       "      <th>12</th>\n",
       "      <th>13</th>\n",
       "      <th>14</th>\n",
       "      <th>random</th>\n",
       "      <th>dummy</th>\n",
       "    </tr>\n",
       "  </thead>\n",
       "  <tbody>\n",
       "    <tr>\n",
       "      <th>0</th>\n",
       "      <td>12</td>\n",
       "      <td>NaN</td>\n",
       "      <td>slf</td>\n",
       "      <td>561507140593570_712142265530056</td>\n",
       "      <td>1.529651e+09</td>\n",
       "      <td>NaN</td>\n",
       "      <td></td>\n",
       "      <td>7</td>\n",
       "      <td>False</td>\n",
       "      <td>NaN</td>\n",
       "      <td>...</td>\n",
       "      <td>NaN</td>\n",
       "      <td>NaN</td>\n",
       "      <td>NaN</td>\n",
       "      <td>NaN</td>\n",
       "      <td>NaN</td>\n",
       "      <td>0.0</td>\n",
       "      <td>NaN</td>\n",
       "      <td>NaN</td>\n",
       "      <td>True</td>\n",
       "      <td>1</td>\n",
       "    </tr>\n",
       "    <tr>\n",
       "      <th>1</th>\n",
       "      <td>13</td>\n",
       "      <td>NaN</td>\n",
       "      <td>slf</td>\n",
       "      <td>561507140593570_817890808288534</td>\n",
       "      <td>1.529651e+09</td>\n",
       "      <td>NaN</td>\n",
       "      <td></td>\n",
       "      <td>13</td>\n",
       "      <td>False</td>\n",
       "      <td>NaN</td>\n",
       "      <td>...</td>\n",
       "      <td>NaN</td>\n",
       "      <td>NaN</td>\n",
       "      <td>NaN</td>\n",
       "      <td>NaN</td>\n",
       "      <td>NaN</td>\n",
       "      <td>NaN</td>\n",
       "      <td>0.0</td>\n",
       "      <td>NaN</td>\n",
       "      <td>False</td>\n",
       "      <td>1</td>\n",
       "    </tr>\n",
       "    <tr>\n",
       "      <th>2</th>\n",
       "      <td>7</td>\n",
       "      <td>NaN</td>\n",
       "      <td>slf</td>\n",
       "      <td>335987446552987_568416216643441</td>\n",
       "      <td>1.529651e+09</td>\n",
       "      <td>NaN</td>\n",
       "      <td>y</td>\n",
       "      <td>7</td>\n",
       "      <td>True</td>\n",
       "      <td>NaN</td>\n",
       "      <td>...</td>\n",
       "      <td>1.0</td>\n",
       "      <td>NaN</td>\n",
       "      <td>NaN</td>\n",
       "      <td>NaN</td>\n",
       "      <td>NaN</td>\n",
       "      <td>NaN</td>\n",
       "      <td>NaN</td>\n",
       "      <td>NaN</td>\n",
       "      <td>False</td>\n",
       "      <td>1</td>\n",
       "    </tr>\n",
       "    <tr>\n",
       "      <th>3</th>\n",
       "      <td>12</td>\n",
       "      <td>NaN</td>\n",
       "      <td>slf</td>\n",
       "      <td>223155564511824_481816371979074</td>\n",
       "      <td>1.529651e+09</td>\n",
       "      <td>NaN</td>\n",
       "      <td></td>\n",
       "      <td>11</td>\n",
       "      <td>False</td>\n",
       "      <td>NaN</td>\n",
       "      <td>...</td>\n",
       "      <td>NaN</td>\n",
       "      <td>NaN</td>\n",
       "      <td>NaN</td>\n",
       "      <td>NaN</td>\n",
       "      <td>NaN</td>\n",
       "      <td>0.0</td>\n",
       "      <td>NaN</td>\n",
       "      <td>NaN</td>\n",
       "      <td>True</td>\n",
       "      <td>1</td>\n",
       "    </tr>\n",
       "    <tr>\n",
       "      <th>4</th>\n",
       "      <td>9</td>\n",
       "      <td>NaN</td>\n",
       "      <td>slf</td>\n",
       "      <td>411433282329295_670352776437343</td>\n",
       "      <td>1.529651e+09</td>\n",
       "      <td>NaN</td>\n",
       "      <td></td>\n",
       "      <td>9</td>\n",
       "      <td>False</td>\n",
       "      <td>NaN</td>\n",
       "      <td>...</td>\n",
       "      <td>NaN</td>\n",
       "      <td>NaN</td>\n",
       "      <td>0.0</td>\n",
       "      <td>NaN</td>\n",
       "      <td>NaN</td>\n",
       "      <td>NaN</td>\n",
       "      <td>NaN</td>\n",
       "      <td>NaN</td>\n",
       "      <td>False</td>\n",
       "      <td>1</td>\n",
       "    </tr>\n",
       "    <tr>\n",
       "      <th>5</th>\n",
       "      <td>0</td>\n",
       "      <td>NaN</td>\n",
       "      <td>slf</td>\n",
       "      <td>952334508116178_1431056290243995</td>\n",
       "      <td>1.529651e+09</td>\n",
       "      <td>NaN</td>\n",
       "      <td></td>\n",
       "      <td>2</td>\n",
       "      <td>False</td>\n",
       "      <td>0.0</td>\n",
       "      <td>...</td>\n",
       "      <td>NaN</td>\n",
       "      <td>NaN</td>\n",
       "      <td>NaN</td>\n",
       "      <td>NaN</td>\n",
       "      <td>NaN</td>\n",
       "      <td>NaN</td>\n",
       "      <td>NaN</td>\n",
       "      <td>NaN</td>\n",
       "      <td>True</td>\n",
       "      <td>1</td>\n",
       "    </tr>\n",
       "    <tr>\n",
       "      <th>6</th>\n",
       "      <td>13</td>\n",
       "      <td>NaN</td>\n",
       "      <td>slf</td>\n",
       "      <td>547569822031033_801801699941176</td>\n",
       "      <td>1.529652e+09</td>\n",
       "      <td>NaN</td>\n",
       "      <td></td>\n",
       "      <td>9</td>\n",
       "      <td>False</td>\n",
       "      <td>NaN</td>\n",
       "      <td>...</td>\n",
       "      <td>NaN</td>\n",
       "      <td>NaN</td>\n",
       "      <td>NaN</td>\n",
       "      <td>NaN</td>\n",
       "      <td>NaN</td>\n",
       "      <td>NaN</td>\n",
       "      <td>0.0</td>\n",
       "      <td>NaN</td>\n",
       "      <td>True</td>\n",
       "      <td>1</td>\n",
       "    </tr>\n",
       "    <tr>\n",
       "      <th>7</th>\n",
       "      <td>5</td>\n",
       "      <td>NaN</td>\n",
       "      <td>slf</td>\n",
       "      <td>143586919135944_211105255717443</td>\n",
       "      <td>1.529652e+09</td>\n",
       "      <td>NaN</td>\n",
       "      <td>y</td>\n",
       "      <td>13</td>\n",
       "      <td>True</td>\n",
       "      <td>NaN</td>\n",
       "      <td>...</td>\n",
       "      <td>NaN</td>\n",
       "      <td>NaN</td>\n",
       "      <td>NaN</td>\n",
       "      <td>NaN</td>\n",
       "      <td>NaN</td>\n",
       "      <td>NaN</td>\n",
       "      <td>NaN</td>\n",
       "      <td>NaN</td>\n",
       "      <td>True</td>\n",
       "      <td>1</td>\n",
       "    </tr>\n",
       "    <tr>\n",
       "      <th>8</th>\n",
       "      <td>13</td>\n",
       "      <td>NaN</td>\n",
       "      <td>slf</td>\n",
       "      <td>384119014960360_807201919318732</td>\n",
       "      <td>1.529652e+09</td>\n",
       "      <td>NaN</td>\n",
       "      <td></td>\n",
       "      <td>8</td>\n",
       "      <td>False</td>\n",
       "      <td>NaN</td>\n",
       "      <td>...</td>\n",
       "      <td>NaN</td>\n",
       "      <td>NaN</td>\n",
       "      <td>NaN</td>\n",
       "      <td>NaN</td>\n",
       "      <td>NaN</td>\n",
       "      <td>NaN</td>\n",
       "      <td>0.0</td>\n",
       "      <td>NaN</td>\n",
       "      <td>True</td>\n",
       "      <td>1</td>\n",
       "    </tr>\n",
       "    <tr>\n",
       "      <th>9</th>\n",
       "      <td>2</td>\n",
       "      <td>NaN</td>\n",
       "      <td>slf</td>\n",
       "      <td>252520351444054_1150260818336665</td>\n",
       "      <td>1.529652e+09</td>\n",
       "      <td>NaN</td>\n",
       "      <td></td>\n",
       "      <td>0</td>\n",
       "      <td>False</td>\n",
       "      <td>NaN</td>\n",
       "      <td>...</td>\n",
       "      <td>NaN</td>\n",
       "      <td>NaN</td>\n",
       "      <td>NaN</td>\n",
       "      <td>NaN</td>\n",
       "      <td>NaN</td>\n",
       "      <td>NaN</td>\n",
       "      <td>NaN</td>\n",
       "      <td>NaN</td>\n",
       "      <td>True</td>\n",
       "      <td>1</td>\n",
       "    </tr>\n",
       "    <tr>\n",
       "      <th>10</th>\n",
       "      <td>6</td>\n",
       "      <td>NaN</td>\n",
       "      <td>slf</td>\n",
       "      <td>382423298493731_599284426807616</td>\n",
       "      <td>1.529652e+09</td>\n",
       "      <td>NaN</td>\n",
       "      <td></td>\n",
       "      <td>4</td>\n",
       "      <td>False</td>\n",
       "      <td>NaN</td>\n",
       "      <td>...</td>\n",
       "      <td>NaN</td>\n",
       "      <td>NaN</td>\n",
       "      <td>NaN</td>\n",
       "      <td>NaN</td>\n",
       "      <td>NaN</td>\n",
       "      <td>NaN</td>\n",
       "      <td>NaN</td>\n",
       "      <td>NaN</td>\n",
       "      <td>True</td>\n",
       "      <td>1</td>\n",
       "    </tr>\n",
       "    <tr>\n",
       "      <th>11</th>\n",
       "      <td>9</td>\n",
       "      <td>NaN</td>\n",
       "      <td>slf</td>\n",
       "      <td>684213871706672_684381588356567</td>\n",
       "      <td>1.529652e+09</td>\n",
       "      <td>NaN</td>\n",
       "      <td>y</td>\n",
       "      <td>1</td>\n",
       "      <td>True</td>\n",
       "      <td>NaN</td>\n",
       "      <td>...</td>\n",
       "      <td>NaN</td>\n",
       "      <td>NaN</td>\n",
       "      <td>1.0</td>\n",
       "      <td>NaN</td>\n",
       "      <td>NaN</td>\n",
       "      <td>NaN</td>\n",
       "      <td>NaN</td>\n",
       "      <td>NaN</td>\n",
       "      <td>True</td>\n",
       "      <td>1</td>\n",
       "    </tr>\n",
       "    <tr>\n",
       "      <th>12</th>\n",
       "      <td>5</td>\n",
       "      <td>NaN</td>\n",
       "      <td>slf</td>\n",
       "      <td>1443332985924729_1476542442603783</td>\n",
       "      <td>1.529652e+09</td>\n",
       "      <td>NaN</td>\n",
       "      <td></td>\n",
       "      <td>7</td>\n",
       "      <td>False</td>\n",
       "      <td>NaN</td>\n",
       "      <td>...</td>\n",
       "      <td>NaN</td>\n",
       "      <td>NaN</td>\n",
       "      <td>NaN</td>\n",
       "      <td>NaN</td>\n",
       "      <td>NaN</td>\n",
       "      <td>NaN</td>\n",
       "      <td>NaN</td>\n",
       "      <td>NaN</td>\n",
       "      <td>True</td>\n",
       "      <td>1</td>\n",
       "    </tr>\n",
       "    <tr>\n",
       "      <th>13</th>\n",
       "      <td>6</td>\n",
       "      <td>NaN</td>\n",
       "      <td>slf</td>\n",
       "      <td>69985338410_10153551349693411</td>\n",
       "      <td>1.529652e+09</td>\n",
       "      <td>NaN</td>\n",
       "      <td>y</td>\n",
       "      <td>6</td>\n",
       "      <td>True</td>\n",
       "      <td>NaN</td>\n",
       "      <td>...</td>\n",
       "      <td>NaN</td>\n",
       "      <td>NaN</td>\n",
       "      <td>NaN</td>\n",
       "      <td>NaN</td>\n",
       "      <td>NaN</td>\n",
       "      <td>NaN</td>\n",
       "      <td>NaN</td>\n",
       "      <td>NaN</td>\n",
       "      <td>False</td>\n",
       "      <td>1</td>\n",
       "    </tr>\n",
       "    <tr>\n",
       "      <th>14</th>\n",
       "      <td>14</td>\n",
       "      <td>NaN</td>\n",
       "      <td>slf</td>\n",
       "      <td>120358338059856_1128700873892259</td>\n",
       "      <td>1.529652e+09</td>\n",
       "      <td>NaN</td>\n",
       "      <td>y</td>\n",
       "      <td>14</td>\n",
       "      <td>True</td>\n",
       "      <td>NaN</td>\n",
       "      <td>...</td>\n",
       "      <td>NaN</td>\n",
       "      <td>NaN</td>\n",
       "      <td>NaN</td>\n",
       "      <td>NaN</td>\n",
       "      <td>NaN</td>\n",
       "      <td>NaN</td>\n",
       "      <td>NaN</td>\n",
       "      <td>1.0</td>\n",
       "      <td>False</td>\n",
       "      <td>1</td>\n",
       "    </tr>\n",
       "    <tr>\n",
       "      <th>15</th>\n",
       "      <td>9</td>\n",
       "      <td>NaN</td>\n",
       "      <td>slf</td>\n",
       "      <td>150605885088629_500697123412835</td>\n",
       "      <td>1.529652e+09</td>\n",
       "      <td>NaN</td>\n",
       "      <td>y</td>\n",
       "      <td>11</td>\n",
       "      <td>True</td>\n",
       "      <td>NaN</td>\n",
       "      <td>...</td>\n",
       "      <td>NaN</td>\n",
       "      <td>NaN</td>\n",
       "      <td>1.0</td>\n",
       "      <td>NaN</td>\n",
       "      <td>NaN</td>\n",
       "      <td>NaN</td>\n",
       "      <td>NaN</td>\n",
       "      <td>NaN</td>\n",
       "      <td>True</td>\n",
       "      <td>1</td>\n",
       "    </tr>\n",
       "    <tr>\n",
       "      <th>16</th>\n",
       "      <td>2</td>\n",
       "      <td>NaN</td>\n",
       "      <td>slf</td>\n",
       "      <td>139443622778678_336770109712694</td>\n",
       "      <td>1.529652e+09</td>\n",
       "      <td>NaN</td>\n",
       "      <td></td>\n",
       "      <td>3</td>\n",
       "      <td>False</td>\n",
       "      <td>NaN</td>\n",
       "      <td>...</td>\n",
       "      <td>NaN</td>\n",
       "      <td>NaN</td>\n",
       "      <td>NaN</td>\n",
       "      <td>NaN</td>\n",
       "      <td>NaN</td>\n",
       "      <td>NaN</td>\n",
       "      <td>NaN</td>\n",
       "      <td>NaN</td>\n",
       "      <td>True</td>\n",
       "      <td>1</td>\n",
       "    </tr>\n",
       "    <tr>\n",
       "      <th>17</th>\n",
       "      <td>2</td>\n",
       "      <td>NaN</td>\n",
       "      <td>slf</td>\n",
       "      <td>1632661713611931_1809348495943251</td>\n",
       "      <td>1.529652e+09</td>\n",
       "      <td>NaN</td>\n",
       "      <td>y</td>\n",
       "      <td>2</td>\n",
       "      <td>True</td>\n",
       "      <td>NaN</td>\n",
       "      <td>...</td>\n",
       "      <td>NaN</td>\n",
       "      <td>NaN</td>\n",
       "      <td>NaN</td>\n",
       "      <td>NaN</td>\n",
       "      <td>NaN</td>\n",
       "      <td>NaN</td>\n",
       "      <td>NaN</td>\n",
       "      <td>NaN</td>\n",
       "      <td>False</td>\n",
       "      <td>1</td>\n",
       "    </tr>\n",
       "    <tr>\n",
       "      <th>18</th>\n",
       "      <td>14</td>\n",
       "      <td>NaN</td>\n",
       "      <td>slf</td>\n",
       "      <td>442403485851495_616573908434451</td>\n",
       "      <td>1.529652e+09</td>\n",
       "      <td>NaN</td>\n",
       "      <td></td>\n",
       "      <td>12</td>\n",
       "      <td>False</td>\n",
       "      <td>NaN</td>\n",
       "      <td>...</td>\n",
       "      <td>NaN</td>\n",
       "      <td>NaN</td>\n",
       "      <td>NaN</td>\n",
       "      <td>NaN</td>\n",
       "      <td>NaN</td>\n",
       "      <td>NaN</td>\n",
       "      <td>NaN</td>\n",
       "      <td>0.0</td>\n",
       "      <td>True</td>\n",
       "      <td>1</td>\n",
       "    </tr>\n",
       "    <tr>\n",
       "      <th>19</th>\n",
       "      <td>0</td>\n",
       "      <td>NaN</td>\n",
       "      <td>slf</td>\n",
       "      <td>676061179094769_1392037914402812</td>\n",
       "      <td>1.529653e+09</td>\n",
       "      <td>NaN</td>\n",
       "      <td></td>\n",
       "      <td>6</td>\n",
       "      <td>False</td>\n",
       "      <td>0.0</td>\n",
       "      <td>...</td>\n",
       "      <td>NaN</td>\n",
       "      <td>NaN</td>\n",
       "      <td>NaN</td>\n",
       "      <td>NaN</td>\n",
       "      <td>NaN</td>\n",
       "      <td>NaN</td>\n",
       "      <td>NaN</td>\n",
       "      <td>NaN</td>\n",
       "      <td>True</td>\n",
       "      <td>1</td>\n",
       "    </tr>\n",
       "    <tr>\n",
       "      <th>20</th>\n",
       "      <td>5</td>\n",
       "      <td>NaN</td>\n",
       "      <td>slf</td>\n",
       "      <td>1384921248388622_1886453858235356</td>\n",
       "      <td>1.529653e+09</td>\n",
       "      <td>NaN</td>\n",
       "      <td>y</td>\n",
       "      <td>5</td>\n",
       "      <td>True</td>\n",
       "      <td>NaN</td>\n",
       "      <td>...</td>\n",
       "      <td>NaN</td>\n",
       "      <td>NaN</td>\n",
       "      <td>NaN</td>\n",
       "      <td>NaN</td>\n",
       "      <td>NaN</td>\n",
       "      <td>NaN</td>\n",
       "      <td>NaN</td>\n",
       "      <td>NaN</td>\n",
       "      <td>False</td>\n",
       "      <td>1</td>\n",
       "    </tr>\n",
       "    <tr>\n",
       "      <th>21</th>\n",
       "      <td>2</td>\n",
       "      <td>NaN</td>\n",
       "      <td>slf</td>\n",
       "      <td>127344360615074_1731903476825813</td>\n",
       "      <td>1.529653e+09</td>\n",
       "      <td>NaN</td>\n",
       "      <td>y</td>\n",
       "      <td>2</td>\n",
       "      <td>True</td>\n",
       "      <td>NaN</td>\n",
       "      <td>...</td>\n",
       "      <td>NaN</td>\n",
       "      <td>NaN</td>\n",
       "      <td>NaN</td>\n",
       "      <td>NaN</td>\n",
       "      <td>NaN</td>\n",
       "      <td>NaN</td>\n",
       "      <td>NaN</td>\n",
       "      <td>NaN</td>\n",
       "      <td>False</td>\n",
       "      <td>1</td>\n",
       "    </tr>\n",
       "    <tr>\n",
       "      <th>22</th>\n",
       "      <td>8</td>\n",
       "      <td>NaN</td>\n",
       "      <td>slf</td>\n",
       "      <td>144447802432216_214850062058656</td>\n",
       "      <td>1.529653e+09</td>\n",
       "      <td>NaN</td>\n",
       "      <td>y</td>\n",
       "      <td>8</td>\n",
       "      <td>True</td>\n",
       "      <td>NaN</td>\n",
       "      <td>...</td>\n",
       "      <td>NaN</td>\n",
       "      <td>1.0</td>\n",
       "      <td>NaN</td>\n",
       "      <td>NaN</td>\n",
       "      <td>NaN</td>\n",
       "      <td>NaN</td>\n",
       "      <td>NaN</td>\n",
       "      <td>NaN</td>\n",
       "      <td>False</td>\n",
       "      <td>1</td>\n",
       "    </tr>\n",
       "    <tr>\n",
       "      <th>23</th>\n",
       "      <td>8</td>\n",
       "      <td>NaN</td>\n",
       "      <td>slf</td>\n",
       "      <td>309867232515766_635029536666199</td>\n",
       "      <td>1.529653e+09</td>\n",
       "      <td>NaN</td>\n",
       "      <td></td>\n",
       "      <td>0</td>\n",
       "      <td>False</td>\n",
       "      <td>NaN</td>\n",
       "      <td>...</td>\n",
       "      <td>NaN</td>\n",
       "      <td>0.0</td>\n",
       "      <td>NaN</td>\n",
       "      <td>NaN</td>\n",
       "      <td>NaN</td>\n",
       "      <td>NaN</td>\n",
       "      <td>NaN</td>\n",
       "      <td>NaN</td>\n",
       "      <td>True</td>\n",
       "      <td>1</td>\n",
       "    </tr>\n",
       "    <tr>\n",
       "      <th>24</th>\n",
       "      <td>5</td>\n",
       "      <td>NaN</td>\n",
       "      <td>slf</td>\n",
       "      <td>965507816809254_1732532223440139</td>\n",
       "      <td>1.529653e+09</td>\n",
       "      <td>NaN</td>\n",
       "      <td></td>\n",
       "      <td>5</td>\n",
       "      <td>False</td>\n",
       "      <td>NaN</td>\n",
       "      <td>...</td>\n",
       "      <td>NaN</td>\n",
       "      <td>NaN</td>\n",
       "      <td>NaN</td>\n",
       "      <td>NaN</td>\n",
       "      <td>NaN</td>\n",
       "      <td>NaN</td>\n",
       "      <td>NaN</td>\n",
       "      <td>NaN</td>\n",
       "      <td>False</td>\n",
       "      <td>1</td>\n",
       "    </tr>\n",
       "    <tr>\n",
       "      <th>25</th>\n",
       "      <td>1</td>\n",
       "      <td>NaN</td>\n",
       "      <td>slf</td>\n",
       "      <td>118948271632865_420403648153991</td>\n",
       "      <td>1.529653e+09</td>\n",
       "      <td>NaN</td>\n",
       "      <td></td>\n",
       "      <td>7</td>\n",
       "      <td>False</td>\n",
       "      <td>NaN</td>\n",
       "      <td>...</td>\n",
       "      <td>NaN</td>\n",
       "      <td>NaN</td>\n",
       "      <td>NaN</td>\n",
       "      <td>NaN</td>\n",
       "      <td>NaN</td>\n",
       "      <td>NaN</td>\n",
       "      <td>NaN</td>\n",
       "      <td>NaN</td>\n",
       "      <td>True</td>\n",
       "      <td>1</td>\n",
       "    </tr>\n",
       "    <tr>\n",
       "      <th>26</th>\n",
       "      <td>8</td>\n",
       "      <td>NaN</td>\n",
       "      <td>slf</td>\n",
       "      <td>120358338059856_199931183435904</td>\n",
       "      <td>1.529653e+09</td>\n",
       "      <td>NaN</td>\n",
       "      <td>y</td>\n",
       "      <td>8</td>\n",
       "      <td>True</td>\n",
       "      <td>NaN</td>\n",
       "      <td>...</td>\n",
       "      <td>NaN</td>\n",
       "      <td>1.0</td>\n",
       "      <td>NaN</td>\n",
       "      <td>NaN</td>\n",
       "      <td>NaN</td>\n",
       "      <td>NaN</td>\n",
       "      <td>NaN</td>\n",
       "      <td>NaN</td>\n",
       "      <td>False</td>\n",
       "      <td>1</td>\n",
       "    </tr>\n",
       "    <tr>\n",
       "      <th>27</th>\n",
       "      <td>7</td>\n",
       "      <td>NaN</td>\n",
       "      <td>slf</td>\n",
       "      <td>120358338059856_911978328897849</td>\n",
       "      <td>1.529653e+09</td>\n",
       "      <td>NaN</td>\n",
       "      <td>y</td>\n",
       "      <td>7</td>\n",
       "      <td>True</td>\n",
       "      <td>NaN</td>\n",
       "      <td>...</td>\n",
       "      <td>1.0</td>\n",
       "      <td>NaN</td>\n",
       "      <td>NaN</td>\n",
       "      <td>NaN</td>\n",
       "      <td>NaN</td>\n",
       "      <td>NaN</td>\n",
       "      <td>NaN</td>\n",
       "      <td>NaN</td>\n",
       "      <td>False</td>\n",
       "      <td>1</td>\n",
       "    </tr>\n",
       "    <tr>\n",
       "      <th>28</th>\n",
       "      <td>9</td>\n",
       "      <td>NaN</td>\n",
       "      <td>slf</td>\n",
       "      <td>39576149556_10151845911514557</td>\n",
       "      <td>1.529653e+09</td>\n",
       "      <td>NaN</td>\n",
       "      <td></td>\n",
       "      <td>9</td>\n",
       "      <td>False</td>\n",
       "      <td>NaN</td>\n",
       "      <td>...</td>\n",
       "      <td>NaN</td>\n",
       "      <td>NaN</td>\n",
       "      <td>0.0</td>\n",
       "      <td>NaN</td>\n",
       "      <td>NaN</td>\n",
       "      <td>NaN</td>\n",
       "      <td>NaN</td>\n",
       "      <td>NaN</td>\n",
       "      <td>False</td>\n",
       "      <td>1</td>\n",
       "    </tr>\n",
       "    <tr>\n",
       "      <th>29</th>\n",
       "      <td>5</td>\n",
       "      <td>NaN</td>\n",
       "      <td>slf</td>\n",
       "      <td>181106225260438_1127623937275324</td>\n",
       "      <td>1.529653e+09</td>\n",
       "      <td>NaN</td>\n",
       "      <td>y</td>\n",
       "      <td>5</td>\n",
       "      <td>True</td>\n",
       "      <td>NaN</td>\n",
       "      <td>...</td>\n",
       "      <td>NaN</td>\n",
       "      <td>NaN</td>\n",
       "      <td>NaN</td>\n",
       "      <td>NaN</td>\n",
       "      <td>NaN</td>\n",
       "      <td>NaN</td>\n",
       "      <td>NaN</td>\n",
       "      <td>NaN</td>\n",
       "      <td>False</td>\n",
       "      <td>1</td>\n",
       "    </tr>\n",
       "    <tr>\n",
       "      <th>...</th>\n",
       "      <td>...</td>\n",
       "      <td>...</td>\n",
       "      <td>...</td>\n",
       "      <td>...</td>\n",
       "      <td>...</td>\n",
       "      <td>...</td>\n",
       "      <td>...</td>\n",
       "      <td>...</td>\n",
       "      <td>...</td>\n",
       "      <td>...</td>\n",
       "      <td>...</td>\n",
       "      <td>...</td>\n",
       "      <td>...</td>\n",
       "      <td>...</td>\n",
       "      <td>...</td>\n",
       "      <td>...</td>\n",
       "      <td>...</td>\n",
       "      <td>...</td>\n",
       "      <td>...</td>\n",
       "      <td>...</td>\n",
       "      <td>...</td>\n",
       "    </tr>\n",
       "    <tr>\n",
       "      <th>1410</th>\n",
       "      <td>5</td>\n",
       "      <td>[5]</td>\n",
       "      <td>ss</td>\n",
       "      <td>331406263723146_382480091949096</td>\n",
       "      <td>1.529828e+09</td>\n",
       "      <td>1.529828e+09</td>\n",
       "      <td>y</td>\n",
       "      <td>5</td>\n",
       "      <td>True</td>\n",
       "      <td>NaN</td>\n",
       "      <td>...</td>\n",
       "      <td>NaN</td>\n",
       "      <td>NaN</td>\n",
       "      <td>NaN</td>\n",
       "      <td>NaN</td>\n",
       "      <td>NaN</td>\n",
       "      <td>NaN</td>\n",
       "      <td>NaN</td>\n",
       "      <td>NaN</td>\n",
       "      <td>False</td>\n",
       "      <td>1</td>\n",
       "    </tr>\n",
       "    <tr>\n",
       "      <th>1411</th>\n",
       "      <td>11</td>\n",
       "      <td>[11]</td>\n",
       "      <td>ss</td>\n",
       "      <td>461364607347621_490753244408757</td>\n",
       "      <td>1.529828e+09</td>\n",
       "      <td>1.529828e+09</td>\n",
       "      <td>y</td>\n",
       "      <td>11</td>\n",
       "      <td>True</td>\n",
       "      <td>NaN</td>\n",
       "      <td>...</td>\n",
       "      <td>NaN</td>\n",
       "      <td>NaN</td>\n",
       "      <td>NaN</td>\n",
       "      <td>NaN</td>\n",
       "      <td>1.0</td>\n",
       "      <td>NaN</td>\n",
       "      <td>NaN</td>\n",
       "      <td>NaN</td>\n",
       "      <td>False</td>\n",
       "      <td>1</td>\n",
       "    </tr>\n",
       "    <tr>\n",
       "      <th>1412</th>\n",
       "      <td>10</td>\n",
       "      <td>[10]</td>\n",
       "      <td>ss</td>\n",
       "      <td>118490798169181_1200524093299174</td>\n",
       "      <td>1.529828e+09</td>\n",
       "      <td>1.529828e+09</td>\n",
       "      <td>y</td>\n",
       "      <td>12</td>\n",
       "      <td>True</td>\n",
       "      <td>NaN</td>\n",
       "      <td>...</td>\n",
       "      <td>NaN</td>\n",
       "      <td>NaN</td>\n",
       "      <td>NaN</td>\n",
       "      <td>1.0</td>\n",
       "      <td>NaN</td>\n",
       "      <td>NaN</td>\n",
       "      <td>NaN</td>\n",
       "      <td>NaN</td>\n",
       "      <td>True</td>\n",
       "      <td>1</td>\n",
       "    </tr>\n",
       "    <tr>\n",
       "      <th>1413</th>\n",
       "      <td>4</td>\n",
       "      <td>[4, 5]</td>\n",
       "      <td>ss</td>\n",
       "      <td>317765785027478_724895700981149</td>\n",
       "      <td>1.529828e+09</td>\n",
       "      <td>1.529828e+09</td>\n",
       "      <td>y</td>\n",
       "      <td>4</td>\n",
       "      <td>True</td>\n",
       "      <td>NaN</td>\n",
       "      <td>...</td>\n",
       "      <td>NaN</td>\n",
       "      <td>NaN</td>\n",
       "      <td>NaN</td>\n",
       "      <td>NaN</td>\n",
       "      <td>NaN</td>\n",
       "      <td>NaN</td>\n",
       "      <td>NaN</td>\n",
       "      <td>NaN</td>\n",
       "      <td>False</td>\n",
       "      <td>1</td>\n",
       "    </tr>\n",
       "    <tr>\n",
       "      <th>1414</th>\n",
       "      <td>8</td>\n",
       "      <td>[1]</td>\n",
       "      <td>ss</td>\n",
       "      <td>676061179094769_1057325240968359</td>\n",
       "      <td>1.529828e+09</td>\n",
       "      <td>1.529828e+09</td>\n",
       "      <td></td>\n",
       "      <td>1</td>\n",
       "      <td>False</td>\n",
       "      <td>NaN</td>\n",
       "      <td>...</td>\n",
       "      <td>NaN</td>\n",
       "      <td>0.0</td>\n",
       "      <td>NaN</td>\n",
       "      <td>NaN</td>\n",
       "      <td>NaN</td>\n",
       "      <td>NaN</td>\n",
       "      <td>NaN</td>\n",
       "      <td>NaN</td>\n",
       "      <td>True</td>\n",
       "      <td>1</td>\n",
       "    </tr>\n",
       "    <tr>\n",
       "      <th>1415</th>\n",
       "      <td>9</td>\n",
       "      <td>[9]</td>\n",
       "      <td>ss</td>\n",
       "      <td>39576149556_10150107346069557</td>\n",
       "      <td>1.529828e+09</td>\n",
       "      <td>1.529828e+09</td>\n",
       "      <td>y</td>\n",
       "      <td>9</td>\n",
       "      <td>True</td>\n",
       "      <td>NaN</td>\n",
       "      <td>...</td>\n",
       "      <td>NaN</td>\n",
       "      <td>NaN</td>\n",
       "      <td>1.0</td>\n",
       "      <td>NaN</td>\n",
       "      <td>NaN</td>\n",
       "      <td>NaN</td>\n",
       "      <td>NaN</td>\n",
       "      <td>NaN</td>\n",
       "      <td>False</td>\n",
       "      <td>1</td>\n",
       "    </tr>\n",
       "    <tr>\n",
       "      <th>1416</th>\n",
       "      <td>9</td>\n",
       "      <td>[5, 9]</td>\n",
       "      <td>ss</td>\n",
       "      <td>49348971479_10152742445911480</td>\n",
       "      <td>1.529828e+09</td>\n",
       "      <td>1.529828e+09</td>\n",
       "      <td>y</td>\n",
       "      <td>9</td>\n",
       "      <td>True</td>\n",
       "      <td>NaN</td>\n",
       "      <td>...</td>\n",
       "      <td>NaN</td>\n",
       "      <td>NaN</td>\n",
       "      <td>1.0</td>\n",
       "      <td>NaN</td>\n",
       "      <td>NaN</td>\n",
       "      <td>NaN</td>\n",
       "      <td>NaN</td>\n",
       "      <td>NaN</td>\n",
       "      <td>False</td>\n",
       "      <td>1</td>\n",
       "    </tr>\n",
       "    <tr>\n",
       "      <th>1417</th>\n",
       "      <td>10</td>\n",
       "      <td>[6, 10]</td>\n",
       "      <td>ss</td>\n",
       "      <td>127344360615074_1322513201098178</td>\n",
       "      <td>1.529828e+09</td>\n",
       "      <td>1.529828e+09</td>\n",
       "      <td>y</td>\n",
       "      <td>10</td>\n",
       "      <td>True</td>\n",
       "      <td>NaN</td>\n",
       "      <td>...</td>\n",
       "      <td>NaN</td>\n",
       "      <td>NaN</td>\n",
       "      <td>NaN</td>\n",
       "      <td>1.0</td>\n",
       "      <td>NaN</td>\n",
       "      <td>NaN</td>\n",
       "      <td>NaN</td>\n",
       "      <td>NaN</td>\n",
       "      <td>False</td>\n",
       "      <td>1</td>\n",
       "    </tr>\n",
       "    <tr>\n",
       "      <th>1418</th>\n",
       "      <td>7</td>\n",
       "      <td>[7]</td>\n",
       "      <td>ss</td>\n",
       "      <td>256203941229187_274921359357445</td>\n",
       "      <td>1.529828e+09</td>\n",
       "      <td>1.529828e+09</td>\n",
       "      <td>y</td>\n",
       "      <td>7</td>\n",
       "      <td>True</td>\n",
       "      <td>NaN</td>\n",
       "      <td>...</td>\n",
       "      <td>1.0</td>\n",
       "      <td>NaN</td>\n",
       "      <td>NaN</td>\n",
       "      <td>NaN</td>\n",
       "      <td>NaN</td>\n",
       "      <td>NaN</td>\n",
       "      <td>NaN</td>\n",
       "      <td>NaN</td>\n",
       "      <td>False</td>\n",
       "      <td>1</td>\n",
       "    </tr>\n",
       "    <tr>\n",
       "      <th>1419</th>\n",
       "      <td>11</td>\n",
       "      <td>[10]</td>\n",
       "      <td>ss</td>\n",
       "      <td>441397215875393_675866155761830</td>\n",
       "      <td>1.529828e+09</td>\n",
       "      <td>1.529828e+09</td>\n",
       "      <td></td>\n",
       "      <td>10</td>\n",
       "      <td>False</td>\n",
       "      <td>NaN</td>\n",
       "      <td>...</td>\n",
       "      <td>NaN</td>\n",
       "      <td>NaN</td>\n",
       "      <td>NaN</td>\n",
       "      <td>NaN</td>\n",
       "      <td>0.0</td>\n",
       "      <td>NaN</td>\n",
       "      <td>NaN</td>\n",
       "      <td>NaN</td>\n",
       "      <td>True</td>\n",
       "      <td>1</td>\n",
       "    </tr>\n",
       "    <tr>\n",
       "      <th>1420</th>\n",
       "      <td>8</td>\n",
       "      <td>[13]</td>\n",
       "      <td>ss</td>\n",
       "      <td>113283418726200_784885944899274</td>\n",
       "      <td>1.529828e+09</td>\n",
       "      <td>1.529828e+09</td>\n",
       "      <td></td>\n",
       "      <td>13</td>\n",
       "      <td>False</td>\n",
       "      <td>NaN</td>\n",
       "      <td>...</td>\n",
       "      <td>NaN</td>\n",
       "      <td>0.0</td>\n",
       "      <td>NaN</td>\n",
       "      <td>NaN</td>\n",
       "      <td>NaN</td>\n",
       "      <td>NaN</td>\n",
       "      <td>NaN</td>\n",
       "      <td>NaN</td>\n",
       "      <td>True</td>\n",
       "      <td>1</td>\n",
       "    </tr>\n",
       "    <tr>\n",
       "      <th>1421</th>\n",
       "      <td>11</td>\n",
       "      <td>[1, 7]</td>\n",
       "      <td>ss</td>\n",
       "      <td>501359679955139_777701965654241</td>\n",
       "      <td>1.529828e+09</td>\n",
       "      <td>1.529828e+09</td>\n",
       "      <td></td>\n",
       "      <td>11</td>\n",
       "      <td>False</td>\n",
       "      <td>NaN</td>\n",
       "      <td>...</td>\n",
       "      <td>NaN</td>\n",
       "      <td>NaN</td>\n",
       "      <td>NaN</td>\n",
       "      <td>NaN</td>\n",
       "      <td>0.0</td>\n",
       "      <td>NaN</td>\n",
       "      <td>NaN</td>\n",
       "      <td>NaN</td>\n",
       "      <td>False</td>\n",
       "      <td>1</td>\n",
       "    </tr>\n",
       "    <tr>\n",
       "      <th>1422</th>\n",
       "      <td>12</td>\n",
       "      <td>[14]</td>\n",
       "      <td>ss</td>\n",
       "      <td>33510214383_10154329303384384</td>\n",
       "      <td>1.529828e+09</td>\n",
       "      <td>1.529828e+09</td>\n",
       "      <td></td>\n",
       "      <td>14</td>\n",
       "      <td>False</td>\n",
       "      <td>NaN</td>\n",
       "      <td>...</td>\n",
       "      <td>NaN</td>\n",
       "      <td>NaN</td>\n",
       "      <td>NaN</td>\n",
       "      <td>NaN</td>\n",
       "      <td>NaN</td>\n",
       "      <td>0.0</td>\n",
       "      <td>NaN</td>\n",
       "      <td>NaN</td>\n",
       "      <td>True</td>\n",
       "      <td>1</td>\n",
       "    </tr>\n",
       "    <tr>\n",
       "      <th>1423</th>\n",
       "      <td>2</td>\n",
       "      <td>[2, 5, 7, 13]</td>\n",
       "      <td>ss</td>\n",
       "      <td>411433282329295_578823248923630</td>\n",
       "      <td>1.529828e+09</td>\n",
       "      <td>1.529828e+09</td>\n",
       "      <td>y</td>\n",
       "      <td>2</td>\n",
       "      <td>True</td>\n",
       "      <td>NaN</td>\n",
       "      <td>...</td>\n",
       "      <td>NaN</td>\n",
       "      <td>NaN</td>\n",
       "      <td>NaN</td>\n",
       "      <td>NaN</td>\n",
       "      <td>NaN</td>\n",
       "      <td>NaN</td>\n",
       "      <td>NaN</td>\n",
       "      <td>NaN</td>\n",
       "      <td>False</td>\n",
       "      <td>1</td>\n",
       "    </tr>\n",
       "    <tr>\n",
       "      <th>1424</th>\n",
       "      <td>12</td>\n",
       "      <td>[10]</td>\n",
       "      <td>ss</td>\n",
       "      <td>1501040356832789_1673580196245470</td>\n",
       "      <td>1.529828e+09</td>\n",
       "      <td>1.529828e+09</td>\n",
       "      <td></td>\n",
       "      <td>3</td>\n",
       "      <td>False</td>\n",
       "      <td>NaN</td>\n",
       "      <td>...</td>\n",
       "      <td>NaN</td>\n",
       "      <td>NaN</td>\n",
       "      <td>NaN</td>\n",
       "      <td>NaN</td>\n",
       "      <td>NaN</td>\n",
       "      <td>0.0</td>\n",
       "      <td>NaN</td>\n",
       "      <td>NaN</td>\n",
       "      <td>True</td>\n",
       "      <td>1</td>\n",
       "    </tr>\n",
       "    <tr>\n",
       "      <th>1425</th>\n",
       "      <td>9</td>\n",
       "      <td>[9, 0]</td>\n",
       "      <td>ss</td>\n",
       "      <td>223155564511824_757745727719469</td>\n",
       "      <td>1.529828e+09</td>\n",
       "      <td>1.529828e+09</td>\n",
       "      <td>y</td>\n",
       "      <td>9</td>\n",
       "      <td>True</td>\n",
       "      <td>NaN</td>\n",
       "      <td>...</td>\n",
       "      <td>NaN</td>\n",
       "      <td>NaN</td>\n",
       "      <td>1.0</td>\n",
       "      <td>NaN</td>\n",
       "      <td>NaN</td>\n",
       "      <td>NaN</td>\n",
       "      <td>NaN</td>\n",
       "      <td>NaN</td>\n",
       "      <td>False</td>\n",
       "      <td>1</td>\n",
       "    </tr>\n",
       "    <tr>\n",
       "      <th>1426</th>\n",
       "      <td>7</td>\n",
       "      <td>[8]</td>\n",
       "      <td>ss</td>\n",
       "      <td>965507816809254_1212922252067808</td>\n",
       "      <td>1.529828e+09</td>\n",
       "      <td>1.529828e+09</td>\n",
       "      <td></td>\n",
       "      <td>8</td>\n",
       "      <td>False</td>\n",
       "      <td>NaN</td>\n",
       "      <td>...</td>\n",
       "      <td>0.0</td>\n",
       "      <td>NaN</td>\n",
       "      <td>NaN</td>\n",
       "      <td>NaN</td>\n",
       "      <td>NaN</td>\n",
       "      <td>NaN</td>\n",
       "      <td>NaN</td>\n",
       "      <td>NaN</td>\n",
       "      <td>True</td>\n",
       "      <td>1</td>\n",
       "    </tr>\n",
       "    <tr>\n",
       "      <th>1427</th>\n",
       "      <td>11</td>\n",
       "      <td>[11]</td>\n",
       "      <td>ss</td>\n",
       "      <td>490036061149758_876224375864256</td>\n",
       "      <td>1.529828e+09</td>\n",
       "      <td>1.529828e+09</td>\n",
       "      <td>y</td>\n",
       "      <td>11</td>\n",
       "      <td>True</td>\n",
       "      <td>NaN</td>\n",
       "      <td>...</td>\n",
       "      <td>NaN</td>\n",
       "      <td>NaN</td>\n",
       "      <td>NaN</td>\n",
       "      <td>NaN</td>\n",
       "      <td>1.0</td>\n",
       "      <td>NaN</td>\n",
       "      <td>NaN</td>\n",
       "      <td>NaN</td>\n",
       "      <td>False</td>\n",
       "      <td>1</td>\n",
       "    </tr>\n",
       "    <tr>\n",
       "      <th>1428</th>\n",
       "      <td>14</td>\n",
       "      <td>[]</td>\n",
       "      <td>ss</td>\n",
       "      <td>1458354184437993_1672254716381271</td>\n",
       "      <td>1.529828e+09</td>\n",
       "      <td>1.529828e+09</td>\n",
       "      <td></td>\n",
       "      <td>9</td>\n",
       "      <td>False</td>\n",
       "      <td>NaN</td>\n",
       "      <td>...</td>\n",
       "      <td>NaN</td>\n",
       "      <td>NaN</td>\n",
       "      <td>NaN</td>\n",
       "      <td>NaN</td>\n",
       "      <td>NaN</td>\n",
       "      <td>NaN</td>\n",
       "      <td>NaN</td>\n",
       "      <td>0.0</td>\n",
       "      <td>True</td>\n",
       "      <td>1</td>\n",
       "    </tr>\n",
       "    <tr>\n",
       "      <th>1429</th>\n",
       "      <td>6</td>\n",
       "      <td>[6]</td>\n",
       "      <td>ss</td>\n",
       "      <td>515338715236513_705461209557595</td>\n",
       "      <td>1.529828e+09</td>\n",
       "      <td>1.529828e+09</td>\n",
       "      <td>y</td>\n",
       "      <td>6</td>\n",
       "      <td>True</td>\n",
       "      <td>NaN</td>\n",
       "      <td>...</td>\n",
       "      <td>NaN</td>\n",
       "      <td>NaN</td>\n",
       "      <td>NaN</td>\n",
       "      <td>NaN</td>\n",
       "      <td>NaN</td>\n",
       "      <td>NaN</td>\n",
       "      <td>NaN</td>\n",
       "      <td>NaN</td>\n",
       "      <td>False</td>\n",
       "      <td>1</td>\n",
       "    </tr>\n",
       "    <tr>\n",
       "      <th>1430</th>\n",
       "      <td>14</td>\n",
       "      <td>[9]</td>\n",
       "      <td>ss</td>\n",
       "      <td>745969952097681_1008579452503395</td>\n",
       "      <td>1.529828e+09</td>\n",
       "      <td>1.529828e+09</td>\n",
       "      <td></td>\n",
       "      <td>9</td>\n",
       "      <td>False</td>\n",
       "      <td>NaN</td>\n",
       "      <td>...</td>\n",
       "      <td>NaN</td>\n",
       "      <td>NaN</td>\n",
       "      <td>NaN</td>\n",
       "      <td>NaN</td>\n",
       "      <td>NaN</td>\n",
       "      <td>NaN</td>\n",
       "      <td>NaN</td>\n",
       "      <td>0.0</td>\n",
       "      <td>True</td>\n",
       "      <td>1</td>\n",
       "    </tr>\n",
       "    <tr>\n",
       "      <th>1431</th>\n",
       "      <td>13</td>\n",
       "      <td>[0]</td>\n",
       "      <td>ss</td>\n",
       "      <td>627013744094945_947529308710052</td>\n",
       "      <td>1.529828e+09</td>\n",
       "      <td>1.529828e+09</td>\n",
       "      <td></td>\n",
       "      <td>13</td>\n",
       "      <td>False</td>\n",
       "      <td>NaN</td>\n",
       "      <td>...</td>\n",
       "      <td>NaN</td>\n",
       "      <td>NaN</td>\n",
       "      <td>NaN</td>\n",
       "      <td>NaN</td>\n",
       "      <td>NaN</td>\n",
       "      <td>NaN</td>\n",
       "      <td>0.0</td>\n",
       "      <td>NaN</td>\n",
       "      <td>False</td>\n",
       "      <td>1</td>\n",
       "    </tr>\n",
       "    <tr>\n",
       "      <th>1432</th>\n",
       "      <td>5</td>\n",
       "      <td>[5]</td>\n",
       "      <td>ss</td>\n",
       "      <td>39233495912_10153215571465913</td>\n",
       "      <td>1.529828e+09</td>\n",
       "      <td>1.529828e+09</td>\n",
       "      <td>y</td>\n",
       "      <td>5</td>\n",
       "      <td>True</td>\n",
       "      <td>NaN</td>\n",
       "      <td>...</td>\n",
       "      <td>NaN</td>\n",
       "      <td>NaN</td>\n",
       "      <td>NaN</td>\n",
       "      <td>NaN</td>\n",
       "      <td>NaN</td>\n",
       "      <td>NaN</td>\n",
       "      <td>NaN</td>\n",
       "      <td>NaN</td>\n",
       "      <td>False</td>\n",
       "      <td>1</td>\n",
       "    </tr>\n",
       "    <tr>\n",
       "      <th>1433</th>\n",
       "      <td>1</td>\n",
       "      <td>[10]</td>\n",
       "      <td>ss</td>\n",
       "      <td>120358338059856_735596423202708</td>\n",
       "      <td>1.529828e+09</td>\n",
       "      <td>1.529828e+09</td>\n",
       "      <td></td>\n",
       "      <td>10</td>\n",
       "      <td>False</td>\n",
       "      <td>NaN</td>\n",
       "      <td>...</td>\n",
       "      <td>NaN</td>\n",
       "      <td>NaN</td>\n",
       "      <td>NaN</td>\n",
       "      <td>NaN</td>\n",
       "      <td>NaN</td>\n",
       "      <td>NaN</td>\n",
       "      <td>NaN</td>\n",
       "      <td>NaN</td>\n",
       "      <td>True</td>\n",
       "      <td>1</td>\n",
       "    </tr>\n",
       "    <tr>\n",
       "      <th>1434</th>\n",
       "      <td>12</td>\n",
       "      <td>[14]</td>\n",
       "      <td>ss</td>\n",
       "      <td>12458150929_10151634297685930</td>\n",
       "      <td>1.529828e+09</td>\n",
       "      <td>1.529828e+09</td>\n",
       "      <td></td>\n",
       "      <td>10</td>\n",
       "      <td>False</td>\n",
       "      <td>NaN</td>\n",
       "      <td>...</td>\n",
       "      <td>NaN</td>\n",
       "      <td>NaN</td>\n",
       "      <td>NaN</td>\n",
       "      <td>NaN</td>\n",
       "      <td>NaN</td>\n",
       "      <td>0.0</td>\n",
       "      <td>NaN</td>\n",
       "      <td>NaN</td>\n",
       "      <td>True</td>\n",
       "      <td>1</td>\n",
       "    </tr>\n",
       "    <tr>\n",
       "      <th>1435</th>\n",
       "      <td>7</td>\n",
       "      <td>[9]</td>\n",
       "      <td>ss</td>\n",
       "      <td>642116389141607_858172857535958</td>\n",
       "      <td>1.529828e+09</td>\n",
       "      <td>1.529828e+09</td>\n",
       "      <td></td>\n",
       "      <td>9</td>\n",
       "      <td>False</td>\n",
       "      <td>NaN</td>\n",
       "      <td>...</td>\n",
       "      <td>0.0</td>\n",
       "      <td>NaN</td>\n",
       "      <td>NaN</td>\n",
       "      <td>NaN</td>\n",
       "      <td>NaN</td>\n",
       "      <td>NaN</td>\n",
       "      <td>NaN</td>\n",
       "      <td>NaN</td>\n",
       "      <td>True</td>\n",
       "      <td>1</td>\n",
       "    </tr>\n",
       "    <tr>\n",
       "      <th>1436</th>\n",
       "      <td>3</td>\n",
       "      <td>[3]</td>\n",
       "      <td>ss</td>\n",
       "      <td>137685999659722_175118639237922</td>\n",
       "      <td>1.529828e+09</td>\n",
       "      <td>1.529828e+09</td>\n",
       "      <td>y</td>\n",
       "      <td>3</td>\n",
       "      <td>True</td>\n",
       "      <td>NaN</td>\n",
       "      <td>...</td>\n",
       "      <td>NaN</td>\n",
       "      <td>NaN</td>\n",
       "      <td>NaN</td>\n",
       "      <td>NaN</td>\n",
       "      <td>NaN</td>\n",
       "      <td>NaN</td>\n",
       "      <td>NaN</td>\n",
       "      <td>NaN</td>\n",
       "      <td>False</td>\n",
       "      <td>1</td>\n",
       "    </tr>\n",
       "    <tr>\n",
       "      <th>1437</th>\n",
       "      <td>6</td>\n",
       "      <td>[3]</td>\n",
       "      <td>ss</td>\n",
       "      <td>309867232515766_671052139730605</td>\n",
       "      <td>1.529829e+09</td>\n",
       "      <td>1.529829e+09</td>\n",
       "      <td></td>\n",
       "      <td>5</td>\n",
       "      <td>False</td>\n",
       "      <td>NaN</td>\n",
       "      <td>...</td>\n",
       "      <td>NaN</td>\n",
       "      <td>NaN</td>\n",
       "      <td>NaN</td>\n",
       "      <td>NaN</td>\n",
       "      <td>NaN</td>\n",
       "      <td>NaN</td>\n",
       "      <td>NaN</td>\n",
       "      <td>NaN</td>\n",
       "      <td>True</td>\n",
       "      <td>1</td>\n",
       "    </tr>\n",
       "    <tr>\n",
       "      <th>1438</th>\n",
       "      <td>6</td>\n",
       "      <td>[10]</td>\n",
       "      <td>ss</td>\n",
       "      <td>24352982198_10154555693492199</td>\n",
       "      <td>1.529829e+09</td>\n",
       "      <td>1.529829e+09</td>\n",
       "      <td></td>\n",
       "      <td>2</td>\n",
       "      <td>False</td>\n",
       "      <td>NaN</td>\n",
       "      <td>...</td>\n",
       "      <td>NaN</td>\n",
       "      <td>NaN</td>\n",
       "      <td>NaN</td>\n",
       "      <td>NaN</td>\n",
       "      <td>NaN</td>\n",
       "      <td>NaN</td>\n",
       "      <td>NaN</td>\n",
       "      <td>NaN</td>\n",
       "      <td>True</td>\n",
       "      <td>1</td>\n",
       "    </tr>\n",
       "    <tr>\n",
       "      <th>1439</th>\n",
       "      <td>8</td>\n",
       "      <td>[8, 11]</td>\n",
       "      <td>ss</td>\n",
       "      <td>113836012012239_956634791065686</td>\n",
       "      <td>1.529829e+09</td>\n",
       "      <td>1.529829e+09</td>\n",
       "      <td>y</td>\n",
       "      <td>8</td>\n",
       "      <td>True</td>\n",
       "      <td>NaN</td>\n",
       "      <td>...</td>\n",
       "      <td>NaN</td>\n",
       "      <td>1.0</td>\n",
       "      <td>NaN</td>\n",
       "      <td>NaN</td>\n",
       "      <td>NaN</td>\n",
       "      <td>NaN</td>\n",
       "      <td>NaN</td>\n",
       "      <td>NaN</td>\n",
       "      <td>False</td>\n",
       "      <td>1</td>\n",
       "    </tr>\n",
       "  </tbody>\n",
       "</table>\n",
       "<p>1440 rows × 26 columns</p>\n",
       "</div>"
      ],
      "text/plain": [
       "      category        classes coder                                 id  \\\n",
       "0           12            NaN   slf    561507140593570_712142265530056   \n",
       "1           13            NaN   slf    561507140593570_817890808288534   \n",
       "2            7            NaN   slf    335987446552987_568416216643441   \n",
       "3           12            NaN   slf    223155564511824_481816371979074   \n",
       "4            9            NaN   slf    411433282329295_670352776437343   \n",
       "5            0            NaN   slf   952334508116178_1431056290243995   \n",
       "6           13            NaN   slf    547569822031033_801801699941176   \n",
       "7            5            NaN   slf    143586919135944_211105255717443   \n",
       "8           13            NaN   slf    384119014960360_807201919318732   \n",
       "9            2            NaN   slf   252520351444054_1150260818336665   \n",
       "10           6            NaN   slf    382423298493731_599284426807616   \n",
       "11           9            NaN   slf    684213871706672_684381588356567   \n",
       "12           5            NaN   slf  1443332985924729_1476542442603783   \n",
       "13           6            NaN   slf      69985338410_10153551349693411   \n",
       "14          14            NaN   slf   120358338059856_1128700873892259   \n",
       "15           9            NaN   slf    150605885088629_500697123412835   \n",
       "16           2            NaN   slf    139443622778678_336770109712694   \n",
       "17           2            NaN   slf  1632661713611931_1809348495943251   \n",
       "18          14            NaN   slf    442403485851495_616573908434451   \n",
       "19           0            NaN   slf   676061179094769_1392037914402812   \n",
       "20           5            NaN   slf  1384921248388622_1886453858235356   \n",
       "21           2            NaN   slf   127344360615074_1731903476825813   \n",
       "22           8            NaN   slf    144447802432216_214850062058656   \n",
       "23           8            NaN   slf    309867232515766_635029536666199   \n",
       "24           5            NaN   slf   965507816809254_1732532223440139   \n",
       "25           1            NaN   slf    118948271632865_420403648153991   \n",
       "26           8            NaN   slf    120358338059856_199931183435904   \n",
       "27           7            NaN   slf    120358338059856_911978328897849   \n",
       "28           9            NaN   slf      39576149556_10151845911514557   \n",
       "29           5            NaN   slf   181106225260438_1127623937275324   \n",
       "...        ...            ...   ...                                ...   \n",
       "1410         5            [5]    ss    331406263723146_382480091949096   \n",
       "1411        11           [11]    ss    461364607347621_490753244408757   \n",
       "1412        10           [10]    ss   118490798169181_1200524093299174   \n",
       "1413         4         [4, 5]    ss    317765785027478_724895700981149   \n",
       "1414         8            [1]    ss   676061179094769_1057325240968359   \n",
       "1415         9            [9]    ss      39576149556_10150107346069557   \n",
       "1416         9         [5, 9]    ss      49348971479_10152742445911480   \n",
       "1417        10        [6, 10]    ss   127344360615074_1322513201098178   \n",
       "1418         7            [7]    ss    256203941229187_274921359357445   \n",
       "1419        11           [10]    ss    441397215875393_675866155761830   \n",
       "1420         8           [13]    ss    113283418726200_784885944899274   \n",
       "1421        11         [1, 7]    ss    501359679955139_777701965654241   \n",
       "1422        12           [14]    ss      33510214383_10154329303384384   \n",
       "1423         2  [2, 5, 7, 13]    ss    411433282329295_578823248923630   \n",
       "1424        12           [10]    ss  1501040356832789_1673580196245470   \n",
       "1425         9         [9, 0]    ss    223155564511824_757745727719469   \n",
       "1426         7            [8]    ss   965507816809254_1212922252067808   \n",
       "1427        11           [11]    ss    490036061149758_876224375864256   \n",
       "1428        14             []    ss  1458354184437993_1672254716381271   \n",
       "1429         6            [6]    ss    515338715236513_705461209557595   \n",
       "1430        14            [9]    ss   745969952097681_1008579452503395   \n",
       "1431        13            [0]    ss    627013744094945_947529308710052   \n",
       "1432         5            [5]    ss      39233495912_10153215571465913   \n",
       "1433         1           [10]    ss    120358338059856_735596423202708   \n",
       "1434        12           [14]    ss      12458150929_10151634297685930   \n",
       "1435         7            [9]    ss    642116389141607_858172857535958   \n",
       "1436         3            [3]    ss    137685999659722_175118639237922   \n",
       "1437         6            [3]    ss    309867232515766_671052139730605   \n",
       "1438         6           [10]    ss      24352982198_10154555693492199   \n",
       "1439         8        [8, 11]    ss    113836012012239_956634791065686   \n",
       "\n",
       "                 t            t2 true  true_cat   TRUE    0  ...      7    8  \\\n",
       "0     1.529651e+09           NaN              7  False  NaN  ...    NaN  NaN   \n",
       "1     1.529651e+09           NaN             13  False  NaN  ...    NaN  NaN   \n",
       "2     1.529651e+09           NaN    y         7   True  NaN  ...    1.0  NaN   \n",
       "3     1.529651e+09           NaN             11  False  NaN  ...    NaN  NaN   \n",
       "4     1.529651e+09           NaN              9  False  NaN  ...    NaN  NaN   \n",
       "5     1.529651e+09           NaN              2  False  0.0  ...    NaN  NaN   \n",
       "6     1.529652e+09           NaN              9  False  NaN  ...    NaN  NaN   \n",
       "7     1.529652e+09           NaN    y        13   True  NaN  ...    NaN  NaN   \n",
       "8     1.529652e+09           NaN              8  False  NaN  ...    NaN  NaN   \n",
       "9     1.529652e+09           NaN              0  False  NaN  ...    NaN  NaN   \n",
       "10    1.529652e+09           NaN              4  False  NaN  ...    NaN  NaN   \n",
       "11    1.529652e+09           NaN    y         1   True  NaN  ...    NaN  NaN   \n",
       "12    1.529652e+09           NaN              7  False  NaN  ...    NaN  NaN   \n",
       "13    1.529652e+09           NaN    y         6   True  NaN  ...    NaN  NaN   \n",
       "14    1.529652e+09           NaN    y        14   True  NaN  ...    NaN  NaN   \n",
       "15    1.529652e+09           NaN    y        11   True  NaN  ...    NaN  NaN   \n",
       "16    1.529652e+09           NaN              3  False  NaN  ...    NaN  NaN   \n",
       "17    1.529652e+09           NaN    y         2   True  NaN  ...    NaN  NaN   \n",
       "18    1.529652e+09           NaN             12  False  NaN  ...    NaN  NaN   \n",
       "19    1.529653e+09           NaN              6  False  0.0  ...    NaN  NaN   \n",
       "20    1.529653e+09           NaN    y         5   True  NaN  ...    NaN  NaN   \n",
       "21    1.529653e+09           NaN    y         2   True  NaN  ...    NaN  NaN   \n",
       "22    1.529653e+09           NaN    y         8   True  NaN  ...    NaN  1.0   \n",
       "23    1.529653e+09           NaN              0  False  NaN  ...    NaN  0.0   \n",
       "24    1.529653e+09           NaN              5  False  NaN  ...    NaN  NaN   \n",
       "25    1.529653e+09           NaN              7  False  NaN  ...    NaN  NaN   \n",
       "26    1.529653e+09           NaN    y         8   True  NaN  ...    NaN  1.0   \n",
       "27    1.529653e+09           NaN    y         7   True  NaN  ...    1.0  NaN   \n",
       "28    1.529653e+09           NaN              9  False  NaN  ...    NaN  NaN   \n",
       "29    1.529653e+09           NaN    y         5   True  NaN  ...    NaN  NaN   \n",
       "...            ...           ...  ...       ...    ...  ...  ...    ...  ...   \n",
       "1410  1.529828e+09  1.529828e+09    y         5   True  NaN  ...    NaN  NaN   \n",
       "1411  1.529828e+09  1.529828e+09    y        11   True  NaN  ...    NaN  NaN   \n",
       "1412  1.529828e+09  1.529828e+09    y        12   True  NaN  ...    NaN  NaN   \n",
       "1413  1.529828e+09  1.529828e+09    y         4   True  NaN  ...    NaN  NaN   \n",
       "1414  1.529828e+09  1.529828e+09              1  False  NaN  ...    NaN  0.0   \n",
       "1415  1.529828e+09  1.529828e+09    y         9   True  NaN  ...    NaN  NaN   \n",
       "1416  1.529828e+09  1.529828e+09    y         9   True  NaN  ...    NaN  NaN   \n",
       "1417  1.529828e+09  1.529828e+09    y        10   True  NaN  ...    NaN  NaN   \n",
       "1418  1.529828e+09  1.529828e+09    y         7   True  NaN  ...    1.0  NaN   \n",
       "1419  1.529828e+09  1.529828e+09             10  False  NaN  ...    NaN  NaN   \n",
       "1420  1.529828e+09  1.529828e+09             13  False  NaN  ...    NaN  0.0   \n",
       "1421  1.529828e+09  1.529828e+09             11  False  NaN  ...    NaN  NaN   \n",
       "1422  1.529828e+09  1.529828e+09             14  False  NaN  ...    NaN  NaN   \n",
       "1423  1.529828e+09  1.529828e+09    y         2   True  NaN  ...    NaN  NaN   \n",
       "1424  1.529828e+09  1.529828e+09              3  False  NaN  ...    NaN  NaN   \n",
       "1425  1.529828e+09  1.529828e+09    y         9   True  NaN  ...    NaN  NaN   \n",
       "1426  1.529828e+09  1.529828e+09              8  False  NaN  ...    0.0  NaN   \n",
       "1427  1.529828e+09  1.529828e+09    y        11   True  NaN  ...    NaN  NaN   \n",
       "1428  1.529828e+09  1.529828e+09              9  False  NaN  ...    NaN  NaN   \n",
       "1429  1.529828e+09  1.529828e+09    y         6   True  NaN  ...    NaN  NaN   \n",
       "1430  1.529828e+09  1.529828e+09              9  False  NaN  ...    NaN  NaN   \n",
       "1431  1.529828e+09  1.529828e+09             13  False  NaN  ...    NaN  NaN   \n",
       "1432  1.529828e+09  1.529828e+09    y         5   True  NaN  ...    NaN  NaN   \n",
       "1433  1.529828e+09  1.529828e+09             10  False  NaN  ...    NaN  NaN   \n",
       "1434  1.529828e+09  1.529828e+09             10  False  NaN  ...    NaN  NaN   \n",
       "1435  1.529828e+09  1.529828e+09              9  False  NaN  ...    0.0  NaN   \n",
       "1436  1.529828e+09  1.529828e+09    y         3   True  NaN  ...    NaN  NaN   \n",
       "1437  1.529829e+09  1.529829e+09              5  False  NaN  ...    NaN  NaN   \n",
       "1438  1.529829e+09  1.529829e+09              2  False  NaN  ...    NaN  NaN   \n",
       "1439  1.529829e+09  1.529829e+09    y         8   True  NaN  ...    NaN  1.0   \n",
       "\n",
       "        9   10   11   12   13   14  random  dummy  \n",
       "0     NaN  NaN  NaN  0.0  NaN  NaN    True      1  \n",
       "1     NaN  NaN  NaN  NaN  0.0  NaN   False      1  \n",
       "2     NaN  NaN  NaN  NaN  NaN  NaN   False      1  \n",
       "3     NaN  NaN  NaN  0.0  NaN  NaN    True      1  \n",
       "4     0.0  NaN  NaN  NaN  NaN  NaN   False      1  \n",
       "5     NaN  NaN  NaN  NaN  NaN  NaN    True      1  \n",
       "6     NaN  NaN  NaN  NaN  0.0  NaN    True      1  \n",
       "7     NaN  NaN  NaN  NaN  NaN  NaN    True      1  \n",
       "8     NaN  NaN  NaN  NaN  0.0  NaN    True      1  \n",
       "9     NaN  NaN  NaN  NaN  NaN  NaN    True      1  \n",
       "10    NaN  NaN  NaN  NaN  NaN  NaN    True      1  \n",
       "11    1.0  NaN  NaN  NaN  NaN  NaN    True      1  \n",
       "12    NaN  NaN  NaN  NaN  NaN  NaN    True      1  \n",
       "13    NaN  NaN  NaN  NaN  NaN  NaN   False      1  \n",
       "14    NaN  NaN  NaN  NaN  NaN  1.0   False      1  \n",
       "15    1.0  NaN  NaN  NaN  NaN  NaN    True      1  \n",
       "16    NaN  NaN  NaN  NaN  NaN  NaN    True      1  \n",
       "17    NaN  NaN  NaN  NaN  NaN  NaN   False      1  \n",
       "18    NaN  NaN  NaN  NaN  NaN  0.0    True      1  \n",
       "19    NaN  NaN  NaN  NaN  NaN  NaN    True      1  \n",
       "20    NaN  NaN  NaN  NaN  NaN  NaN   False      1  \n",
       "21    NaN  NaN  NaN  NaN  NaN  NaN   False      1  \n",
       "22    NaN  NaN  NaN  NaN  NaN  NaN   False      1  \n",
       "23    NaN  NaN  NaN  NaN  NaN  NaN    True      1  \n",
       "24    NaN  NaN  NaN  NaN  NaN  NaN   False      1  \n",
       "25    NaN  NaN  NaN  NaN  NaN  NaN    True      1  \n",
       "26    NaN  NaN  NaN  NaN  NaN  NaN   False      1  \n",
       "27    NaN  NaN  NaN  NaN  NaN  NaN   False      1  \n",
       "28    0.0  NaN  NaN  NaN  NaN  NaN   False      1  \n",
       "29    NaN  NaN  NaN  NaN  NaN  NaN   False      1  \n",
       "...   ...  ...  ...  ...  ...  ...     ...    ...  \n",
       "1410  NaN  NaN  NaN  NaN  NaN  NaN   False      1  \n",
       "1411  NaN  NaN  1.0  NaN  NaN  NaN   False      1  \n",
       "1412  NaN  1.0  NaN  NaN  NaN  NaN    True      1  \n",
       "1413  NaN  NaN  NaN  NaN  NaN  NaN   False      1  \n",
       "1414  NaN  NaN  NaN  NaN  NaN  NaN    True      1  \n",
       "1415  1.0  NaN  NaN  NaN  NaN  NaN   False      1  \n",
       "1416  1.0  NaN  NaN  NaN  NaN  NaN   False      1  \n",
       "1417  NaN  1.0  NaN  NaN  NaN  NaN   False      1  \n",
       "1418  NaN  NaN  NaN  NaN  NaN  NaN   False      1  \n",
       "1419  NaN  NaN  0.0  NaN  NaN  NaN    True      1  \n",
       "1420  NaN  NaN  NaN  NaN  NaN  NaN    True      1  \n",
       "1421  NaN  NaN  0.0  NaN  NaN  NaN   False      1  \n",
       "1422  NaN  NaN  NaN  0.0  NaN  NaN    True      1  \n",
       "1423  NaN  NaN  NaN  NaN  NaN  NaN   False      1  \n",
       "1424  NaN  NaN  NaN  0.0  NaN  NaN    True      1  \n",
       "1425  1.0  NaN  NaN  NaN  NaN  NaN   False      1  \n",
       "1426  NaN  NaN  NaN  NaN  NaN  NaN    True      1  \n",
       "1427  NaN  NaN  1.0  NaN  NaN  NaN   False      1  \n",
       "1428  NaN  NaN  NaN  NaN  NaN  0.0    True      1  \n",
       "1429  NaN  NaN  NaN  NaN  NaN  NaN   False      1  \n",
       "1430  NaN  NaN  NaN  NaN  NaN  0.0    True      1  \n",
       "1431  NaN  NaN  NaN  NaN  0.0  NaN   False      1  \n",
       "1432  NaN  NaN  NaN  NaN  NaN  NaN   False      1  \n",
       "1433  NaN  NaN  NaN  NaN  NaN  NaN    True      1  \n",
       "1434  NaN  NaN  NaN  0.0  NaN  NaN    True      1  \n",
       "1435  NaN  NaN  NaN  NaN  NaN  NaN    True      1  \n",
       "1436  NaN  NaN  NaN  NaN  NaN  NaN   False      1  \n",
       "1437  NaN  NaN  NaN  NaN  NaN  NaN    True      1  \n",
       "1438  NaN  NaN  NaN  NaN  NaN  NaN    True      1  \n",
       "1439  NaN  NaN  NaN  NaN  NaN  NaN   False      1  \n",
       "\n",
       "[1440 rows x 26 columns]"
      ]
     },
     "execution_count": 118,
     "metadata": {},
     "output_type": "execute_result"
    }
   ],
   "source": [
    "sample"
   ]
  },
  {
   "cell_type": "code",
   "execution_count": 61,
   "metadata": {},
   "outputs": [
    {
     "name": "stdout",
     "output_type": "stream",
     "text": [
      "0.02666666666666667\n"
     ]
    },
    {
     "data": {
      "image/png": "[encoded data removed]",
      "text/plain": [
       "<Figure size 864x576 with 2 Axes>"
      ]
     },
     "metadata": {
      "needs_background": "light"
     },
     "output_type": "display_data"
    }
   ],
   "source": [
    "import seaborn as sns\n",
    "import matplotlib.pyplot as plt\n",
    "%matplotlib inline\n",
    "plt.figure(figsize=(12,8))\n",
    "mat = pd.DataFrame(mat,columns=[get_dic_name(i) for i in range(n_cats)]\n",
    "                   ,index=[get_dic_name(i) for i in range(n_cats)])\n",
    "sns.heatmap(mat,annot=True)\n",
    "print(sum(mat.values.flatten()==0)/mat.values.size)"
   ]
  },
  {
   "cell_type": "code",
   "execution_count": 77,
   "metadata": {},
   "outputs": [
    {
     "name": "stdout",
     "output_type": "stream",
     "text": [
      "We need at least 10 samples from each pair amounting to 2250\n"
     ]
    }
   ],
   "source": [
    "print('We need at least %d samples from each pair amounting to %d'%(10,mat.size * 10))"
   ]
  },
  {
   "cell_type": "code",
   "execution_count": 99,
   "metadata": {
    "scrolled": true
   },
   "outputs": [
    {
     "data": {
      "text/plain": [
       "[<matplotlib.lines.Line2D at 0x29505b96e10>,\n",
       " <matplotlib.lines.Line2D at 0x29505b96cf8>]"
      ]
     },
     "execution_count": 99,
     "metadata": {},
     "output_type": "execute_result"
    },
    {
     "data": {
      "image/png": "[encoded data removed]",
      "text/plain": [
       "<Figure size 432x288 with 1 Axes>"
      ]
     },
     "metadata": {
      "needs_background": "light"
     },
     "output_type": "display_data"
    }
   ],
   "source": [
    "quintiles = []\n",
    "for n_pair in range(10,10000):\n",
    "\n",
    "    vals=np.random.binomial(n_pair,p=0.05,size=10000)/n_pair\n",
    "    quintiles.append((np.quantile(vals,q=0.05),np.quantile(vals,q=0.95)))\n",
    "plt.plot(quintiles)"
   ]
  },
  {
   "cell_type": "code",
   "execution_count": 9,
   "metadata": {},
   "outputs": [
    {
     "name": "stdout",
     "output_type": "stream",
     "text": [
      "0 Culture 1.0 4\n",
      "1 Environment 0.8571428571428571 7\n",
      "2 Education 0.875 8\n",
      "3 Foreign affairs 1.0 4\n",
      "4 EU 0.8 10\n",
      "5 Health 0.8333333333333334 6\n",
      "6 Immigration 1.0 8\n",
      "7 Employment 1.0 5\n",
      "8 Taxes 0.6 5\n",
      "9 Science 0.6666666666666666 6\n",
      "10 Religion 1.0 6\n",
      "11 Economy 0.8333333333333334 6\n",
      "12 Crime 0.4 5\n",
      "13 Elder care 1.0 6\n",
      "14 Social policy 0.875 8\n"
     ]
    },
    {
     "data": {
      "text/plain": [
       "0.851063829787234"
      ]
     },
     "execution_count": 9,
     "metadata": {},
     "output_type": "execute_result"
    }
   ],
   "source": [
    "\n",
    "agreements = []\n",
    "for cat,groupdf in df[df.category==df.true_cat].groupby('true_cat'):\n",
    "    vals = groupdf.groupby('id').apply(lambda x: (len(set(x.TRUE))==1)*1 if len(x)>1 else np.nan)\n",
    "    agreement = np.nanmean(vals)\n",
    "    print(cat,get_dic_name(cat),agreement,sum(np.isfinite(vals)))\n",
    "    agreements.append(agreement)\n",
    "\n",
    "np.nanmean(df[df.category==df.true_cat].groupby('id').apply(lambda x: (len(set(x.TRUE))==1)*1 if len(x)>1 else np.nan))"
   ]
  },
  {
   "cell_type": "code",
   "execution_count": 26,
   "metadata": {},
   "outputs": [
    {
     "name": "stdout",
     "output_type": "stream",
     "text": [
      "0.8493650793650793\n"
     ]
    }
   ],
   "source": [
    "print(np.mean(agreements))"
   ]
  },
  {
   "cell_type": "code",
   "execution_count": 22,
   "metadata": {
    "collapsed": true
   },
   "outputs": [],
   "source": [
    "from collections import Counter\n",
    "#np.nanmean(df[df.category==df.true_cat].groupby('id').apply(lambda x: (Counter(x.TRUE).most_common(1)[0][1]>1)*1 if len(x)>1 else np.nan))"
   ]
  },
  {
   "cell_type": "code",
   "execution_count": null,
   "metadata": {
    "collapsed": true
   },
   "outputs": [],
   "source": []
  },
  {
   "cell_type": "code",
   "execution_count": null,
   "metadata": {
    "collapsed": true
   },
   "outputs": [],
   "source": []
  },
  {
   "cell_type": "code",
   "execution_count": 22,
   "metadata": {},
   "outputs": [
    {
     "name": "stdout",
     "output_type": "stream",
     "text": [
      "0.9017094017094017\n",
      "0.895237015340787\n"
     ]
    }
   ],
   "source": [
    "\n",
    "unweighed_accuracy = 1 - sum(df[df.category!=df.true_cat].TRUE)/len(df[df.category!=df.true_cat]) \n",
    "print(unweighed_accuracy)\n",
    "## the weighed accuracy is based on the base probs of the other. \n",
    "label_counts = pol_df.topic_class.value_counts()\n",
    "label_fracs  = label_counts/label_counts.sum()\n",
    "label_fracs = dict(label_fracs)\n",
    "label_fracs\n",
    "df['weight'] = df.true_cat.apply(lambda x: label_fracs[x])\n",
    "errors = df[df.category!=df.true_cat]\n",
    "weighed_accuracy = 1 - sum((errors.TRUE*errors.weight))/sum(errors.weight)\n",
    "print(weighed_accuracy)                      "
   ]
  },
  {
   "cell_type": "code",
   "execution_count": 44,
   "metadata": {
    "collapsed": true
   },
   "outputs": [],
   "source": [
    "import sklearn.metrics\n",
    "\n",
    "performance = []    \n",
    "for i in range(15):\n",
    "    tempdf = df[df[i].apply(np.isfinite)]\n",
    "    ytest = tempdf[i].values\n",
    "    weight = tempdf.weight.values\n",
    "    ypred = (tempdf.true_cat==i).values*1.0\n",
    "    #sklearn.metrics.\n",
    "    true = ytest==ypred\n",
    "    acc = sum(true)/len(ytest)\n",
    "    acc_weight = (true*weight).sum()/(np.ones(len(true))*weight).sum()\n",
    "    recall,precision = sklearn.metrics.recall_score(ytest,ypred),sklearn.metrics.precision_score(ytest,ypred)\n",
    "    recall_w,precision_w = sklearn.metrics.recall_score(ytest,ypred,sample_weight=weight),sklearn.metrics.precision_score(ytest,ypred,sample_weight=weight)\n",
    "    d = {'topic_name':get_dic_name(i),'n':len(tempdf),'recall':recall,'recall_w':recall_w,\n",
    "        'accuracy':acc,'accuracy_w':acc_weight,'precision_w':precision_w,'precision':precision,\n",
    "        'topic':i}\n",
    "    performance.append(d)\n",
    "performance = pd.DataFrame(performance)"
   ]
  },
  {
   "cell_type": "code",
   "execution_count": 64,
   "metadata": {},
   "outputs": [
    {
     "data": {
      "text/plain": [
       "<matplotlib.axes._subplots.AxesSubplot at 0x27ae8e3a198>"
      ]
     },
     "execution_count": 64,
     "metadata": {},
     "output_type": "execute_result"
    },
    {
     "data": {
      "image/png": "[encoded data removed]",
      "text/plain": [
       "<Figure size 864x576 with 1 Axes>"
      ]
     },
     "metadata": {
      "needs_background": "light"
     },
     "output_type": "display_data"
    }
   ],
   "source": [
    "def linear_func(x, a, b):\n",
    "    return a*x + b\n",
    "from scipy.optimize import curve_fit\n",
    "def fit_function(x,y,func=linear_func,plot=False):\n",
    "    popt, pcov = curve_fit(func, x, y)\n",
    "    xlim = np.linspace(min(x),max(x),50)\n",
    "    fit_y = func(xlim,*popt)\n",
    "    return xlim,fit_y\n",
    "\n",
    "def plot_dictionary_stats(df,funcx,funcy,xlabel='',ylabel='',fitline = True,sort_column='n_docs',hue='topic_name',title='Proportions and Matches'):\n",
    "    fig = plt.figure(figsize=(12,8))\n",
    "    ax = plt.subplot(111)\n",
    "    cmap = plt.cm.get_cmap('tab20b', 15)\n",
    "    #xcol,ycol = 'n_docs','n_accepted'\n",
    "    max_ =df[sort_column].max()\n",
    "    \n",
    "    for num,(label,tempdf) in enumerate(df.sort_values(sort_column).groupby(hue,sort=False)):\n",
    "        color = cmap(num/15)\n",
    "        size = tempdf[sort_column].values\n",
    "        ax.scatter(funcx(tempdf),funcy(tempdf),label=label,c=color,s=(tempdf[sort_column].values[0]/max_)*100)# c=tempdf.topic, cmap=plt.cm.get_cmap('Spectral', 15)\n",
    "    ax.set_title(title)\n",
    "    ax.set_xlabel(xlabel)\n",
    "    ax.set_ylabel(ylabel)\n",
    "    # plot linear expectancy\n",
    "    if fitline:\n",
    "        xlim,ypred = fit_function(funcx(df).values,funcy(df).values)\n",
    "        plt.plot(xlim,ypred)\n",
    "    #x,y = matches[xcol],matches[ycol]\n",
    "    # Shrink current axis by 20%\n",
    "    box = ax.get_position()\n",
    "    ax.set_position([box.x0, box.y0, box.width * 0.8, box.height])\n",
    "\n",
    "    # Put a legend to the right of the current axis\n",
    "    ax.legend(loc='center left', bbox_to_anchor=(1, 0.5))\n",
    "    return ax\n",
    "import matplotlib.pyplot as plt\n",
    "%matplotlib inline\n",
    "plot_dictionary_stats(performance,lambda x: x.accuracy,lambda x: x.accuracy_w,xlabel='accuracy',ylabel='weighed accuracy',sort_column='accuracy',title='acc vs weighed acc')"
   ]
  },
  {
   "cell_type": "code",
   "execution_count": 65,
   "metadata": {
    "collapsed": true
   },
   "outputs": [],
   "source": [
    "performance.to_csv('dictionary_performance.csv',index=False)"
   ]
  },
  {
   "cell_type": "code",
   "execution_count": null,
   "metadata": {
    "collapsed": true
   },
   "outputs": [],
   "source": []
  },
  {
   "cell_type": "code",
   "execution_count": null,
   "metadata": {
    "collapsed": true
   },
   "outputs": [],
   "source": [
    "tempdf\n"
   ]
  },
  {
   "cell_type": "code",
   "execution_count": 178,
   "metadata": {
    "collapsed": true
   },
   "outputs": [],
   "source": [
    "def make_accum_label(groupdf):\n",
    "    temp = []\n",
    "    for i in range(15):\n",
    "        if len(groupdf[i].dropna())==0:\n",
    "            temp.append(np.nan)\n",
    "            continue\n",
    "        if 1 in groupdf[i].values:\n",
    "            temp.append(1)\n",
    "        else:\n",
    "            temp.append(0)\n",
    "        #counts = groupdf[i].value_counts()\n",
    "        #aggreement = counts.values[0] / len(counts)\n",
    "        #if 1 in counts.index:\n",
    "        #    return 1\n",
    "    return pd.DataFrame([temp])\n",
    "def make_prob_label(groupdf):\n",
    "    temp = []\n",
    "    for i in range(15):\n",
    "        \n",
    "        counts = groupdf[i].value_counts()\n",
    "        aggreement = counts.values[0] / len(counts)\n",
    "        if 1 in counts.index:\n",
    "            return 1\n",
    "        true = max(counts.index)\n",
    "    return \n",
    "label_dummy = df[['id']+list(range(15))].groupby('id').apply(make_accum_label).reset_index().drop('level_1',axis=1)#\n",
    "label_dummy['weight'] = df['weight']\n",
    "label_dummy.to_csv('simple_labels.csv',index=False)\n"
   ]
  },
  {
   "cell_type": "code",
   "execution_count": 2,
   "metadata": {},
   "outputs": [
    {
     "ename": "NameError",
     "evalue": "name 'label_dummy' is not defined",
     "output_type": "error",
     "traceback": [
      "\u001b[1;31m---------------------------------------------------------------------------\u001b[0m",
      "\u001b[1;31mNameError\u001b[0m                                 Traceback (most recent call last)",
      "\u001b[1;32m<ipython-input-2-6b1fb3b8b3ca>\u001b[0m in \u001b[0;36m<module>\u001b[1;34m()\u001b[0m\n\u001b[1;32m----> 1\u001b[1;33m \u001b[0mlabel_dummy\u001b[0m\u001b[1;33m\u001b[0m\u001b[0m\n\u001b[0m",
      "\u001b[1;31mNameError\u001b[0m: name 'label_dummy' is not defined"
     ]
    }
   ],
   "source": [
    "label_dummy"
   ]
  },
  {
   "cell_type": "code",
   "execution_count": null,
   "metadata": {
    "collapsed": true
   },
   "outputs": [],
   "source": []
  },
  {
   "cell_type": "code",
   "execution_count": null,
   "metadata": {
    "collapsed": true
   },
   "outputs": [],
   "source": []
  },
  {
   "cell_type": "code",
   "execution_count": 172,
   "metadata": {
    "collapsed": true
   },
   "outputs": [],
   "source": [
    "#label_dummy"
   ]
  },
  {
   "cell_type": "code",
   "execution_count": 175,
   "metadata": {},
   "outputs": [
    {
     "name": "stdout",
     "output_type": "stream",
     "text": [
      "Culture 76\n",
      "Environment 105\n",
      "Education 85\n",
      "Foreign affairs 92\n",
      "EU 83\n",
      "Health 91\n",
      "Immigration 86\n",
      "Employment 89\n",
      "Taxes 93\n",
      "Science 88\n",
      "Religion 92\n",
      "Economy 77\n",
      "Crime 98\n",
      "Elder care 97\n",
      "Social policy 90\n"
     ]
    }
   ],
   "source": [
    "for i in range(15):\n",
    "    print(get_dic_name(i),len(label_dummy[i].dropna()))"
   ]
  },
  {
   "cell_type": "code",
   "execution_count": 173,
   "metadata": {},
   "outputs": [
    {
     "data": {
      "text/plain": [
       "id          inf\n",
       "0     36.000000\n",
       "1     53.000000\n",
       "2     40.000000\n",
       "3     41.000000\n",
       "4     36.000000\n",
       "5     37.000000\n",
       "6     36.000000\n",
       "7     49.000000\n",
       "8     40.000000\n",
       "9     36.000000\n",
       "10    52.000000\n",
       "11    36.000000\n",
       "12    40.000000\n",
       "13    44.000000\n",
       "14    53.000000\n",
       "dtype: float64"
      ]
     },
     "execution_count": 173,
     "metadata": {},
     "output_type": "execute_result"
    }
   ],
   "source": [
    "label_dummy.sum(axis=0)"
   ]
  },
  {
   "cell_type": "code",
   "execution_count": null,
   "metadata": {
    "collapsed": true
   },
   "outputs": [],
   "source": []
  },
  {
   "cell_type": "code",
   "execution_count": 136,
   "metadata": {},
   "outputs": [
    {
     "name": "stdout",
     "output_type": "stream",
     "text": [
      "Culture 1107  0.0    1027\n",
      " 1.0      40\n",
      "-1.0      40\n",
      "Name: 0, dtype: int64\n",
      "Environment 1115  0.0    1003\n",
      " 1.0      59\n",
      "-1.0      53\n",
      "Name: 1, dtype: int64\n",
      "Education 1105  0.0    1012\n",
      " 1.0      47\n",
      "-1.0      46\n",
      "Name: 2, dtype: int64\n",
      "Foreign affairs 1111  0.0    1014\n",
      "-1.0      52\n",
      " 1.0      45\n",
      "Name: 3, dtype: int64\n",
      "EU 1106  0.0    1013\n",
      "-1.0      49\n",
      " 1.0      44\n",
      "Name: 4, dtype: int64\n",
      "Health 1116  0.0    1018\n",
      "-1.0      56\n",
      " 1.0      42\n",
      "Name: 5, dtype: int64\n",
      "Immigration 1111  0.0    1016\n",
      "-1.0      50\n",
      " 1.0      45\n",
      "Name: 6, dtype: int64\n",
      "Employment 1104  0.0    1010\n",
      " 1.0      54\n",
      "-1.0      40\n",
      "Name: 7, dtype: int64\n",
      "Taxes 1107  0.0    1009\n",
      "-1.0      55\n",
      " 1.0      43\n",
      "Name: 8, dtype: int64\n",
      "Science 1110  0.0    1016\n",
      "-1.0      55\n",
      " 1.0      39\n",
      "Name: 9, dtype: int64\n",
      "Religion 1110  0.0    1012\n",
      " 1.0      58\n",
      "-1.0      40\n",
      "Name: 10, dtype: int64\n",
      "Economy 1106  0.0    1023\n",
      "-1.0      42\n",
      " 1.0      41\n",
      "Name: 11, dtype: int64\n",
      "Crime 1107  0.0    1004\n",
      "-1.0      62\n",
      " 1.0      41\n",
      "Name: 12, dtype: int64\n",
      "Elder care 1113  0.0    1009\n",
      "-1.0      53\n",
      " 1.0      51\n",
      "Name: 13, dtype: int64\n",
      "Social policy 1102  0.0    1004\n",
      " 1.0      60\n",
      "-1.0      38\n",
      "Name: 14, dtype: int64\n"
     ]
    }
   ],
   "source": [
    "for i in range(15):\n",
    "    \n",
    "    temp = df[i].dropna() \n",
    "    print(get_dic_name(i),len(temp),temp.value_counts())"
   ]
  },
  {
   "cell_type": "code",
   "execution_count": null,
   "metadata": {
    "collapsed": true
   },
   "outputs": [],
   "source": []
  },
  {
   "cell_type": "code",
   "execution_count": 9,
   "metadata": {
    "collapsed": true
   },
   "outputs": [],
   "source": [
    "#df.true_cat.value_counts()"
   ]
  },
  {
   "cell_type": "code",
   "execution_count": 50,
   "metadata": {
    "collapsed": true
   },
   "outputs": [],
   "source": [
    "%matplotlib inline\n"
   ]
  },
  {
   "cell_type": "code",
   "execution_count": 109,
   "metadata": {
    "collapsed": true
   },
   "outputs": [],
   "source": [
    "label_counts = df[df.TRUE].category.value_counts().sort_index()\n",
    "believed_counts = df[df.TRUE].true_cat.value_counts().sort_index()\n",
    "## over- underestimations\n",
    "correction_df = pd.DataFrame((label_counts-believed_counts)/believed_counts).reset_index()\n",
    "correction_df.columns = ['topic_class','overestimation']\n",
    "correction_df['topic'] = correction_df.topic_class.apply(get_dic_name)"
   ]
  },
  {
   "cell_type": "code",
   "execution_count": 111,
   "metadata": {},
   "outputs": [
    {
     "data": {
      "text/plain": [
       "<matplotlib.axes._subplots.AxesSubplot at 0x7ff148ea7be0>"
      ]
     },
     "execution_count": 111,
     "metadata": {},
     "output_type": "execute_result"
    },
    {
     "data": {
      "image/png": "[encoded data removed]",
      "text/plain": [
       "<Figure size 432x288 with 1 Axes>"
      ]
     },
     "metadata": {},
     "output_type": "display_data"
    }
   ],
   "source": [
    "correction_df.index = correction_df.topic\n",
    "\n",
    "(correction_df.drop('topic_class',axis=1)).plot(kind='barh')"
   ]
  },
  {
   "cell_type": "code",
   "execution_count": null,
   "metadata": {
    "collapsed": true
   },
   "outputs": [],
   "source": []
  },
  {
   "cell_type": "code",
   "execution_count": 7,
   "metadata": {},
   "outputs": [
    {
     "data": {
      "text/plain": [
       "574"
      ]
     },
     "execution_count": 7,
     "metadata": {},
     "output_type": "execute_result"
    }
   ],
   "source": [
    "len(df[df['coder'] == 'slf'])"
   ]
  },
  {
   "cell_type": "code",
   "execution_count": 51,
   "metadata": {},
   "outputs": [
    {
     "name": "stdout",
     "output_type": "stream",
     "text": [
      "sr 0.596750545170572\n",
      "Series([], Name: classes, dtype: float64)\n",
      "ss 4.158859567708439\n",
      "1    0.756798\n",
      "2    0.200906\n",
      "3    0.025680\n",
      "4    0.015106\n",
      "5    0.001511\n",
      "Name: classes, dtype: float64\n",
      "slf 4.772738740642866\n",
      "1    0.839243\n",
      "2    0.132388\n",
      "3    0.021277\n",
      "4    0.007092\n",
      "Name: classes, dtype: float64\n"
     ]
    },
    {
     "name": "stderr",
     "output_type": "stream",
     "text": [
      "C:\\Users\\jbv933\\AppData\\Local\\Continuum\\anaconda3\\lib\\site-packages\\ipykernel_launcher.py:14: FutureWarning: pd.rolling_mean is deprecated for Series and will be removed in a future version, replace with \n",
      "\tSeries.rolling(window=10,center=False).mean()\n",
      "  \n",
      "C:\\Users\\jbv933\\AppData\\Local\\Continuum\\anaconda3\\lib\\site-packages\\ipykernel_launcher.py:15: FutureWarning: pd.rolling_mean is deprecated for Series and will be removed in a future version, replace with \n",
      "\tSeries.rolling(window=30,center=False).mean()\n",
      "  from ipykernel import kernelapp as app\n"
     ]
    },
    {
     "data": {
      "image/png": "[encoded data removed]",
      "text/plain": [
       "<matplotlib.figure.Figure at 0x24c325fbbe0>"
      ]
     },
     "metadata": {},
     "output_type": "display_data"
    }
   ],
   "source": [
    "import matplotlib.pyplot as plt\n",
    "%matplotlib inline\n",
    "from collections import Counter\n",
    "fig,ax = plt.subplots(2)\n",
    "for coder in set(df.coder):\n",
    "    \n",
    "    sub = df[df['coder'] == coder]\n",
    "    n_vals = sub[sub.classes.apply(type)==list].classes.apply(len)\n",
    "    class_count = n_vals.value_counts()\n",
    "    class_count = class_count/class_count.sum()\n",
    "    delta = (sub.t - sub.t.shift(1)).dropna() \n",
    "    print(coder,sum(delta[delta<500])/3600)\n",
    "    print(class_count)\n",
    "    ax[0].plot(pd.rolling_mean(delta[delta<500],window=10).values,label=coder)#.plot(label=coder)\n",
    "    ax[1].plot(pd.rolling_mean(n_vals,window=30).values,label=coder)\n",
    "plt.legend()\n",
    "fig.set_size_inches(15,12)"
   ]
  },
  {
   "cell_type": "code",
   "execution_count": 20,
   "metadata": {
    "collapsed": true
   },
   "outputs": [],
   "source": []
  },
  {
   "cell_type": "code",
   "execution_count": 21,
   "metadata": {},
   "outputs": [
    {
     "data": {
      "text/plain": [
       "4.772738740642866"
      ]
     },
     "execution_count": 21,
     "metadata": {},
     "output_type": "execute_result"
    }
   ],
   "source": [
    "sum(delta[delta<500])/3600"
   ]
  },
  {
   "cell_type": "code",
   "execution_count": 9,
   "metadata": {},
   "outputs": [
    {
     "data": {
      "text/plain": [
       "True     851\n",
       "False    234\n",
       "Name: Match, dtype: int64"
      ]
     },
     "execution_count": 9,
     "metadata": {},
     "output_type": "execute_result"
    }
   ],
   "source": [
    "import numpy as np\n",
    "def isin_categories(row):\n",
    "    cat = str(row['true_cat'])\n",
    "    if type(row['classes'])==float:\n",
    "        return np.nan\n",
    "    classes = set(row['classes'])\n",
    "    \n",
    "    if cat in classes:\n",
    "        return True\n",
    "    else:\n",
    "        return False\n",
    "df['Match'] = df.apply(isin_categories,axis=1)\n",
    "df.Match.value_counts()"
   ]
  },
  {
   "cell_type": "code",
   "execution_count": 10,
   "metadata": {},
   "outputs": [
    {
     "data": {
      "text/plain": [
       "0.784331797235023"
      ]
     },
     "execution_count": 10,
     "metadata": {},
     "output_type": "execute_result"
    }
   ],
   "source": [
    "df['validated2'] = df['Match'] #| df.validate\n",
    "counts = df[df['Match']!=np.nan].validated2.value_counts()#df.Match.value_counts()\n",
    "counts[True]/sum(counts)"
   ]
  },
  {
   "cell_type": "markdown",
   "metadata": {
    "collapsed": true
   },
   "source": [
    "# Performance F1 scores"
   ]
  },
  {
   "cell_type": "code",
   "execution_count": 60,
   "metadata": {},
   "outputs": [
    {
     "name": "stdout",
     "output_type": "stream",
     "text": [
      "kunst_musik_museum_kulturpolitik 0.10256410256410256\n",
      " klima_miljø_naturen  0.09259259259259259\n",
      "undervisning_folkeskole_ungdomsuddanelse 0.07142857142857142\n",
      "udenrigspolitik_ forsvaret _militær 0.12244897959183673\n",
      " EU 0.0\n",
      "Sundhed 0.0784313725490196\n",
      "Indvandrer_flygtninge_udlændinge 0.057692307692307696\n",
      "beskæftigelsespolitik_arbejdsløshed 0.13953488372093023\n",
      "Skat 0.0\n",
      "Forskning_ universitet_videregående udd 0.08695652173913043\n",
      "Religion_værdipolitik 0.22727272727272727\n",
      "økonomi_vækst 0.16666666666666666\n",
      "kriminalitet_kriminelle_grænsekontrol 0.08620689655172414\n",
      "hjemmehjælp_ældre_ pension_ plejehjem 0.043478260869565216\n",
      "fattig_socialt udsatte_socialministeriet_svageste 0.23255813953488372\n"
     ]
    }
   ],
   "source": [
    "categories = sorted(set(df.category))\n",
    "# count number of missing pr trick. # df.trick is True if not trick argg!!!\n",
    "tricks = df[~df.trick]\n",
    "wrong = []\n",
    "PRECISION = []\n",
    "for cat in categories:\n",
    "    sub = tricks[tricks.category==cat] # 10 percent chance of being wrong.\n",
    "    print(class2num[int(cat)],sum(sub['TRUE'])/len(sub))\n",
    "    wrong.append(sum(sub['TRUE'])/len(sub))\n",
    "    sub = df[df['category']==cat]"
   ]
  },
  {
   "cell_type": "code",
   "execution_count": 48,
   "metadata": {},
   "outputs": [
    {
     "name": "stdout",
     "output_type": "stream",
     "text": [
      "kunst_musik_museum_kulturpolitik 0.12195121951219512\n",
      " klima_miljø_naturen  0.06896551724137934\n",
      "undervisning_folkeskole_ungdomsuddanelse 0.13725490196078427\n",
      "udenrigspolitik_ forsvaret _militær 0.1875\n",
      " EU 0.13725490196078427\n",
      "Sundhed 0.19148936170212771\n",
      "Indvandrer_flygtninge_udlændinge 0.023255813953488413\n",
      "beskæftigelsespolitik_arbejdsløshed 0.05882352941176472\n",
      "Skat 0.08510638297872342\n",
      "Forskning_ universitet_videregående udd 0.27083333333333337\n",
      "Religion_værdipolitik 0.11111111111111116\n",
      "økonomi_vækst 0.1707317073170732\n",
      "kriminalitet_kriminelle_grænsekontrol 0.19999999999999996\n",
      "hjemmehjælp_ældre_ pension_ plejehjem 0.15517241379310343\n",
      "fattig_socialt udsatte_socialministeriet_svageste 0.09090909090909094\n"
     ]
    }
   ],
   "source": [
    "# count number of false.\n",
    "wrong2 = []\n",
    "not_tricks = df[df.trick]\n",
    "for cat in categories:\n",
    "    sub = not_tricks[not_tricks.category==cat]\n",
    "    print(class2num[int(cat)],1-(sum(sub['TRUE'])/len(sub)))\n",
    "    wrong2.append(1-sub['TRUE'].sum()/len(sub))"
   ]
  },
  {
   "cell_type": "code",
   "execution_count": 56,
   "metadata": {},
   "outputs": [
    {
     "name": "stdout",
     "output_type": "stream",
     "text": [
      "0.7654539128027321 0.8827269564013661 0.8659760476543361\n"
     ]
    }
   ],
   "source": [
    "import numpy as np\n",
    "# average error\n",
    "sum_ = [1-(w+w2) for w,w2 in zip(wrong,wrong2)] \n",
    "precisions = [1-w for w in wrong2] \n",
    "f1s = [((1-w)+(1-w2))/2 for w,w2 in zip(wrong,wrong2)] \n",
    "\n",
    "print(np.mean(sum_),np.mean(f1s),np.mean(precisions))"
   ]
  },
  {
   "cell_type": "code",
   "execution_count": null,
   "metadata": {
    "collapsed": true
   },
   "outputs": [],
   "source": [
    "# averagef1 accross topic"
   ]
  },
  {
   "cell_type": "code",
   "execution_count": 11,
   "metadata": {},
   "outputs": [
    {
     "data": {
      "text/plain": [
       "738"
      ]
     },
     "execution_count": 11,
     "metadata": {},
     "output_type": "execute_result"
    }
   ],
   "source": [
    "df['trick'] = df['category']==df['true_cat']\n",
    "sum(df.trick)"
   ]
  },
  {
   "cell_type": "code",
   "execution_count": 12,
   "metadata": {
    "collapsed": true
   },
   "outputs": [],
   "source": [
    "df['validate'] = (df['category']==df['true_cat']) & (df['true']=='y')\n"
   ]
  },
  {
   "cell_type": "code",
   "execution_count": 13,
   "metadata": {
    "collapsed": true
   },
   "outputs": [],
   "source": [
    "df['name'] = df.category.apply(lambda x: class2num[x])\n",
    "no_trick = df[df.trick]\n",
    "\n",
    "accuracy = no_trick.groupby('name').apply(lambda x: x.validate.sum()/len(x))"
   ]
  },
  {
   "cell_type": "code",
   "execution_count": 57,
   "metadata": {},
   "outputs": [
    {
     "data": {
      "text/plain": [
       "name\n",
       " EU                                                  0.862745\n",
       " klima_miljø_naturen                                 0.931034\n",
       "Forskning_ universitet_videregående udd              0.729167\n",
       "Indvandrer_flygtninge_udlændinge                     0.976744\n",
       "Religion_værdipolitik                                0.888889\n",
       "Skat                                                 0.914894\n",
       "Sundhed                                              0.808511\n",
       "beskæftigelsespolitik_arbejdsløshed                  0.941176\n",
       "fattig_socialt udsatte_socialministeriet_svageste    0.909091\n",
       "hjemmehjælp_ældre_ pension_ plejehjem                0.844828\n",
       "kriminalitet_kriminelle_grænsekontrol                0.800000\n",
       "kunst_musik_museum_kulturpolitik                     0.878049\n",
       "udenrigspolitik_ forsvaret _militær                  0.812500\n",
       "undervisning_folkeskole_ungdomsuddanelse             0.862745\n",
       "økonomi_vækst                                        0.829268\n",
       "dtype: float64"
      ]
     },
     "execution_count": 57,
     "metadata": {},
     "output_type": "execute_result"
    }
   ],
   "source": [
    "accuracy"
   ]
  },
  {
   "cell_type": "code",
   "execution_count": 59,
   "metadata": {},
   "outputs": [
    {
     "data": {
      "text/plain": [
       "0.8659760476543362"
      ]
     },
     "execution_count": 59,
     "metadata": {},
     "output_type": "execute_result"
    }
   ],
   "source": [
    "#accuracy.mean()\n"
   ]
  },
  {
   "cell_type": "code",
   "execution_count": 39,
   "metadata": {
    "collapsed": true
   },
   "outputs": [],
   "source": [
    "#accuracy"
   ]
  },
  {
   "cell_type": "code",
   "execution_count": 16,
   "metadata": {},
   "outputs": [
    {
     "name": "stdout",
     "output_type": "stream",
     "text": [
      "-"
     ]
    }
   ],
   "source": [
    "# construct confusion matrix.\n",
    "confusion_mat = np.zeros((len(class2num),len(class2num)+1))\n",
    "cat_counts = np.zeros(len(class2num))\n",
    "for true_cat,categories in df[['true_cat','classes']].values:\n",
    "    if type(categories)==float:\n",
    "        continue\n",
    "    \n",
    "    cat_counts[true_cat]+=1\n",
    "    for cat in categories:\n",
    "        if '.' in cat:\n",
    "            print('-',end='')\n",
    "            for cat in cat.split('.'):\n",
    "                cat = int(cat)\n",
    "                confusion_mat[true_cat][cat]+=1\n",
    "            continue\n",
    "        if cat=='':\n",
    "            confusion_mat[true_cat][-1]+=1\n",
    "            continue\n",
    "        cat = int(cat)\n",
    "        confusion_mat[true_cat][cat]+=1\n",
    "        "
   ]
  },
  {
   "cell_type": "code",
   "execution_count": 23,
   "metadata": {
    "collapsed": true
   },
   "outputs": [],
   "source": [
    "class2english = {'kunst _musik_museum_kulturpol': 'Culture', ' klima_ miljø _ naturen ': 'Environment',\n",
    "                 'undervis_folkeskole_ungdomsuddan': 'Education', 'udenrig_ forsvaret _militær': 'Foreign affairs',\n",
    "                 ' EU _ eu': 'EU', ' sundhed': 'Health',\n",
    "                 'indvandr_flygt_udlænding': 'Immigration', ' beskæftig': 'Employment', 'skat': 'Taxes', \n",
    "                 'forskning_ universitet_videregående udd': 'Science',\n",
    "                 ' religi_ værdipol': 'Religion', ' økonom_ vækst': 'Economy', \n",
    "                 'kriminal_kriminel': 'Crime', 'hjemmehjælp_ ældre _ pension_ plejehjem': 'Elder care',\n",
    "                 'fattig_socialt udsat_socialminis_svageste': 'Social policy'}\n",
    "\n",
    "english_names = list(class2english.values())\n",
    "class2english2 = {i:english_names[num] for num,i in enumerate(class2num)}\n",
    "#for i in class2num:\n",
    "#    print(list(enumerate(english_names)))\n",
    "#    val = english_names[int(input('WHich is this %s\\n'%i))]\n",
    "    "
   ]
  },
  {
   "cell_type": "code",
   "execution_count": 72,
   "metadata": {},
   "outputs": [
    {
     "data": {
      "image/png": "[encoded data removed]",
      "text/plain": [
       "<Figure size 864x576 with 1 Axes>"
      ]
     },
     "metadata": {},
     "output_type": "display_data"
    }
   ],
   "source": [
    "plt.style.use('ggplot')\n",
    "plt.figure(figsize=(12,8))\n",
    "plt.barh(range(len(english_names)),f1s)\n",
    "plt.title('F1 scores accross Dictionary Categories')\n",
    "plt.yticks(np.arange(len(english_names)),english_names)\n",
    "plt.savefig('f1_barplot.png',dpi=1000)"
   ]
  },
  {
   "cell_type": "code",
   "execution_count": null,
   "metadata": {
    "collapsed": true
   },
   "outputs": [],
   "source": []
  },
  {
   "cell_type": "code",
   "execution_count": 61,
   "metadata": {},
   "outputs": [
    {
     "data": {
      "image/png": "[encoded data removed]",
      "text/plain": [
       "<Figure size 432x288 with 2 Axes>"
      ]
     },
     "metadata": {},
     "output_type": "display_data"
    },
    {
     "data": {
      "image/png": "[encoded data removed]",
      "text/plain": [
       "<Figure size 864x576 with 2 Axes>"
      ]
     },
     "metadata": {},
     "output_type": "display_data"
    }
   ],
   "source": [
    "import matplotlib.pyplot as plt\n",
    "import seaborn as sns\n",
    "%matplotlib inline\n",
    "mat = []\n",
    "mat2 = []\n",
    "for num,row in enumerate(confusion_mat):\n",
    "    mat.append(row/row.sum())\n",
    "    mat2.append(row/cat_counts[num])\n",
    "sns.heatmap(confusion_mat)\n",
    "plt.title('Confusion Matrix')\n",
    "plt.figure(figsize=(12,8))\n",
    "sns.heatmap(mat2)\n",
    "plt.title('Confusion Matrix Normalized')\n",
    "plt.yticks(np.arange(len(class2num))+0.5,[class2english2[i] for i in class2num],rotation=0);\n",
    "plt.xticks(np.arange(len(class2num)+1)+0.5,[class2english2[i] for i in class2num]+['empty'],rotation=90);\n",
    "#plt.yticks(class2num)\n",
    "plt.savefig('confusion_matrix.png',dpi=1000)\n"
   ]
  },
  {
   "cell_type": "code",
   "execution_count": 27,
   "metadata": {},
   "outputs": [
    {
     "name": "stdout",
     "output_type": "stream",
     "text": [
      "0.5652173913043478 0.6190476190476191\n",
      "0.693069306930693 0.9459459459459459\n",
      "0.6391752577319587 0.7654320987654321\n",
      "0.6162790697674418 0.7361111111111112\n",
      "0.5490196078431373 0.7671232876712328\n",
      "0.6891891891891891 0.7846153846153846\n",
      "0.6081081081081081 0.8823529411764706\n",
      "0.6853932584269663 0.8840579710144928\n",
      "0.6666666666666666 0.8148148148148148\n",
      "0.5056179775280899 0.625\n",
      "0.6904761904761905 0.8285714285714286\n",
      "0.59375 0.76\n",
      "0.6039603960396039 0.7530864197530864\n",
      "0.58 0.7435897435897436\n",
      "0.6422018348623854 0.875\n"
     ]
    }
   ],
   "source": [
    "f1s = []\n",
    "for num,row in enumerate(confusion_mat):\n",
    "    print(row[num]/row.sum(),row[num]/cat_counts[num])\n",
    "    row/row.sum()\n",
    "    #mat.append()\n",
    "    mat2.append(row/cat_counts[num])\n",
    "    "
   ]
  },
  {
   "cell_type": "code",
   "execution_count": null,
   "metadata": {
    "collapsed": true
   },
   "outputs": [],
   "source": []
  },
  {
   "cell_type": "code",
   "execution_count": null,
   "metadata": {
    "collapsed": true
   },
   "outputs": [],
   "source": []
  },
  {
   "cell_type": "code",
   "execution_count": null,
   "metadata": {
    "collapsed": true
   },
   "outputs": [],
   "source": []
  },
  {
   "cell_type": "code",
   "execution_count": 35,
   "metadata": {},
   "outputs": [
    {
     "data": {
      "text/plain": [
       "0.8672086720867209"
      ]
     },
     "execution_count": 35,
     "metadata": {},
     "output_type": "execute_result"
    }
   ],
   "source": [
    "df.validate.sum() /sum(df.trick)"
   ]
  },
  {
   "cell_type": "code",
   "execution_count": 12,
   "metadata": {},
   "outputs": [
    {
     "data": {
      "text/plain": [
       "0.86709886547812"
      ]
     },
     "execution_count": 12,
     "metadata": {},
     "output_type": "execute_result"
    }
   ],
   "source": [
    "df.validate.sum() /sum(df.trick)"
   ]
  },
  {
   "cell_type": "code",
   "execution_count": 36,
   "metadata": {},
   "outputs": [
    {
     "data": {
      "text/plain": [
       "trick   \n",
       "False       0.901709\n",
       "       y    0.098291\n",
       "True   y    0.867209\n",
       "            0.132791\n",
       "Name: true, dtype: float64"
      ]
     },
     "execution_count": 36,
     "metadata": {},
     "output_type": "execute_result"
    }
   ],
   "source": [
    "df.groupby('trick').apply(lambda x: x.true.value_counts()/len(x))"
   ]
  },
  {
   "cell_type": "code",
   "execution_count": 37,
   "metadata": {},
   "outputs": [
    {
     "data": {
      "text/plain": [
       "98"
      ]
     },
     "execution_count": 37,
     "metadata": {},
     "output_type": "execute_result"
    }
   ],
   "source": [
    "errors = df[(df.trick)&(df.true!='y')]\n",
    "len(errors)"
   ]
  },
  {
   "cell_type": "code",
   "execution_count": 38,
   "metadata": {
    "collapsed": true
   },
   "outputs": [],
   "source": [
    "### ids = set(errors.id)\n",
    "correct = []\n",
    "    "
   ]
  },
  {
   "cell_type": "code",
   "execution_count": null,
   "metadata": {
    "collapsed": true
   },
   "outputs": [],
   "source": [
    "for topic,message in sample[sample.id.isin(ids)][['topic','message']].values[len(correct):]:\n",
    "    print(topic)\n",
    "    print(message)\n",
    "    print()\n",
    "    print('\\t')\n",
    "    correct.append(input('\\n\\tIs this true?\\n'))"
   ]
  },
  {
   "cell_type": "code",
   "execution_count": null,
   "metadata": {
    "collapsed": true
   },
   "outputs": [],
   "source": [
    "# Disse fejl løses ikke at Topic modelling fordi det er kompliceret semantik: \n",
    "##  Jeg har diskuteret med folkeskole elever, handler ikke om folkeskole\n",
    "## Når man blot nævner undervisnings minister Chistrine Antorini, så bliver det ikke til et undervisningstopic\n",
    "## USA og Sverige og Danmark nævnes i en debat om bredbænd. \n",
    "# Nu må en sygeplejerske ikke blive læge, som eksempel på en uddannelsesreform.\n",
    "## Europa bliver nævnt i forbindelse med en rejse. Men der er vel næppe et rejse topic?\n"
   ]
  },
  {
   "cell_type": "code",
   "execution_count": null,
   "metadata": {
    "collapsed": true
   },
   "outputs": [],
   "source": [
    "# Handler det mo kultur og musik når der nævnes at man skal til koncert?"
   ]
  },
  {
   "cell_type": "code",
   "execution_count": null,
   "metadata": {
    "collapsed": true
   },
   "outputs": [],
   "source": [
    "# \"justitsministeren bliver nævnt selvom det ikke handler om det område, men i stedet at han lidt skandaløst går af.\n",
    "# musik bliver nævnt i en post omkring støtte til ofrene i Aleppo"
   ]
  }
 ],
 "metadata": {
  "kernelspec": {
   "display_name": "Python 3",
   "language": "python",
   "name": "python3"
  },
  "language_info": {
   "codemirror_mode": {
    "name": "ipython",
    "version": 3
   },
   "file_extension": ".py",
   "mimetype": "text/x-python",
   "name": "python",
   "nbconvert_exporter": "python",
   "pygments_lexer": "ipython3",
   "version": "3.8.3"
  }
 },
 "nbformat": 4,
 "nbformat_minor": 2
}
