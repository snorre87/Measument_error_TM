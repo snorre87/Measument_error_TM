{
 "cells": [
  {
   "cell_type": "code",
   "execution_count": 12,
   "metadata": {},
   "outputs": [
    {
     "name": "stdout",
     "output_type": "stream",
     "text": [
      "506047\n"
     ]
    },
    {
     "data": {
      "text/plain": [
       "(472046, 12)"
      ]
     },
     "execution_count": 12,
     "metadata": {},
     "output_type": "execute_result"
    }
   ],
   "source": [
    "# load dataset\n",
    "import pandas as pd \n",
    "import pickle\n",
    "df = pickle.load(open('politician_posts_party.pkl','rb'))\n",
    "print(len(df))\n",
    "df = df[df.message.apply(type)==str]\n",
    "df.shape"
   ]
  },
  {
   "cell_type": "code",
   "execution_count": 14,
   "metadata": {},
   "outputs": [
    {
     "name": "stdout",
     "output_type": "stream",
     "text": [
      "8559\n"
     ]
    },
    {
     "data": {
      "text/plain": [
       "([(29998, 'læhegn'),\n",
       "  (29999, 'heder'),\n",
       "  (30000, 'americans'),\n",
       "  (30001, 'makeamericagreatagain')],\n",
       " 30000,\n",
       " 46209)"
      ]
     },
     "execution_count": 14,
     "metadata": {},
     "output_type": "execute_result"
    }
   ],
   "source": [
    "base = '/home/snorre/Dropbox/Forskning/bigdata/data_inspections/'\n",
    "meta_path = base+'simulation_results/metrics/'\n",
    "meta_path2 = base+'simulation_results/distributions/'\n",
    "from os import listdir\n",
    "result_path = '/mnt/b0c8e396-e5ba-4614-be6f-146c4c861ab3/data/topic_model_simulation/models/'\n",
    "model_runs = set(['_'.join(i.split('_')[0:3]) for i in listdir(result_path)])\n",
    "model_runs = sorted(model_runs,key=lambda x: int(x.split('_')[-1]))\n",
    "print(len(model_runs))\n",
    "#pol_df = pd.read_csv(base+'data/topic_modelling_dataset.csv').drop('bow',axis=1)\n",
    "import pickle\n",
    "\n",
    "pol_df,noise_df, Index = pickle.load(open(base+'topic_simulation_dependencies.pkl','rb'))\n",
    "# Define where the noise begins.\n",
    "noise_start_w = 30000\n",
    "noise_start_d = len(pol_df)\n",
    "list(enumerate(Index))[noise_start_w-2:noise_start_w+2],noise_start_w,noise_start_d"
   ]
  },
  {
   "cell_type": "code",
   "execution_count": null,
   "metadata": {
    "collapsed": true
   },
   "outputs": [],
   "source": []
  },
  {
   "cell_type": "code",
   "execution_count": 15,
   "metadata": {},
   "outputs": [
    {
     "data": {
      "text/plain": [
       "(1338, 692, 1338)"
      ]
     },
     "execution_count": 15,
     "metadata": {},
     "output_type": "execute_result"
    }
   ],
   "source": [
    "import json\n",
    "class2num = dict(pol_df[['topic','topic_class']].values)\n",
    "class2num = sorted(class2num,key=lambda x: class2num[x])\n",
    "dictionary = [(topic,set(values)) for topic,values in json.load(open('dictionary_topics.js','r')).items()]\n",
    "from nltk.stem.snowball import DanishStemmer\n",
    "import nltk\n",
    "stemmer = DanishStemmer()\n",
    "\n",
    "w2lex = {}\n",
    "\n",
    "for topic,vals in dictionary:\n",
    "    for val in vals:\n",
    "        if val in w2lex:\n",
    "            w2lex[val].append(topic)\n",
    "            #print(val,topic,w2lex[val])\n",
    "        w2lex[val] = [topic]\n",
    "\n",
    "lex2idx = {topic:set() for topic in class2num}\n",
    "#idx2lex = {idx:lex for lex,indices in lex2idx.items() for idx in indices }\n",
    "in_lex = set()\n",
    "for num,w in enumerate(Index):\n",
    "    if w in w2lex:\n",
    "        topics = w2lex[w]\n",
    "        for topic in topics:\n",
    "            lex2idx[topic].add(num)\n",
    "    w_stem = stemmer.stem(w)\n",
    "    if w_stem in w2lex:\n",
    "        topics = w2lex[w_stem]\n",
    "        for topic in topics:\n",
    "            lex2idx[topic].add(num)\n",
    "\n",
    "idx2lex = {}\n",
    "for dicname,values in lex2idx.items():\n",
    "    for val in values:\n",
    "        idx2lex[val] = dicname\n",
    "\n",
    "sum([len(s) for s in lex2idx.values()]),len(w2lex),len(idx2lex)"
   ]
  },
  {
   "cell_type": "code",
   "execution_count": 81,
   "metadata": {
    "collapsed": true
   },
   "outputs": [],
   "source": [
    "topwords= pickle.load(open('Topword_Occurence.pkl','rb'))\n",
    "def load_dataframe(filename,names = ['word','idx','include','top_occurence']):\n",
    "    try:\n",
    "        df = pd.read_csv(filename,names = names,encoding='latin1')\n",
    "    except:\n",
    "        df = pd.read_csv(filename,names = names,encoding='utf-8')\n",
    "    return df\n",
    "suspect_df = pd.read_csv('lexicon_extension_suspects.csv')\n",
    "dones = []\n",
    "for name,groupdf in suspect_df.groupby('best_match'):\n",
    "    filename = 'lexicon_extension_%s.csv'%name\n",
    "    done_df = load_dataframe(filename)\n",
    "    dones.append(done_df)\n",
    "done_df = pd.concat(dones)\n",
    "len(done_df)\n",
    "include = set(done_df[done_df.include==3].idx)\n",
    "#dict(suspect_df[suspect_df.idx.isin(include)][['idx','best_match_dk']].values)\n",
    "idx2lex.update(dict(suspect_df[suspect_df.idx.isin(include)][['idx','best_match_dk']].values))\n"
   ]
  },
  {
   "cell_type": "code",
   "execution_count": 82,
   "metadata": {},
   "outputs": [],
   "source": [
    "lex2w = {lex:set() for lex in idx2lex.values()}\n",
    "for idx,lex in idx2lex.items():\n",
    "    lex2w[lex].add(Index[idx])"
   ]
  },
  {
   "cell_type": "code",
   "execution_count": 24,
   "metadata": {},
   "outputs": [],
   "source": [
    "import nltk\n",
    "def get_topic(text):\n",
    "    \n",
    "    words = set([w.lower() for w in nltk.word_tokenize(text)])\n",
    "    d2top = np.zeros(len(lex2w))\n",
    "    for num,top in enumerate(class2num):\n",
    "        \n",
    "        s = lex2w[top]\n",
    "        d2top[num] = len(s&words)\n",
    "    return d2top\n",
    "import numpy as np\n",
    "    \n",
    "t_assignments = np.array([get_topic(text) for text in df.message])"
   ]
  },
  {
   "cell_type": "code",
   "execution_count": 75,
   "metadata": {},
   "outputs": [
    {
     "data": {
      "text/plain": [
       "<matplotlib.axes._subplots.AxesSubplot at 0x7f4240f00358>"
      ]
     },
     "execution_count": 75,
     "metadata": {},
     "output_type": "execute_result"
    },
    {
     "data": {
      "image/png": "[encoded data removed]",
      "text/plain": [
       "<Figure size 432x288 with 2 Axes>"
      ]
     },
     "metadata": {},
     "output_type": "display_data"
    }
   ],
   "source": [
    "import seaborn as sns\n",
    "%matplotlib inline\n",
    "import matplotlib.pyplot as plt\n",
    "columns = [get_dic_name(i) for i in range(15)]\n",
    "sns.heatmap(pd.DataFrame(t_assignments.T.dot(t_assignments),columns=columns,index=columns))"
   ]
  },
  {
   "cell_type": "code",
   "execution_count": 99,
   "metadata": {},
   "outputs": [],
   "source": [
    "topic_df = pd.DataFrame(t_assignments,columns=[get_dic_name(i) for i in range(15)])"
   ]
  },
  {
   "cell_type": "code",
   "execution_count": 114,
   "metadata": {},
   "outputs": [],
   "source": [
    "df_t = pd.concat([df.reset_index(drop=True),topic_df.reset_index(drop=True)],axis=1)"
   ]
  },
  {
   "cell_type": "code",
   "execution_count": 240,
   "metadata": {},
   "outputs": [],
   "source": [
    "df_t['No category'] = t_assignments.sum(axis=1)==0"
   ]
  },
  {
   "cell_type": "code",
   "execution_count": 162,
   "metadata": {},
   "outputs": [
    {
     "data": {
      "text/plain": [
       "22500"
      ]
     },
     "execution_count": 162,
     "metadata": {},
     "output_type": "execute_result"
    }
   ],
   "source": [
    "certainty = 10\n",
    "15*15*10 * certainty"
   ]
  },
  {
   "cell_type": "code",
   "execution_count": 138,
   "metadata": {
    "collapsed": true
   },
   "outputs": [],
   "source": [
    "cat2count = (t_assignments>0).sum(axis=0)"
   ]
  },
  {
   "cell_type": "code",
   "execution_count": null,
   "metadata": {},
   "outputs": [],
   "source": [
    "budget = 10000\n",
    "split_col = 'party'\n",
    "n_split = df_t[split_col].nunique()\n",
    "split_k = budget/n_split\n"
   ]
  },
  {
   "cell_type": "code",
   "execution_count": 135,
   "metadata": {},
   "outputs": [],
   "source": [
    "# sample p2t\n",
    "samples = []\n",
    "for val in set(df_t[split_col]):\n",
    "    temp = df_t[df_t[split_col]==val]\n",
    "    for i in range(15):\n",
    "        ## assume \n",
    "        sub_budget = \n",
    "        sub = temp[temp[get_dic_name(i)]>0]\n",
    "    t_sample = sub.groupby('party').apply(lambda x: x.sample(min([len(x),100]))).reset_index(drop=True)\n",
    "    t_sample['topic_class'] = i\n",
    "    \n",
    "    samples.append(t_sample)"
   ]
  },
  {
   "cell_type": "code",
   "execution_count": 279,
   "metadata": {},
   "outputs": [
    {
     "data": {
      "text/plain": [
       "(150, 1500)"
      ]
     },
     "execution_count": 279,
     "metadata": {},
     "output_type": "execute_result"
    }
   ],
   "source": [
    "len(class_cols)*10,len(t_sample)"
   ]
  },
  {
   "cell_type": "code",
   "execution_count": 286,
   "metadata": {},
   "outputs": [
    {
     "data": {
      "text/plain": [
       "(24000, 32)"
      ]
     },
     "execution_count": 286,
     "metadata": {},
     "output_type": "execute_result"
    }
   ],
   "source": [
    "samples = []\n",
    "true_percentage = 0.5\n",
    "overlap_percentage = 0.1\n",
    "\n",
    "class_cols = [get_dic_name(i) for i in range(15)]\n",
    "n_pr_class = 10\n",
    "n_samples = len(class_cols) * n_pr_class\n",
    "\n",
    "\n",
    "def make_sample(groupdf):\n",
    "    sample = groupdf.sample(n_samples,replace=True).reset_index()\n",
    "    sample['presented_class'] = class_cols*n_pr_class\n",
    "    return sample\n",
    "## non category\n",
    "t_sample = df_t[df_t['No category']==1].groupby('party').apply(make_sample).reset_index(drop=True)\n",
    "t_sample['topic_class'] = 'No category'\n",
    "\n",
    "\n",
    "\n",
    "#t_sample.loc[~t_sample.true_class,'presented_class'] = [random.choice(class_cols) for _ in range(sum(~t_sample.true_class))]\n",
    "t_sample['inter_coder'] = [np.random.uniform()<=overlap_percentage for _ in range(len(t_sample))]\n",
    "samples.append(t_sample)\n",
    "for i in class_cols:\n",
    "    sub = df_t[df_t[i]>0]\n",
    "    df.reset_index()\n",
    "    t_sample = sub.groupby('party').apply(make_sample).reset_index(drop=True)#col_fill='doc_id')\n",
    "    t_sample['topic_class'] = i\n",
    "    #id2true = {doc_id:np.random.uniform()<=true_percentage for doc_id in t_sample['index']}\n",
    "    \n",
    "    \n",
    "    #t_sample['presented_topic'] = range(15) \n",
    "    t_sample['inter_coder'] = [np.random.uniform()<=overlap_percentage for _ in range(len(t_sample))]\n",
    "    samples.append(t_sample)\n",
    "p_sample = pd.concat(samples)\n",
    "p_sample.shape"
   ]
  },
  {
   "cell_type": "code",
   "execution_count": 305,
   "metadata": {},
   "outputs": [],
   "source": [
    "\n",
    "#p_sample.groupby(['inter_coder','presented_class']).size()[False]"
   ]
  },
  {
   "cell_type": "code",
   "execution_count": 307,
   "metadata": {},
   "outputs": [
    {
     "data": {
      "text/plain": [
       "240.0"
      ]
     },
     "execution_count": 307,
     "metadata": {},
     "output_type": "execute_result"
    }
   ],
   "source": [
    "24000 / 100"
   ]
  },
  {
   "cell_type": "code",
   "execution_count": 311,
   "metadata": {},
   "outputs": [
    {
     "data": {
      "text/plain": [
       "31200"
      ]
     },
     "execution_count": 311,
     "metadata": {},
     "output_type": "execute_result"
    }
   ],
   "source": [
    "240*130"
   ]
  },
  {
   "cell_type": "code",
   "execution_count": 312,
   "metadata": {
    "collapsed": true
   },
   "outputs": [],
   "source": [
    "## sentence level to make it cheaper. And find the best number of category choices pr sentence.\n"
   ]
  },
  {
   "cell_type": "code",
   "execution_count": null,
   "metadata": {
    "collapsed": true
   },
   "outputs": [],
   "source": [
    "## how can we make it cheaper?\n",
    "\n",
    "## Assume independence of parties and subcategories for recall. \n",
    "\n",
    "## Sentence level.\n",
    "\n",
    "## Increase the number of Categories pr sentence, violating some assumption.\n",
    "\n",
    "## If not in a multiclass setting then they will rule each other out.\n",
    "\n"
   ]
  },
  {
   "cell_type": "code",
   "execution_count": 319,
   "metadata": {},
   "outputs": [
    {
     "data": {
      "text/plain": [
       "0.18945833333333334"
      ]
     },
     "execution_count": 319,
     "metadata": {},
     "output_type": "execute_result"
    }
   ],
   "source": [
    "p_sample['index'].value_counts().values[p_sample['index'].value_counts()>1].sum() / len(p_sample)"
   ]
  },
  {
   "cell_type": "code",
   "execution_count": 290,
   "metadata": {},
   "outputs": [],
   "source": [
    "#p_sample.groupby(['topic_class','presented_class']).size().unstack()"
   ]
  },
  {
   "cell_type": "code",
   "execution_count": 295,
   "metadata": {},
   "outputs": [
    {
     "data": {
      "text/plain": [
       "24000"
      ]
     },
     "execution_count": 295,
     "metadata": {},
     "output_type": "execute_result"
    }
   ],
   "source": [
    "10*10*15*15 + 10*150"
   ]
  },
  {
   "cell_type": "code",
   "execution_count": 292,
   "metadata": {},
   "outputs": [
    {
     "data": {
      "text/plain": [
       "<matplotlib.axes._subplots.AxesSubplot at 0x7f4241390978>"
      ]
     },
     "execution_count": 292,
     "metadata": {},
     "output_type": "execute_result"
    },
    {
     "data": {
      "image/png": "[encoded data removed]",
      "text/plain": [
       "<Figure size 432x288 with 2 Axes>"
      ]
     },
     "metadata": {},
     "output_type": "display_data"
    }
   ],
   "source": [
    "sns.heatmap(p_sample.groupby(['topic_class','presented_class']).size().unstack())"
   ]
  },
  {
   "cell_type": "code",
   "execution_count": 234,
   "metadata": {},
   "outputs": [
    {
     "ename": "ValueError",
     "evalue": "Cannot take a larger sample than population when 'replace=False'",
     "output_type": "error",
     "traceback": [
      "\u001b[0;31m---------------------------------------------------------------------------\u001b[0m",
      "\u001b[0;31mValueError\u001b[0m                                Traceback (most recent call last)",
      "\u001b[0;32m<ipython-input-234-08ebca5fdc2e>\u001b[0m in \u001b[0;36m<module>\u001b[0;34m()\u001b[0m\n\u001b[0;32m----> 1\u001b[0;31m \u001b[0mdf\u001b[0m\u001b[0;34m.\u001b[0m\u001b[0msample\u001b[0m\u001b[0;34m(\u001b[0m\u001b[0;36m10\u001b[0m\u001b[0;34m)\u001b[0m\u001b[0;34m.\u001b[0m\u001b[0msample\u001b[0m\u001b[0;34m(\u001b[0m\u001b[0;36m20\u001b[0m\u001b[0;34m)\u001b[0m\u001b[0;34m\u001b[0m\u001b[0m\n\u001b[0m",
      "\u001b[0;32m/home/snorre/anaconda3/lib/python3.6/site-packages/pandas/core/generic.py\u001b[0m in \u001b[0;36msample\u001b[0;34m(self, n, frac, replace, weights, random_state, axis)\u001b[0m\n\u001b[1;32m   4199\u001b[0m                              \"provide positive value.\")\n\u001b[1;32m   4200\u001b[0m \u001b[0;34m\u001b[0m\u001b[0m\n\u001b[0;32m-> 4201\u001b[0;31m         \u001b[0mlocs\u001b[0m \u001b[0;34m=\u001b[0m \u001b[0mrs\u001b[0m\u001b[0;34m.\u001b[0m\u001b[0mchoice\u001b[0m\u001b[0;34m(\u001b[0m\u001b[0maxis_length\u001b[0m\u001b[0;34m,\u001b[0m \u001b[0msize\u001b[0m\u001b[0;34m=\u001b[0m\u001b[0mn\u001b[0m\u001b[0;34m,\u001b[0m \u001b[0mreplace\u001b[0m\u001b[0;34m=\u001b[0m\u001b[0mreplace\u001b[0m\u001b[0;34m,\u001b[0m \u001b[0mp\u001b[0m\u001b[0;34m=\u001b[0m\u001b[0mweights\u001b[0m\u001b[0;34m)\u001b[0m\u001b[0;34m\u001b[0m\u001b[0m\n\u001b[0m\u001b[1;32m   4202\u001b[0m         \u001b[0;32mreturn\u001b[0m \u001b[0mself\u001b[0m\u001b[0;34m.\u001b[0m\u001b[0mtake\u001b[0m\u001b[0;34m(\u001b[0m\u001b[0mlocs\u001b[0m\u001b[0;34m,\u001b[0m \u001b[0maxis\u001b[0m\u001b[0;34m=\u001b[0m\u001b[0maxis\u001b[0m\u001b[0;34m,\u001b[0m \u001b[0mis_copy\u001b[0m\u001b[0;34m=\u001b[0m\u001b[0;32mFalse\u001b[0m\u001b[0;34m)\u001b[0m\u001b[0;34m\u001b[0m\u001b[0m\n\u001b[1;32m   4203\u001b[0m \u001b[0;34m\u001b[0m\u001b[0m\n",
      "\u001b[0;32mmtrand.pyx\u001b[0m in \u001b[0;36mmtrand.RandomState.choice\u001b[0;34m()\u001b[0m\n",
      "\u001b[0;31mValueError\u001b[0m: Cannot take a larger sample than population when 'replace=False'"
     ]
    }
   ],
   "source": [
    "df.sample(10).sample(20)"
   ]
  },
  {
   "cell_type": "code",
   "execution_count": null,
   "metadata": {
    "collapsed": true
   },
   "outputs": [],
   "source": [
    "df.sample"
   ]
  },
  {
   "cell_type": "code",
   "execution_count": 199,
   "metadata": {},
   "outputs": [
    {
     "data": {
      "text/plain": [
       "0.499863"
      ]
     },
     "execution_count": 199,
     "metadata": {},
     "output_type": "execute_result"
    }
   ],
   "source": [
    "# determine which class to present.\n",
    "import random\n",
    "n = 100000\n",
    "Counter([random.random()>=0.5 for i in range(n)])[True]/n"
   ]
  },
  {
   "cell_type": "code",
   "execution_count": 211,
   "metadata": {},
   "outputs": [
    {
     "name": "stdout",
     "output_type": "stream",
     "text": [
      "0.000984999999999997\n",
      "0.0016280000000000183\n"
     ]
    }
   ],
   "source": [
    "n = 100000\n",
    "print(np.mean([abs(0.5-Counter([np.random.uniform()>=0.5 for i in range(n)])[True]/n) for _ in range(10)]))\n",
    "print(np.mean([abs(0.5-Counter([random.random()>=0.5 for i in range(n)])[True]/n) for _ in range(10)]))\n",
    "\n"
   ]
  },
  {
   "cell_type": "code",
   "execution_count": 86,
   "metadata": {},
   "outputs": [],
   "source": [
    "#Counter(t_assignments.flatten())"
   ]
  },
  {
   "cell_type": "code",
   "execution_count": 39,
   "metadata": {
    "collapsed": true
   },
   "outputs": [],
   "source": [
    "def re_count(regex_pattern, thestring):\n",
    "    return len(regex_pattern.findall(thestring))\n",
    "\n",
    "def re_count2(regex_pattern, thestring):\n",
    "    total = 0\n",
    "    start = 0\n",
    "\n",
    "    while True:\n",
    "        mo = regex_pattern.search(thestring, start)\n",
    "        if mo is None: return total\n",
    "        total += 1\n",
    "        start = 1 + mo.start()"
   ]
  },
  {
   "cell_type": "code",
   "execution_count": 40,
   "metadata": {
    "collapsed": true
   },
   "outputs": [],
   "source": [
    "lex_regexes = {}\n",
    "for lex,patterns in lex2w.items():\n",
    "    ## add back and forward check (whitespace,- or first), (white space, - ? or end)\n",
    "    #patterns = [''.join([back_look,pattern,end_look]) for pattern in patterns]\n",
    "    pattern = re.compile('|'.join(patterns))\n",
    "    lex_regexes[lex] = pattern\n",
    "    "
   ]
  },
  {
   "cell_type": "code",
   "execution_count": 43,
   "metadata": {
    "collapsed": true
   },
   "outputs": [],
   "source": [
    "sample_df = df.sample(2000).copy()"
   ]
  },
  {
   "cell_type": "code",
   "execution_count": 57,
   "metadata": {},
   "outputs": [],
   "source": [
    "def match_topics(df):\n",
    "    for lex in class2num:\n",
    "        pattern = lex_regexes[lex]\n",
    "        \n",
    "        df[lex] = df.message.apply(lambda x: re_count2(pattern,x))\n",
    "    return df\n",
    "def simple_count(patterns,text):\n",
    "    return sum([text.count(pattern) for pattern in patterns])\n",
    "def match_topics2(df):\n",
    "    for lex in class2num:\n",
    "        \n",
    "        ws = lex2w[lex]\n",
    "        df[lex] = df.message.apply(lambda x: simple_count(patterns,x) )\n",
    "    return df"
   ]
  },
  {
   "cell_type": "code",
   "execution_count": 59,
   "metadata": {},
   "outputs": [],
   "source": [
    "#match_topics2(sample_df)"
   ]
  },
  {
   "cell_type": "code",
   "execution_count": null,
   "metadata": {
    "collapsed": true
   },
   "outputs": [],
   "source": []
  },
  {
   "cell_type": "code",
   "execution_count": 60,
   "metadata": {},
   "outputs": [
    {
     "name": "stdout",
     "output_type": "stream",
     "text": [
      "1 loop, best of 3: 2.26 s per loop\n",
      "1 loop, best of 3: 586 ms per loop\n"
     ]
    }
   ],
   "source": [
    "%timeit match_topics(sample_df)\n",
    "%timeit match_topics2(sample_df)"
   ]
  },
  {
   "cell_type": "code",
   "execution_count": null,
   "metadata": {
    "collapsed": true
   },
   "outputs": [],
   "source": []
  },
  {
   "cell_type": "code",
   "execution_count": null,
   "metadata": {
    "collapsed": true
   },
   "outputs": [],
   "source": []
  },
  {
   "cell_type": "code",
   "execution_count": null,
   "metadata": {
    "collapsed": true
   },
   "outputs": [],
   "source": []
  },
  {
   "cell_type": "code",
   "execution_count": 41,
   "metadata": {},
   "outputs": [
    {
     "name": "stdout",
     "output_type": "stream",
     "text": [
      "100 loops, best of 3: 2.31 ms per loop\n",
      "100 loops, best of 3: 2.15 ms per loop\n",
      "1000 loops, best of 3: 1.02 ms per loop\n"
     ]
    }
   ],
   "source": [
    "%timeit re_count(pattern,sample)\n",
    "%timeit re_count2(pattern,sample)\n",
    "%timeit sum([sample.count(pattern) for pattern in patterns])"
   ]
  },
  {
   "cell_type": "code",
   "execution_count": 61,
   "metadata": {},
   "outputs": [
    {
     "name": "stdout",
     "output_type": "stream",
     "text": [
      "yo\n"
     ]
    }
   ],
   "source": []
  },
  {
   "cell_type": "code",
   "execution_count": 37,
   "metadata": {},
   "outputs": [
    {
     "name": "stdout",
     "output_type": "stream",
     "text": [
      "1000 loops, best of 3: 250 µs per loop\n",
      "1000 loops, best of 3: 248 µs per loop\n",
      "10000 loops, best of 3: 57.6 µs per loop\n"
     ]
    }
   ],
   "source": [
    "%timeit re_count(regex_pattern,sample)\n",
    "%timeit re_count2(regex_pattern,sample)\n",
    "%timeit sum([sample.count(pattern) for pattern in patterns])"
   ]
  },
  {
   "cell_type": "code",
   "execution_count": null,
   "metadata": {
    "collapsed": true
   },
   "outputs": [],
   "source": []
  },
  {
   "cell_type": "code",
   "execution_count": null,
   "metadata": {
    "collapsed": true
   },
   "outputs": [],
   "source": []
  },
  {
   "cell_type": "code",
   "execution_count": 27,
   "metadata": {
    "collapsed": true
   },
   "outputs": [],
   "source": [
    "sample = ' '.join(df.sample(100).message)"
   ]
  },
  {
   "cell_type": "code",
   "execution_count": 32,
   "metadata": {},
   "outputs": [
    {
     "data": {
      "text/plain": [
       "(18, 5)"
      ]
     },
     "execution_count": 32,
     "metadata": {},
     "output_type": "execute_result"
    }
   ],
   "source": [
    "sample.count('politik'),sample.count('dkpol')"
   ]
  },
  {
   "cell_type": "code",
   "execution_count": 30,
   "metadata": {},
   "outputs": [
    {
     "data": {
      "text/plain": [
       "18"
      ]
     },
     "execution_count": 30,
     "metadata": {},
     "output_type": "execute_result"
    }
   ],
   "source": [
    "import re\n",
    "countoverlappingdistinct('politik',sample)"
   ]
  },
  {
   "cell_type": "code",
   "execution_count": 33,
   "metadata": {},
   "outputs": [
    {
     "name": "stdout",
     "output_type": "stream",
     "text": [
      "The slowest run took 5.05 times longer than the fastest. This could mean that an intermediate result is being cached.\n",
      "1000 loops, best of 3: 250 µs per loop\n",
      "10000 loops, best of 3: 33.2 µs per loop\n"
     ]
    }
   ],
   "source": [
    "%timeit countoverlappingdistinct('politik|dkpol',sample)\n",
    "%timeit sample.count('politik'),sample.count('dkpol')"
   ]
  },
  {
   "cell_type": "markdown",
   "metadata": {},
   "source": [
    "## Simulate certainty"
   ]
  },
  {
   "cell_type": "code",
   "execution_count": null,
   "metadata": {},
   "outputs": [
    {
     "data": {
      "application/vnd.jupyter.widget-view+json": {
       "model_id": "253250d6279144b69816165cf6d2c57e"
      }
     },
     "metadata": {},
     "output_type": "display_data"
    }
   ],
   "source": [
    "n_draws = np.arange(10,1000,10)\n",
    "percentages = np.linspace(0.01,0.90,100)\n",
    "iters = 10000\n",
    "p2errors = []\n",
    "from tqdm import tqdm_notebook as tqdm\n",
    "for perc in tqdm(percentages):\n",
    "    errors = []\n",
    "    for n in n_draws:\n",
    "        temp = []\n",
    "        for i in range(iters):\n",
    "            draws = [np.random.uniform()<=perc for _ in range(n)]\n",
    "            estimate = np.mean(draws)\n",
    "            error = abs(estimate-perc)\n",
    "            temp.append(error)\n",
    "        errors.append((np.quantile(temp,0.05),np.mean(temp),np.quantile(temp,0.95)))#np.quantile(temp,0.95)\n",
    "    p2errors.append(errors)\n"
   ]
  },
  {
   "cell_type": "code",
   "execution_count": null,
   "metadata": {
    "collapsed": true
   },
   "outputs": [],
   "source": []
  },
  {
   "cell_type": "code",
   "execution_count": 359,
   "metadata": {},
   "outputs": [
    {
     "data": {
      "text/plain": [
       "<matplotlib.legend.Legend at 0x7f423f1f3588>"
      ]
     },
     "execution_count": 359,
     "metadata": {},
     "output_type": "execute_result"
    },
    {
     "data": {
      "image/png": "[encoded data removed]",
      "text/plain": [
       "<Figure size 432x288 with 1 Axes>"
      ]
     },
     "metadata": {},
     "output_type": "display_data"
    }
   ],
   "source": [
    "for num,errors in enumerate(p2errors):\n",
    "    l,y,u = zip(*errors)\n",
    "    plt.plot(n_draws,u,label=round(percentages[num],3),color=plt.cm.viridis(percentages[num]/max(percentages)))\n",
    "plt.legend()"
   ]
  },
  {
   "cell_type": "code",
   "execution_count": null,
   "metadata": {
    "collapsed": true
   },
   "outputs": [],
   "source": [
    "# In a single class setting.  \n",
    "    ## Fist estimate precision. \n",
    "    ## Weigh the errors to "
   ]
  },
  {
   "cell_type": "code",
   "execution_count": 352,
   "metadata": {},
   "outputs": [
    {
     "data": {
      "text/plain": [
       "(0.05789473684210528, 0.023273684210526314)"
      ]
     },
     "execution_count": 352,
     "metadata": {},
     "output_type": "execute_result"
    }
   ],
   "source": [
    "np.quantile(temp,0.95),np.mean(temp)"
   ]
  },
  {
   "cell_type": "code",
   "execution_count": null,
   "metadata": {
    "collapsed": true
   },
   "outputs": [],
   "source": []
  },
  {
   "cell_type": "code",
   "execution_count": null,
   "metadata": {
    "collapsed": true
   },
   "outputs": [],
   "source": []
  },
  {
   "cell_type": "code",
   "execution_count": 339,
   "metadata": {},
   "outputs": [
    {
     "data": {
      "text/plain": [
       "[0.117,\n",
       " 0.09499999999999999,\n",
       " 0.06699999999999999,\n",
       " 0.05474999999999999,\n",
       " 0.0552,\n",
       " 0.05249999999999999,\n",
       " 0.0477142857142857,\n",
       " 0.0415,\n",
       " 0.04133333333333332,\n",
       " 0.03900000000000001,\n",
       " 0.04172727272727272,\n",
       " 0.033666666666666664,\n",
       " 0.03307692307692306,\n",
       " 0.03328571428571428,\n",
       " 0.03,\n",
       " 0.029249999999999995,\n",
       " 0.03064705882352941,\n",
       " 0.026722222222222213,\n",
       " 0.03357894736842106]"
      ]
     },
     "execution_count": 339,
     "metadata": {},
     "output_type": "execute_result"
    }
   ],
   "source": []
  },
  {
   "cell_type": "code",
   "execution_count": 334,
   "metadata": {},
   "outputs": [
    {
     "data": {
      "text/plain": [
       "[<matplotlib.lines.Line2D at 0x7f424127fcf8>]"
      ]
     },
     "execution_count": 334,
     "metadata": {},
     "output_type": "execute_result"
    },
    {
     "data": {
      "image/png": "[encoded data removed]",
      "text/plain": [
       "<Figure size 432x288 with 1 Axes>"
      ]
     },
     "metadata": {},
     "output_type": "display_data"
    }
   ],
   "source": [
    "plt.plot(np.array(temp))"
   ]
  },
  {
   "cell_type": "code",
   "execution_count": null,
   "metadata": {
    "collapsed": true
   },
   "outputs": [],
   "source": []
  },
  {
   "cell_type": "code",
   "execution_count": 74,
   "metadata": {},
   "outputs": [
    {
     "data": {
      "text/plain": [
       "'Environment'"
      ]
     },
     "execution_count": 74,
     "metadata": {},
     "output_type": "execute_result"
    }
   ],
   "source": [
    "get_dic_name(1)"
   ]
  },
  {
   "cell_type": "code",
   "execution_count": 72,
   "metadata": {},
   "outputs": [],
   "source": [
    "## Classify the posts.\n",
    "import numpy as np\n",
    "import pandas as pd\n",
    "import seaborn as sns\n",
    "from collections import Counter\n",
    "class2english = {'kunst _musik_museum_kulturpol': 'Culture', ' klima_ miljø _ naturen ': 'Environment',\n",
    "                 'undervis_folkeskole_ungdomsuddan': 'Education', 'udenrig_ forsvaret _militær': 'Foreign affairs',\n",
    "                 ' EU _ eu': 'EU', ' sundhed': 'Health',\n",
    "                 'indvandr_flygt_udlænding': 'Immigration', ' beskæftig': 'Employment', 'skat': 'Taxes', \n",
    "                 'forskning_ universitet_videregående udd': 'Science',\n",
    "                 ' religi_ værdipol': 'Religion', ' økonom_ vækst': 'Economy', \n",
    "                 'kriminal_kriminel': 'Crime', 'hjemmehjælp_ ældre _ pension_ plejehjem': 'Elder care',\n",
    "                 'fattig_socialt udsat_socialminis_svageste': 'Social policy'}\n",
    "def get_dic_name(num):\n",
    "    return class2english[class2num[int(num)]]\n",
    "import pickle,json,networkx as nx"
   ]
  }
 ],
 "metadata": {
  "kernelspec": {
   "display_name": "Python 3",
   "language": "python",
   "name": "python3"
  },
  "language_info": {
   "codemirror_mode": {
    "name": "ipython",
    "version": 3
   },
   "file_extension": ".py",
   "mimetype": "text/x-python",
   "name": "python",
   "nbconvert_exporter": "python",
   "pygments_lexer": "ipython3",
   "version": "3.8.3"
  }
 },
 "nbformat": 4,
 "nbformat_minor": 2
}
