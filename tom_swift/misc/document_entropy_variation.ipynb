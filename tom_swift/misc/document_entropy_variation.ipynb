{
 "cells": [
  {
   "cell_type": "code",
   "execution_count": 3,
   "metadata": {},
   "outputs": [],
   "source": [
    "import scipy.sparse as sp\n",
    "addendums = ['doc2topic','w2topic','w2count_topic']\n",
    "def load_data(model):\n",
    "    path = result_path+model\n",
    "    data = []\n",
    "    for add in addendums:\n",
    "        filename = path+'_%s.npz'%(add)\n",
    "        mat = sp.load_npz(filename)\n",
    "        data.append(mat)#[add] = mat\n",
    "    return data\n",
    "base = '/home/snorre/Dropbox/Forskning/bigdata/data_inspections/'\n",
    "meta_path = base+'simulation_results/metrics/'\n",
    "meta_path2 = base+'simulation_results/distributions/'\n",
    "from os import listdir\n",
    "result_path = '/mnt/b0c8e396-e5ba-4614-be6f-146c4c861ab3/data/topic_model_simulation/models/'\n",
    "model_runs = set(['_'.join(i.split('_')[0:3]) for i in listdir(result_path)])\n",
    "model_runs = sorted(model_runs,key=lambda x: int(x.split('_')[-1]))\n",
    "import random\n",
    "\n",
    "data = load_data(random.choice(model_runs))"
   ]
  },
  {
   "cell_type": "code",
   "execution_count": 4,
   "metadata": {
    "collapsed": true
   },
   "outputs": [],
   "source": [
    "doc2topic = data[0].toarray()"
   ]
  },
  {
   "cell_type": "code",
   "execution_count": 6,
   "metadata": {},
   "outputs": [],
   "source": [
    "doc2topic = doc2topic[0:46209]"
   ]
  },
  {
   "cell_type": "code",
   "execution_count": 12,
   "metadata": {},
   "outputs": [],
   "source": [
    "import scipy.stats\n",
    "def normalize_entropy(series):\n",
    "    result = scipy.stats.entropy(((series.T/series.sum(axis=1)).T).T)\n",
    "    return result\n",
    "entropies = normalize_entropy(doc2topic.T)\n"
   ]
  },
  {
   "cell_type": "code",
   "execution_count": 22,
   "metadata": {},
   "outputs": [],
   "source": [
    "import numpy as np\n",
    "\n",
    "top_dist = np.linspace(0,1,10)\n",
    "\n",
    "#np.bincount()"
   ]
  },
  {
   "cell_type": "code",
   "execution_count": 55,
   "metadata": {},
   "outputs": [
    {
     "data": {
      "text/plain": [
       "[1, 1, 1, 1, 1, 1, 1, 1, 1, 1, 1, 1, 1, 1, 1, 1, 1, 1, 1, 1, 0]"
      ]
     },
     "execution_count": 55,
     "metadata": {},
     "output_type": "execute_result"
    }
   ],
   "source": [
    "def binning(x,scale=0.05):\n",
    "    return x-x%scale\n",
    "binning(1.576)\n",
    "scale = 0.05\n",
    "bins = np.arange(0,1+scale,scale)\n",
    "from collections import Counter\n",
    "def bin_counts(a):\n",
    "    c = Counter(binning(a))\n",
    "    return [c[i] for i in bins]\n",
    "def bin_counts2(a):\n",
    "    c = Counter(vec_bin(a))\n",
    "    return [c[i] for i in bins]\n",
    "bin_counts(np.linspace(0,1,20))"
   ]
  },
  {
   "cell_type": "code",
   "execution_count": 15,
   "metadata": {},
   "outputs": [],
   "source": [
    "import scipy.sparse as sp\n",
    "def run_analysis(func):\n",
    "    \"Runs a function on the raw data. Expects a function that returns a list where each row is a \"\n",
    "    # Load models    \n",
    "    dfs = [] # dataframe container\n",
    "    for model in tqdm(model_runs):\n",
    "        model_n = int(model.split('_')[-1])\n",
    "        data = load_data(model)\n",
    "        temp_df = func(data)\n",
    "        temp_df['topic_num'] = np.arange(len(temp_df))\n",
    "        temp_df['model_path'] = model\n",
    "        temp_df['model_id'] = model_n\n",
    "        dfs.append(temp_df)\n",
    "    df = pd.concat(dfs)\n",
    "    return df"
   ]
  },
  {
   "cell_type": "code",
   "execution_count": 102,
   "metadata": {},
   "outputs": [],
   "source": [
    "import pandas as pd\n",
    "meta_files = [meta_path+i for i in listdir(meta_path)]\n",
    "dfs = []\n",
    "for num,filename in enumerate(meta_files):\n",
    "    df = pd.read_csv(filename)\n",
    "    df['simulation_id'] = num\n",
    "    dfs.append(df)\n",
    "df = pd.concat(dfs)\n",
    "df = df.sort_values('modelid')\n",
    "del dfs"
   ]
  },
  {
   "cell_type": "code",
   "execution_count": 103,
   "metadata": {},
   "outputs": [
    {
     "data": {
      "text/plain": [
       "(8091, 13)"
      ]
     },
     "execution_count": 103,
     "metadata": {},
     "output_type": "execute_result"
    }
   ],
   "source": [
    "## remove ambivalent runs\n",
    "c = Counter([i.split('_')[-1] for i in model_runs])\n",
    "model_errors = set(df.modelid.value_counts().index[df.modelid.value_counts()>1])\n",
    "model_errors.update(set([int(i) for i,count in c.most_common(len(c)) if count>1]))\n",
    "df = df[~df.modelid.isin(model_errors)]\n",
    "df = df[df.simulation_id.isin(set(df.simulation_id.value_counts()[df.simulation_id.value_counts()==29].index))]\n",
    "df.shape"
   ]
  },
  {
   "cell_type": "code",
   "execution_count": 105,
   "metadata": {},
   "outputs": [
    {
     "name": "stdout",
     "output_type": "stream",
     "text": [
      "139200\n"
     ]
    }
   ],
   "source": [
    "import random\n",
    "# sample for first analysis\n",
    "n_simulations = 3# maximum is 13 \n",
    "sample_simulations = set(np.concatenate(df.groupby(['noise']).apply(lambda x: random.sample(set(x.simulation_id.values),n_simulations)).values))\n",
    "print(df[df.simulation_id.isin(sample_simulations)].n_topics.sum())\n",
    "modelids = set(df[df.simulation_id.isin(sample_simulations)].modelid)\n",
    "\n",
    "model_runs = sorted([i for i in model_runs if int(i.split('_')[-1]) in modelids],key=lambda x: int(x.split('_')[-1]))"
   ]
  },
  {
   "cell_type": "code",
   "execution_count": 146,
   "metadata": {},
   "outputs": [],
   "source": [
    "import pandas as pd\n",
    "import numpy as np\n",
    "def get_doc_entropy(data):\n",
    "    doc2topic = data[0].toarray()\n",
    "    doc2topic = doc2topic[0:46209]\n",
    "    entropies = normalize_entropy(doc2topic.T)\n",
    "    \n",
    "    dat = []\n",
    "    for vec in np.digitize(doc2topic.T,bins):\n",
    "        c = Counter(vec)\n",
    "        a = {round(bins[num-1],2):c[num] for num in range(1,len(bins)+1)}\n",
    "        dat.append(a)\n",
    "    \n",
    "    quantile_counts = pd.DataFrame(dat)\n",
    "    # weight of each quantile\n",
    "    dat2 = []\n",
    "    for vec in doc2topic.T:\n",
    "        binned = np.digitize(vec,bins)\n",
    "        size = vec.sum()\n",
    "        perc = []\n",
    "        for i in range(1,len(bins)+1):\n",
    "            perc.append(vec[binned==i].sum()/size)\n",
    "        dat2.append(perc)\n",
    "    quantile_counts2 = pd.DataFrame(dat2,columns=['w_%.2f'%i for i in bins])\n",
    "    \n",
    "    temp = pd.DataFrame({'doc_entropy':entropies})\n",
    "    temp = pd.concat([temp,quantile_counts,quantile_counts2],axis=1)\n",
    "    return temp\n",
    "\n",
    "from tqdm import tqdm_notebook as tqdm"
   ]
  },
  {
   "cell_type": "code",
   "execution_count": 150,
   "metadata": {},
   "outputs": [
    {
     "data": {
      "text/plain": [
       "<matplotlib.axes._subplots.AxesSubplot at 0x7f402476d358>"
      ]
     },
     "execution_count": 150,
     "metadata": {},
     "output_type": "execute_result"
    },
    {
     "data": {
      "image/png": "[encoded data removed]",
      "text/plain": [
       "<Figure size 432x288 with 1 Axes>"
      ]
     },
     "metadata": {},
     "output_type": "display_data"
    }
   ],
   "source": [
    "get_doc_entropy(data)['w_0.10'].hist()"
   ]
  },
  {
   "cell_type": "code",
   "execution_count": 151,
   "metadata": {},
   "outputs": [
    {
     "data": {
      "application/vnd.jupyter.widget-view+json": {
       "model_id": "8c00f3e353b04bb585c85a3e97225f3b"
      }
     },
     "metadata": {},
     "output_type": "display_data"
    },
    {
     "name": "stdout",
     "output_type": "stream",
     "text": [
      "\n"
     ]
    }
   ],
   "source": [
    "ent_df = run_analysis(get_doc_entropy)"
   ]
  },
  {
   "cell_type": "code",
   "execution_count": 154,
   "metadata": {},
   "outputs": [
    {
     "data": {
      "text/plain": [
       "<matplotlib.axes._subplots.AxesSubplot at 0x7f4024a61550>"
      ]
     },
     "execution_count": 154,
     "metadata": {},
     "output_type": "execute_result"
    },
    {
     "data": {
      "image/png": "[encoded data removed]",
      "text/plain": [
       "<Figure size 432x288 with 1 Axes>"
      ]
     },
     "metadata": {},
     "output_type": "display_data"
    }
   ],
   "source": [
    "import seaborn as sns\n",
    "import matplotlib.pyplot as plt\n",
    "%matplotlib inline\n",
    "sns.distplot(ent_df.doc_entropy)"
   ]
  },
  {
   "cell_type": "code",
   "execution_count": null,
   "metadata": {},
   "outputs": [],
   "source": []
  },
  {
   "cell_type": "code",
   "execution_count": 160,
   "metadata": {},
   "outputs": [
    {
     "data": {
      "image/png": "[encoded data removed]",
      "text/plain": [
       "<Figure size 432x288 with 1 Axes>"
      ]
     },
     "metadata": {},
     "output_type": "display_data"
    }
   ],
   "source": [
    "plt.style.use('ggplot')\n",
    "sns.boxplot(x='level_1',y=0,data=(ent_df[[col for col in ent_df.columns if type(col)!=float and 'w_' in col]]).stack().reset_index())\n",
    "plt.yscale('log')\n",
    "plt.xlabel('topical prevalence level')\n",
    "plt.ylabel('share of estimate')\n",
    "plt.xticks(np.arange(1,20,2),[round(i,1) for i in np.linspace(0,1,10)]);\n",
    "plt.savefig('output/descriptives/topical_prevalence_levels_share.png')"
   ]
  },
  {
   "cell_type": "code",
   "execution_count": 139,
   "metadata": {},
   "outputs": [],
   "source": [
    "#sns.boxplot(ent_df[[col for col in ent_df.columns if  type(col)==float]].stack().reset_index())"
   ]
  },
  {
   "cell_type": "code",
   "execution_count": 143,
   "metadata": {},
   "outputs": [
    {
     "data": {
      "image/png": "[encoded data removed]",
      "text/plain": [
       "<Figure size 432x288 with 1 Axes>"
      ]
     },
     "metadata": {},
     "output_type": "display_data"
    }
   ],
   "source": [
    "plt.style.use('ggplot')\n",
    "sns.boxplot(x='level_1',y=0,data=(ent_df[[col for col in ent_df.columns if  type(col)==float]]).stack().reset_index())\n",
    "plt.yscale('log')\n",
    "plt.xlabel('topical prevalence level')\n",
    "plt.ylabel('no. documents')\n",
    "plt.xticks(np.arange(1,20,2),[round(i,1) for i in np.linspace(0,1,10)]);\n",
    "plt.savefig('output/descriptives/topical_prevalence_levels_variation.png')"
   ]
  },
  {
   "cell_type": "code",
   "execution_count": null,
   "metadata": {
    "collapsed": true
   },
   "outputs": [],
   "source": []
  },
  {
   "cell_type": "code",
   "execution_count": null,
   "metadata": {
    "collapsed": true
   },
   "outputs": [],
   "source": []
  },
  {
   "cell_type": "code",
   "execution_count": null,
   "metadata": {
    "collapsed": true
   },
   "outputs": [],
   "source": []
  },
  {
   "cell_type": "code",
   "execution_count": null,
   "metadata": {
    "collapsed": true
   },
   "outputs": [],
   "source": []
  }
 ],
 "metadata": {
  "kernelspec": {
   "display_name": "Python 3",
   "language": "python",
   "name": "python3"
  },
  "language_info": {
   "codemirror_mode": {
    "name": "ipython",
    "version": 3
   },
   "file_extension": ".py",
   "mimetype": "text/x-python",
   "name": "python",
   "nbconvert_exporter": "python",
   "pygments_lexer": "ipython3",
   "version": "3.6.1"
  }
 },
 "nbformat": 4,
 "nbformat_minor": 2
}
