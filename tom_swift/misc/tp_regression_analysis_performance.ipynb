{
 "cells": [
  {
   "cell_type": "code",
   "execution_count": 76,
   "metadata": {
    "collapsed": true
   },
   "outputs": [],
   "source": [
    "import pandas as pd\n",
    "import statsmodels.api as sm\n",
    "import numpy as np\n",
    "import seaborn as sns\n",
    "%matplotlib inline\n",
    "import matplotlib.pyplot as plt\n",
    "plt.style.use('ggplot')\n",
    "df = pd.read_csv('regression_variables.csv')\n",
    "#df = df[df['topword_n_extend']>0]\n",
    "#df.shape"
   ]
  },
  {
   "cell_type": "code",
   "execution_count": null,
   "metadata": {
    "collapsed": true
   },
   "outputs": [],
   "source": []
  },
  {
   "cell_type": "code",
   "execution_count": 77,
   "metadata": {
    "collapsed": true
   },
   "outputs": [],
   "source": [
    "directions = {'arun_2010': 'minimize',\n",
    " 'cao_juan_2009': 'minimize',\n",
    " 'semantic_coherence_10': 'maximize',\n",
    " 'griffiths_2004': 'maximize',\n",
    " 'loglikelihood': 'maximize'}\n",
    "measures = ['arun_2010','cao_juan_2009','coherence_mimno_2011','griffiths_2004','loglikelihood']    \n",
    "model_controls = ['n_topics', # control for K topics.\n",
    "    'best_predictive','best_predictive_top3','best_predictive_top5','best_predictive_eyeball', # pv\n",
    "                 'selection_pv_inherit',\n",
    "                  'selection_pv',#pv\n",
    "                  'selection_qual','selection_quant','selection_quant_parsimonous','selection_quant_best' \n",
    "                  #selection\n",
    "                 ]+measures\n",
    "\n",
    "topic_controls = ['topic_label_doc',\n",
    "                  'topic_frexlabel_doc',\n",
    "                  'topword_n',\n",
    "                  'topword_n_extend',\n",
    "                  'topword_n_frex',\n",
    "                  'topword_n_frex_extent',# manual inspections\n",
    "                  'semantic_coherence_10','semantic_exclusivity_10',\n",
    "                  'predictive_validity',\n",
    "                  'predictive_validity_individual',\n",
    "                  'predictive_validity_eyeball_individual'# \n",
    "                 ]\n",
    "category_controls = ['n_words',\n",
    " 'n_docs',\n",
    " 'categorization_entropy',\n",
    " 'word_entropy',\n",
    " 'category_coherence_relative',\n",
    " 'category_distinctiveness',\n",
    " 'precision',\n",
    " 'weighted_recall']\n",
    "y_cols = ['human_performance','human_performance_frex','timeseries_correlation_robust','timeseries_correlation_individual','weighted_precision_frex','weighted_precision']"
   ]
  },
  {
   "cell_type": "markdown",
   "metadata": {},
   "source": [
    "### Analysis:\n",
    "Frex inefficiency. \n",
    "\n"
   ]
  },
  {
   "cell_type": "code",
   "execution_count": 83,
   "metadata": {
    "collapsed": true
   },
   "outputs": [],
   "source": [
    "topic_controls = ['topic_label_doc',\n",
    "                 # 'topic_frexlabel_doc',\n",
    "               #   'topword_n',\n",
    "                  #'topword_n_extend',\n",
    "               #   'topword_n_frex',\n",
    "                  #'topword_n_frex_extent',# manual inspections\n",
    "                  #'semantic_coherence_10','semantic_exclusivity_10',\n",
    "                  #'predictive_validity',\n",
    "                  #'predictive_validity_individual',\n",
    "                  #'predictive_validity_eyeball_individual'# \n",
    "                 ]\n",
    "category_controls = ['n_words',\n",
    " 'n_docs',\n",
    "# 'categorization_entropy',\n",
    " 'word_entropy',\n",
    " 'category_coherence_relative',\n",
    " #'category_distinctiveness',\n",
    " 'precision',\n",
    " 'weighted_recall']\n",
    "\n"
   ]
  },
  {
   "cell_type": "code",
   "execution_count": 46,
   "metadata": {},
   "outputs": [
    {
     "data": {
      "text/plain": [
       "Index(['frex_label', 'topword_label', 'human_performance',\n",
       "       'human_performance_frex', 'timeseries_correlation_robust',\n",
       "       'timeseries_correlation_individual', 'weighted_precision_frex',\n",
       "       'weighted_precision', 'n_words', 'n_docs', 'categorization_entropy',\n",
       "       'word_entropy', 'category_coherence_relative',\n",
       "       'category_distinctiveness', 'precision', 'weighted_recall',\n",
       "       'topic_label_doc', 'topic_frexlabel_doc', 'topword_n',\n",
       "       'topword_n_extend', 'topword_n_frex', 'topword_n_frex_extent',\n",
       "       'semantic_coherence_10', 'semantic_exclusivity_10',\n",
       "       'predictive_validity', 'predictive_validity_individual',\n",
       "       'predictive_validity_eyeball_individual', 'n_topics', 'best_predictive',\n",
       "       'best_predictive_top3', 'best_predictive_top5',\n",
       "       'best_predictive_eyeball', 'selection_pv_inherit', 'selection_pv',\n",
       "       'selection_qual', 'selection_quant', 'selection_quant_parsimonous',\n",
       "       'selection_quant_best', 'loglikelihood', 'arun_2010', 'griffiths_2004',\n",
       "       'cao_juan_2009'],\n",
       "      dtype='object')"
      ]
     },
     "execution_count": 46,
     "metadata": {},
     "output_type": "execute_result"
    }
   ],
   "source": [
    "df.columns"
   ]
  },
  {
   "cell_type": "code",
   "execution_count": 84,
   "metadata": {},
   "outputs": [
    {
     "name": "stdout",
     "output_type": "stream",
     "text": [
      "(197299, 46)\n",
      "(197299, 46)\n",
      "                            OLS Regression Results                            \n",
      "==============================================================================\n",
      "Dep. Variable:                      y   R-squared:                       0.563\n",
      "Model:                            OLS   Adj. R-squared:                  0.563\n",
      "Method:                 Least Squares   F-statistic:                 2.416e+04\n",
      "Date:                Thu, 11 Apr 2019   Prob (F-statistic):               0.00\n",
      "Time:                        13:13:32   Log-Likelihood:                 47989.\n",
      "No. Observations:              131268   AIC:                        -9.596e+04\n",
      "Df Residuals:                  131260   BIC:                        -9.588e+04\n",
      "Df Model:                           7                                         \n",
      "Covariance Type:            nonrobust                                         \n",
      "===============================================================================================\n",
      "                                  coef    std err          t      P>|t|      [0.025      0.975]\n",
      "-----------------------------------------------------------------------------------------------\n",
      "constant                        2.7432      0.025    111.157      0.000       2.695       2.792\n",
      "n_words                         0.0012   3.77e-05     30.579      0.000       0.001       0.001\n",
      "n_docs                      -6.112e-05   8.52e-07    -71.751      0.000   -6.28e-05   -5.95e-05\n",
      "word_entropy                   -0.0405      0.002    -20.889      0.000      -0.044      -0.037\n",
      "category_coherence_relative    -2.7183      0.024   -114.428      0.000      -2.765      -2.672\n",
      "precision                       0.0038      0.012      0.308      0.758      -0.020       0.028\n",
      "weighted_recall                -0.0683      0.010     -6.852      0.000      -0.088      -0.049\n",
      "topic_label_doc                 0.4908      0.001    348.182      0.000       0.488       0.494\n",
      "==============================================================================\n",
      "Omnibus:                     2677.716   Durbin-Watson:                   2.062\n",
      "Prob(Omnibus):                  0.000   Jarque-Bera (JB):             3083.461\n",
      "Skew:                          -0.308   Prob(JB):                         0.00\n",
      "Kurtosis:                       3.428   Cond. No.                     2.46e+05\n",
      "==============================================================================\n",
      "\n",
      "Warnings:\n",
      "[1] Standard Errors assume that the covariance matrix of the errors is correctly specified.\n",
      "[2] The condition number is large, 2.46e+05. This might indicate that there are\n",
      "strong multicollinearity or other numerical problems.\n"
     ]
    }
   ],
   "source": [
    "\n",
    "temp = df[df['frex_label'].apply(np.isfinite)]\n",
    "temp = temp[temp.topword_n>0]\n",
    "print(temp.shape)\n",
    "#temp = temp[temp['frex_label'] = temp.topword_label]\n",
    "print(temp.shape)\n",
    "cols = category_controls + topic_controls\n",
    "\n",
    "X = temp[cols].values\n",
    "idx = np.isfinite(X).sum(axis=1)==len(cols)\n",
    "temp = temp[idx]\n",
    "X = X[idx]\n",
    "y_col = y_cols[0]\n",
    "y = temp[y_col].values\n",
    "\n",
    "X = sm.add_constant(X)\n",
    "mod = sm.OLS(y,X)\n",
    "\n",
    "res = mod.fit()\n",
    "print(res.summary(xname=['constant']+cols))"
   ]
  },
  {
   "cell_type": "code",
   "execution_count": 85,
   "metadata": {
    "collapsed": true
   },
   "outputs": [],
   "source": [
    "residuals = y-res.params.dot(X.T)"
   ]
  },
  {
   "cell_type": "code",
   "execution_count": 86,
   "metadata": {
    "collapsed": true
   },
   "outputs": [],
   "source": [
    "frex = pd.DataFrame({'topword_n':temp['topword_n_frex'],'residuals':residuals,'type':'frex','topic':temp['topword_label']})\n",
    "top = pd.DataFrame({'topword_n':temp['topword_n'],'residuals':residuals,'type':'top','topic':temp['topword_label']})\n",
    "temp =pd.concat([top,frex])"
   ]
  },
  {
   "cell_type": "code",
   "execution_count": 87,
   "metadata": {},
   "outputs": [
    {
     "data": {
      "image/png": "[encoded data removed]",
      "text/plain": [
       "<Figure size 432x288 with 1 Axes>"
      ]
     },
     "metadata": {},
     "output_type": "display_data"
    }
   ],
   "source": [
    "ax = sns.boxplot(x='topword_n',y='residuals',data=temp,hue='type')\n",
    "plt.savefig('output/descriptives/frex_vs_top_control+docinspect.png',bbox_inches='tight')"
   ]
  },
  {
   "cell_type": "code",
   "execution_count": 82,
   "metadata": {},
   "outputs": [
    {
     "data": {
      "image/png": "[encoded data removed]",
      "text/plain": [
       "<Figure size 432x288 with 1 Axes>"
      ]
     },
     "metadata": {},
     "output_type": "display_data"
    }
   ],
   "source": [
    "ax = sns.boxplot(x='topword_n',y='residuals',data=temp,hue='type')\n",
    "plt.savefig('output/descriptives/frex_vs_top_control.png',bbox_inches='tight')"
   ]
  },
  {
   "cell_type": "code",
   "execution_count": 43,
   "metadata": {
    "collapsed": true
   },
   "outputs": [],
   "source": [
    "\n",
    "#for top,groupdf in temp.groupby(['topic']):\n",
    "    \n",
    "#    sns.lineplot(x='topword_n',y='residuals',data=groupdf,hue='type',legend=False)"
   ]
  },
  {
   "cell_type": "markdown",
   "metadata": {},
   "source": [
    "## Model Selection"
   ]
  },
  {
   "cell_type": "code",
   "execution_count": 95,
   "metadata": {
    "collapsed": true
   },
   "outputs": [],
   "source": [
    "measures = ['loglikelihood', 'arun_2010', 'griffiths_2004', 'cao_juan_2009']\n",
    "#measures = ['arun_2010','cao_juan_2009','coherence_mimno_2011','griffiths_2004','loglikelihood']    \n",
    "model_controls = ['n_topics', # control for K topics.\n",
    "    'best_predictive','best_predictive_top3','best_predictive_top5','best_predictive_eyeball', # pv\n",
    "                 'selection_pv_inherit',\n",
    "           #       'selection_pv',#pv\n",
    "                  'selection_qual','selection_quant','selection_quant_parsimonous','selection_quant_best' \n",
    "                  #selection\n",
    "                 ]+measures\n",
    "\n",
    "topic_controls = ['topic_label_doc',\n",
    "                  #'topic_frexlabel_doc',\n",
    "                  #'topword_n',\n",
    "                  'topword_n_extend',\n",
    "                  #'topword_n_frex',\n",
    "                  #'topword_n_frex_extent',# manual inspections\n",
    "                  #'semantic_coherence_10','semantic_exclusivity_10',\n",
    "                  #'predictive_validity',\n",
    "                #  'predictive_validity_individual',\n",
    "                  #'predictive_validity_eyeball_individual'# \n",
    "                 ]\n",
    "category_controls = ['n_words',\n",
    " 'n_docs',\n",
    " 'categorization_entropy',\n",
    " 'word_entropy',\n",
    " 'category_coherence_relative',\n",
    " 'category_distinctiveness',\n",
    " 'precision',\n",
    " 'weighted_recall']\n",
    "\n",
    "sample = df[df.accept]\n"
   ]
  },
  {
   "cell_type": "code",
   "execution_count": 96,
   "metadata": {
    "collapsed": true
   },
   "outputs": [],
   "source": [
    "y_col = y_cols[0]\n",
    "cols = category_controls+topic_controls \n",
    "#cols += model_controls[0:1] # control for no. of topics K\n",
    "X = sample[cols].values\n",
    "X = X.astype(float)\n",
    "y_col = y_cols[-1]\n",
    "y = sample[y_col].values\n",
    "\n",
    "X = sm.add_constant(X)\n",
    "mod = sm.OLS(y,X)\n",
    "res = mod.fit()\n",
    "\n",
    "residuals = y - res.params.dot(X.T)\n"
   ]
  },
  {
   "cell_type": "code",
   "execution_count": 97,
   "metadata": {
    "collapsed": true
   },
   "outputs": [],
   "source": [
    "temp = []\n",
    "model_controls_binary = [\n",
    "                         'selection_qual'\n",
    "                         ,'selection_quant_parsimonous'\n",
    "                         ,'selection_quant_best'\n",
    "                         ,'selection_quant',\n",
    "                        'selection_pv_inherit'\n",
    "                        ]\n",
    "for i in model_controls_binary[:]:\n",
    "    if i in measures:\n",
    "        continue\n",
    "    x = sample[i]\n",
    "    temp_res = residuals[x==1]\n",
    "    \n",
    "    temp.append(pd.DataFrame({'residuals':temp_res,'type':i}))\n",
    "temp.append(pd.DataFrame({'residuals':residuals,'type':'all'}))\n",
    "temp = pd.concat(temp)"
   ]
  },
  {
   "cell_type": "code",
   "execution_count": 98,
   "metadata": {
    "collapsed": true
   },
   "outputs": [],
   "source": [
    "trans_sel_types = {'all':'all','selection_qual':'substantive'\n",
    "                   ,'selection_quant':'quant_top10','selection_quant_parsimonous'\n",
    "                   :'quant_granularity','selection_quant_best':'quant_best','selection_pv':'predictive_validity','selection_pv_inherit':'predictive_validity_inherit'}\n",
    "temp['selection criteria'] = temp['type'].apply(lambda x: trans_sel_types[x])\n"
   ]
  },
  {
   "cell_type": "code",
   "execution_count": 100,
   "metadata": {},
   "outputs": [
    {
     "name": "stdout",
     "output_type": "stream",
     "text": [
      "bias\t\tdescriptives\t research_conclusions\r\n",
      "conglomeration\tnoise_detection  time_series\r\n"
     ]
    }
   ],
   "source": [
    "! ls output"
   ]
  },
  {
   "cell_type": "code",
   "execution_count": 103,
   "metadata": {},
   "outputs": [
    {
     "data": {
      "image/png": "[encoded data removed]",
      "text/plain": [
       "<Figure size 432x288 with 1 Axes>"
      ]
     },
     "metadata": {},
     "output_type": "display_data"
    }
   ],
   "source": [
    "sns.boxplot(y='selection criteria',x='residuals',data=temp)\n",
    "plt.savefig('output/descriptives/model_selection_performance_controls.png',bbox_inches='tight')"
   ]
  },
  {
   "cell_type": "code",
   "execution_count": 59,
   "metadata": {},
   "outputs": [
    {
     "name": "stdout",
     "output_type": "stream",
     "text": [
      "best_predictive 1.8062626905328927\n",
      "best_predictive_top3 3.451748064398221\n",
      "best_predictive_top5 4.039540017796701\n",
      "best_predictive_eyeball 0.08808148144931895\n",
      "selection_pv_inherit 0.44903361417239684\n",
      "selection_qual -5.690474909258063\n",
      "selection_quant -0.9391330038683168\n",
      "selection_quant_parsimonous -0.804922913885392\n",
      "selection_quant_best 0.7738133283626495\n",
      "loglikelihood 4.091798353514605\n",
      "arun_2010 -16.053445774541295\n",
      "griffiths_2004 3.7849978086522142\n",
      "cao_juan_2009 -15.519459495391448\n"
     ]
    }
   ],
   "source": [
    "import statsmodels.api as sm\n",
    "\n",
    "for col in model_controls[1:]: # \n",
    "    \n",
    "    cols = category_controls+topic_controls \n",
    "    cols += model_controls[0:1] # control for no. of topics K\n",
    "    cols+=[col] \n",
    "    X = sample[cols].values\n",
    "    X = X.astype(float)\n",
    "    y_col = y_cols[-1]\n",
    "    y = sample[y_col].values\n",
    "    \n",
    "    X = sm.add_constant(X)\n",
    "    mod = sm.OLS(y,X)\n",
    "    res = mod.fit()\n",
    "    \n",
    "    residuals = \n",
    "    #print(res.summary(xname=['constant']+cols))\n",
    "    print(col,res.tvalues[-1])"
   ]
  },
  {
   "cell_type": "code",
   "execution_count": 57,
   "metadata": {},
   "outputs": [
    {
     "name": "stdout",
     "output_type": "stream",
     "text": [
      "best_predictive 18.134480463116148\n",
      "best_predictive_top3 26.693614326152044\n",
      "best_predictive_top5 32.96134953907001\n",
      "best_predictive_eyeball 1.9292702140933236\n",
      "selection_pv_inherit 5.131590858568583\n",
      "selection_pv -10.984860677237519\n",
      "selection_qual -25.115430730879062\n",
      "selection_quant 34.273202678309104\n",
      "selection_quant_parsimonous -16.073175162669227\n",
      "selection_quant_best -0.8677295633464079\n",
      "loglikelihood 19.78966325336279\n",
      "arun_2010 -92.25462632670202\n",
      "griffiths_2004 4.314544506488368\n",
      "cao_juan_2009 -90.0297840108357\n"
     ]
    }
   ],
   "source": [
    "import statsmodels.api as sm\n",
    "sample = df[df.accept]\n",
    "for col in model_controls[1:]: # \n",
    "    \n",
    "    cols = category_controls+topic_controls \n",
    "    #cols += model_controls[0:1] # control for no. of topics K\n",
    "    cols+=[col] \n",
    "    X = sample[cols].values\n",
    "    X = X.astype(float)\n",
    "    y_col = y_cols[-1]\n",
    "    y = sample[y_col].values\n",
    "    \n",
    "    X = sm.add_constant(X)\n",
    "    mod = sm.OLS(y,X)\n",
    "    res = mod.fit()\n",
    "    #print(res.summary(xname=['constant']+cols))\n",
    "    print(col,res.tvalues[-1])"
   ]
  },
  {
   "cell_type": "code",
   "execution_count": 54,
   "metadata": {},
   "outputs": [
    {
     "data": {
      "text/plain": [
       "{'arun_2010': 'minimize',\n",
       " 'cao_juan_2009': 'minimize',\n",
       " 'semantic_coherence_10': 'maximize',\n",
       " 'griffiths_2004': 'maximize',\n",
       " 'loglikelihood': 'maximize'}"
      ]
     },
     "execution_count": 54,
     "metadata": {},
     "output_type": "execute_result"
    }
   ],
   "source": [
    "directions"
   ]
  },
  {
   "cell_type": "code",
   "execution_count": null,
   "metadata": {
    "collapsed": true
   },
   "outputs": [],
   "source": []
  },
  {
   "cell_type": "code",
   "execution_count": null,
   "metadata": {
    "collapsed": true
   },
   "outputs": [],
   "source": []
  },
  {
   "cell_type": "code",
   "execution_count": 186,
   "metadata": {
    "collapsed": true
   },
   "outputs": [],
   "source": [
    "topic_controls = [#'semantic_coherence_10','semantic_exclusivity_10',\n",
    "    #'topic_label_doc',\n",
    "                  'topword_n',\n",
    "                  #'topword_n_extend',\n",
    "                  'topword_n_frex',\n",
    "                 # 'topword_n_frex_extent',# manual inspections\n",
    "                  \n",
    "                  #'predictive_validity',\n",
    "                  #'predictive_validity_individual',\n",
    "                  #'predictive_validity_eyeball_individual'# \n",
    "                 ]\n"
   ]
  },
  {
   "cell_type": "code",
   "execution_count": null,
   "metadata": {
    "collapsed": true
   },
   "outputs": [],
   "source": [
    "## With both"
   ]
  },
  {
   "cell_type": "code",
   "execution_count": 197,
   "metadata": {},
   "outputs": [
    {
     "name": "stdout",
     "output_type": "stream",
     "text": [
      "0.014208161729237046 0.5151524504492078 0.9402186413494976\n",
      "                            OLS Regression Results                            \n",
      "==============================================================================\n",
      "Dep. Variable:                      y   R-squared:                       0.962\n",
      "Model:                            OLS   Adj. R-squared:                  0.962\n",
      "Method:                 Least Squares   F-statistic:                 2.150e+05\n",
      "Date:                Mon, 01 Apr 2019   Prob (F-statistic):               0.00\n",
      "Time:                        14:08:40   Log-Likelihood:                 70036.\n",
      "No. Observations:               85650   AIC:                        -1.401e+05\n",
      "Df Residuals:                   85640   BIC:                        -1.400e+05\n",
      "Df Model:                          10                                         \n",
      "Covariance Type:            nonrobust                                         \n",
      "===============================================================================================\n",
      "                                  coef    std err          t      P>|t|      [0.025      0.975]\n",
      "-----------------------------------------------------------------------------------------------\n",
      "n_words                        -0.0024    3.2e-05    -75.485      0.000      -0.002      -0.002\n",
      "n_docs                       6.373e-05   6.58e-07     96.918      0.000    6.24e-05     6.5e-05\n",
      "categorization_entropy         -0.1585      0.003    -62.461      0.000      -0.164      -0.154\n",
      "word_entropy                    0.1433      0.002     78.427      0.000       0.140       0.147\n",
      "category_coherence_relative     0.9916      0.022     44.869      0.000       0.948       1.035\n",
      "category_distinctiveness       -0.0251      0.001    -22.724      0.000      -0.027      -0.023\n",
      "precision                       0.3859      0.010     40.183      0.000       0.367       0.405\n",
      "weighted_recall                -0.0628      0.008     -7.816      0.000      -0.079      -0.047\n",
      "topword_n_frex                  0.5170      0.003    199.613      0.000       0.512       0.522\n",
      "topword_n                       0.2644      0.003     76.868      0.000       0.258       0.271\n",
      "==============================================================================\n",
      "Omnibus:                      141.169   Durbin-Watson:                   1.943\n",
      "Prob(Omnibus):                  0.000   Jarque-Bera (JB):              139.839\n",
      "Skew:                           0.091   Prob(JB):                     4.31e-31\n",
      "Kurtosis:                       2.921   Cond. No.                     2.29e+05\n",
      "==============================================================================\n",
      "\n",
      "Warnings:\n",
      "[1] Standard Errors assume that the covariance matrix of the errors is correctly specified.\n",
      "[2] The condition number is large, 2.29e+05. This might indicate that there are\n",
      "strong multicollinearity or other numerical problems.\n",
      "0.17561334124659742 0.03829990911802068\n",
      "                            OLS Regression Results                            \n",
      "==============================================================================\n",
      "Dep. Variable:                      y   R-squared:                       0.962\n",
      "Model:                            OLS   Adj. R-squared:                  0.962\n",
      "Method:                 Least Squares   F-statistic:                 2.150e+05\n",
      "Date:                Mon, 01 Apr 2019   Prob (F-statistic):               0.00\n",
      "Time:                        14:08:43   Log-Likelihood:                 70036.\n",
      "No. Observations:               85650   AIC:                        -1.401e+05\n",
      "Df Residuals:                   85640   BIC:                        -1.400e+05\n",
      "Df Model:                          10                                         \n",
      "Covariance Type:            nonrobust                                         \n",
      "===============================================================================================\n",
      "                                  coef    std err          t      P>|t|      [0.025      0.975]\n",
      "-----------------------------------------------------------------------------------------------\n",
      "n_words                        -0.0024    3.2e-05    -75.485      0.000      -0.002      -0.002\n",
      "n_docs                       6.373e-05   6.58e-07     96.918      0.000    6.24e-05     6.5e-05\n",
      "categorization_entropy         -0.1585      0.003    -62.461      0.000      -0.164      -0.154\n",
      "word_entropy                    0.1433      0.002     78.427      0.000       0.140       0.147\n",
      "category_coherence_relative     0.9916      0.022     44.869      0.000       0.948       1.035\n",
      "category_distinctiveness       -0.0251      0.001    -22.724      0.000      -0.027      -0.023\n",
      "precision                       0.3859      0.010     40.183      0.000       0.367       0.405\n",
      "weighted_recall                -0.0628      0.008     -7.816      0.000      -0.079      -0.047\n",
      "topword_n                       0.2644      0.003     76.868      0.000       0.258       0.271\n",
      "topword_n_frex                  0.5170      0.003    199.613      0.000       0.512       0.522\n",
      "==============================================================================\n",
      "Omnibus:                      141.169   Durbin-Watson:                   1.943\n",
      "Prob(Omnibus):                  0.000   Jarque-Bera (JB):              139.839\n",
      "Skew:                           0.091   Prob(JB):                     4.31e-31\n",
      "Kurtosis:                       2.921   Cond. No.                     2.29e+05\n",
      "==============================================================================\n",
      "\n",
      "Warnings:\n",
      "[1] Standard Errors assume that the covariance matrix of the errors is correctly specified.\n",
      "[2] The condition number is large, 2.29e+05. This might indicate that there are\n",
      "strong multicollinearity or other numerical problems.\n",
      "0.1756133412465972 0.0382999091180207\n"
     ]
    },
    {
     "data": {
      "image/png": "[encoded data removed]",
      "text/plain": [
       "<Figure size 432x288 with 1 Axes>"
      ]
     },
     "metadata": {},
     "output_type": "display_data"
    }
   ],
   "source": [
    "y_col = y_cols[0]\n",
    "y = df[y_col].values\n",
    "print(y.min(),np.median(y),y.max())\n",
    "constant = False\n",
    "dfs = []\n",
    "for num,col in enumerate(topic_controls):\n",
    "    if num==0:\n",
    "        other = topic_controls[1:]\n",
    "    else:\n",
    "        other = topic_controls[0:1]\n",
    "    cols = category_controls+other+[col]#topic_controls\n",
    "    \n",
    "    X = df[cols].values\n",
    "    X = X.astype(float)\n",
    "    if constant:\n",
    "        X = sm.add_constant(X)\n",
    "        cols = ['constant']+cols\n",
    "    mod = sm.OLS(y,X)\n",
    "    \n",
    "    res = mod.fit()\n",
    "    x = X[:,-1]\n",
    "    print(res.summary(xname=cols))\n",
    "    # residuals.\n",
    "    #pred = res.params[1:-1].dot(X[:,1:-1].T)\n",
    "    pred = res.params[:].dot(X[:,:].T)\n",
    "    residuals = y-pred\n",
    "    \n",
    "    print(sum(abs(residuals))/sum(y),sum(residuals**2)/sum(y**2))\n",
    "    if constant:\n",
    "        pred2 = res.params[1:-2].dot(X[:,1:-2].T)\n",
    "    else:\n",
    "        pred2 = res.params[:-2].dot(X[:,:-2].T)\n",
    "    #print(pred2.mean())\n",
    "    \n",
    "    temp = pd.DataFrame({'match':X[:,-1],'residuals':residuals,'type':col,'corrected_bias':y-pred2})\n",
    "    temp = pd.DataFrame({'match':X[:,-1],'residuals':residuals,'type':col,'corrected_bias':y-pred2,'y':y})\n",
    "    d = dict(list(zip(list(sorted(set(temp.match))),list(np.arange(temp.match.nunique())))))\n",
    "    temp['bins'] = temp['match'].apply(lambda x: d[x])\n",
    "    if 'frex' in col:\n",
    "        label = 'uncorrected_frex'\n",
    "    else:\n",
    "        label = 'uncorrected_top'\n",
    "    sns.lineplot(x='bins',y='y',data=temp,estimator=np.median,label=label,alpha=0.5)\n",
    "\n",
    "    dfs.append(temp)\n",
    "topword_df = pd.concat(dfs)\n",
    "\n",
    "\n",
    "sns.boxplot(x='match',y='corrected_bias',data=topword_df,hue='type')\n",
    "plt.legend(loc='lower center')\n",
    "plt.ylabel('corrected performance')\n",
    "plt.savefig('output/descriptives/frex_vs_top_corrected_dict.png')"
   ]
  },
  {
   "cell_type": "code",
   "execution_count": 201,
   "metadata": {
    "collapsed": true
   },
   "outputs": [],
   "source": [
    "#sns.lineplot(x='match',y='y',data=temp)"
   ]
  },
  {
   "cell_type": "code",
   "execution_count": 202,
   "metadata": {},
   "outputs": [
    {
     "name": "stdout",
     "output_type": "stream",
     "text": [
      "0.0009939343637686622 0.4877340799732962 0.9612890282849068\n",
      "                            OLS Regression Results                            \n",
      "==============================================================================\n",
      "Dep. Variable:                      y   R-squared:                       0.927\n",
      "Model:                            OLS   Adj. R-squared:                  0.927\n",
      "Method:                 Least Squares   F-statistic:                 1.095e+05\n",
      "Date:                Mon, 01 Apr 2019   Prob (F-statistic):               0.00\n",
      "Time:                        14:10:27   Log-Likelihood:                 48246.\n",
      "No. Observations:               85650   AIC:                        -9.647e+04\n",
      "Df Residuals:                   85640   BIC:                        -9.638e+04\n",
      "Df Model:                          10                                         \n",
      "Covariance Type:            nonrobust                                         \n",
      "===============================================================================================\n",
      "                                  coef    std err          t      P>|t|      [0.025      0.975]\n",
      "-----------------------------------------------------------------------------------------------\n",
      "n_words                        -0.0026   4.13e-05    -63.646      0.000      -0.003      -0.003\n",
      "n_docs                      -1.279e-05   8.48e-07    -15.078      0.000   -1.45e-05   -1.11e-05\n",
      "categorization_entropy         -0.0799      0.003    -24.419      0.000      -0.086      -0.074\n",
      "word_entropy                    0.1894      0.002     80.368      0.000       0.185       0.194\n",
      "category_coherence_relative    -0.1458      0.029     -5.114      0.000      -0.202      -0.090\n",
      "category_distinctiveness       -0.0118      0.001     -8.245      0.000      -0.015      -0.009\n",
      "precision                       0.8257      0.012     66.662      0.000       0.801       0.850\n",
      "weighted_recall                -0.0869      0.010     -8.392      0.000      -0.107      -0.067\n",
      "topword_n_frex                  0.4781      0.003    143.125      0.000       0.472       0.485\n",
      "topword_n                       0.2731      0.004     61.553      0.000       0.264       0.282\n",
      "==============================================================================\n",
      "Omnibus:                     1162.194   Durbin-Watson:                   1.907\n",
      "Prob(Omnibus):                  0.000   Jarque-Bera (JB):             1237.496\n",
      "Skew:                           0.269   Prob(JB):                    1.91e-269\n",
      "Kurtosis:                       3.239   Cond. No.                     2.29e+05\n",
      "==============================================================================\n",
      "\n",
      "Warnings:\n",
      "[1] Standard Errors assume that the covariance matrix of the errors is correctly specified.\n",
      "[2] The condition number is large, 2.29e+05. This might indicate that there are\n",
      "strong multicollinearity or other numerical problems.\n",
      "0.24369627557886614 0.07252340065027664\n",
      "                            OLS Regression Results                            \n",
      "==============================================================================\n",
      "Dep. Variable:                      y   R-squared:                       0.927\n",
      "Model:                            OLS   Adj. R-squared:                  0.927\n",
      "Method:                 Least Squares   F-statistic:                 1.095e+05\n",
      "Date:                Mon, 01 Apr 2019   Prob (F-statistic):               0.00\n",
      "Time:                        14:10:31   Log-Likelihood:                 48246.\n",
      "No. Observations:               85650   AIC:                        -9.647e+04\n",
      "Df Residuals:                   85640   BIC:                        -9.638e+04\n",
      "Df Model:                          10                                         \n",
      "Covariance Type:            nonrobust                                         \n",
      "===============================================================================================\n",
      "                                  coef    std err          t      P>|t|      [0.025      0.975]\n",
      "-----------------------------------------------------------------------------------------------\n",
      "n_words                        -0.0026   4.13e-05    -63.646      0.000      -0.003      -0.003\n",
      "n_docs                      -1.279e-05   8.48e-07    -15.078      0.000   -1.45e-05   -1.11e-05\n",
      "categorization_entropy         -0.0799      0.003    -24.419      0.000      -0.086      -0.074\n",
      "word_entropy                    0.1894      0.002     80.368      0.000       0.185       0.194\n",
      "category_coherence_relative    -0.1458      0.029     -5.114      0.000      -0.202      -0.090\n",
      "category_distinctiveness       -0.0118      0.001     -8.245      0.000      -0.015      -0.009\n",
      "precision                       0.8257      0.012     66.662      0.000       0.801       0.850\n",
      "weighted_recall                -0.0869      0.010     -8.392      0.000      -0.107      -0.067\n",
      "topword_n                       0.2731      0.004     61.553      0.000       0.264       0.282\n",
      "topword_n_frex                  0.4781      0.003    143.125      0.000       0.472       0.485\n",
      "==============================================================================\n",
      "Omnibus:                     1162.194   Durbin-Watson:                   1.907\n",
      "Prob(Omnibus):                  0.000   Jarque-Bera (JB):             1237.496\n",
      "Skew:                           0.269   Prob(JB):                    1.91e-269\n",
      "Kurtosis:                       3.239   Cond. No.                     2.29e+05\n",
      "==============================================================================\n",
      "\n",
      "Warnings:\n",
      "[1] Standard Errors assume that the covariance matrix of the errors is correctly specified.\n",
      "[2] The condition number is large, 2.29e+05. This might indicate that there are\n",
      "strong multicollinearity or other numerical problems.\n",
      "0.24369627557886633 0.07252340065027667\n"
     ]
    },
    {
     "data": {
      "image/png": "[encoded data removed]",
      "text/plain": [
       "<Figure size 432x288 with 1 Axes>"
      ]
     },
     "metadata": {},
     "output_type": "display_data"
    }
   ],
   "source": [
    "y_col = 'human_performance'\n",
    "#y_col = y_cols[-1]\n",
    "y = df[y_col].values\n",
    "print(y.min(),np.median(y),y.max())\n",
    "constant = False\n",
    "dfs = []\n",
    "for num,col in enumerate(topic_controls):\n",
    "    if num==0:\n",
    "        other = topic_controls[1:]\n",
    "    else:\n",
    "        other = topic_controls[0:1]\n",
    "    cols = category_controls+other+[col]#topic_controls\n",
    "    \n",
    "    X = df[cols].values\n",
    "    X = X.astype(float)\n",
    "    if constant:\n",
    "        X = sm.add_constant(X)\n",
    "        cols = ['constant']+cols\n",
    "    mod = sm.OLS(y,X)\n",
    "    \n",
    "    res = mod.fit()\n",
    "    x = X[:,-1]\n",
    "    print(res.summary(xname=cols))\n",
    "    # residuals.\n",
    "    #pred = res.params[1:-1].dot(X[:,1:-1].T)\n",
    "    pred = res.params[:].dot(X[:,:].T)\n",
    "    residuals = y-pred\n",
    "    \n",
    "    print(sum(abs(residuals))/sum(y),sum(residuals**2)/sum(y**2))\n",
    "    if constant:\n",
    "        pred2 = res.params[1:-2].dot(X[:,1:-2].T)\n",
    "    else:\n",
    "        pred2 = res.params[:-2].dot(X[:,:-2].T)\n",
    "    #print(pred2.mean())\n",
    "    \n",
    "    temp = pd.DataFrame({'match':X[:,-1],'residuals':residuals,'type':col,'corrected_bias':y-pred2,'y':y})\n",
    "    d = dict(list(zip(list(sorted(set(temp.match))),list(np.arange(temp.match.nunique())))))\n",
    "    temp['bins'] = temp['match'].apply(lambda x: d[x])\n",
    "    if 'frex' in col:\n",
    "        label = 'uncorrected_frex'\n",
    "    else:\n",
    "        label = 'uncorrected_top'\n",
    "    sns.lineplot(x='bins',y='y',data=temp,estimator=np.median,label=label,alpha=0.5)\n",
    "    dfs.append(temp)\n",
    "topword_df = pd.concat(dfs)\n",
    "\n",
    "\n",
    "sns.boxplot(x='match',y='corrected_bias',data=topword_df,hue='type')\n",
    "plt.legend(loc='lower center')\n",
    "plt.ylabel('corrected performance')\n",
    "plt.savefig('output/descriptives/frex_vs_top_corrected_human.png')"
   ]
  },
  {
   "cell_type": "code",
   "execution_count": 205,
   "metadata": {},
   "outputs": [
    {
     "data": {
      "text/plain": [
       "array([0.03714308, 0.03714308, 0.03714308, ..., 0.22368768, 0.22368768,\n",
       "       0.22368768])"
      ]
     },
     "execution_count": 205,
     "metadata": {},
     "output_type": "execute_result"
    }
   ],
   "source": [
    "pred2"
   ]
  },
  {
   "cell_type": "code",
   "execution_count": 208,
   "metadata": {},
   "outputs": [
    {
     "data": {
      "text/plain": [
       "array([-2.62821268e-03, -1.27880451e-05, -7.99326589e-02,  1.89378464e-01,\n",
       "       -1.45763134e-01, -1.17645667e-02,  8.25672253e-01, -8.69358487e-02])"
      ]
     },
     "execution_count": 208,
     "metadata": {},
     "output_type": "execute_result"
    }
   ],
   "source": [
    "res.params[0:-2]"
   ]
  },
  {
   "cell_type": "code",
   "execution_count": 214,
   "metadata": {},
   "outputs": [
    {
     "data": {
      "text/plain": [
       "array([-2.62821268e-03, -1.27880451e-05, -7.99326589e-02,  1.89378464e-01,\n",
       "       -1.45763134e-01, -1.17645667e-02,  8.25672253e-01, -8.69358487e-02])"
      ]
     },
     "execution_count": 214,
     "metadata": {},
     "output_type": "execute_result"
    }
   ],
   "source": [
    "res.params[0:-2]#.dot(X[:,0:-2].T)"
   ]
  },
  {
   "cell_type": "code",
   "execution_count": 224,
   "metadata": {},
   "outputs": [
    {
     "data": {
      "text/plain": [
       "[(140.0, -0.0026282126849063348),\n",
       " (3351.0, -1.2788045095687066e-05),\n",
       " (8.088846383459062, -0.07993265894723624),\n",
       " (3.095813251244308, 0.18937846404490388),\n",
       " (0.9115280661473611, -0.14576313384488995),\n",
       " (7.08696189785784, -0.01176456669535319),\n",
       " (0.9772727272727272, 0.8256722534368297),\n",
       " (0.9482454092049408, -0.08693584865272944)]"
      ]
     },
     "execution_count": 224,
     "metadata": {},
     "output_type": "execute_result"
    }
   ],
   "source": [
    "beta = res.params[0:-2]\n",
    "list(zip(X[0,:-2],beta))"
   ]
  },
  {
   "cell_type": "code",
   "execution_count": 242,
   "metadata": {},
   "outputs": [
    {
     "data": {
      "text/plain": [
       "0.04182985492173441"
      ]
     },
     "execution_count": 242,
     "metadata": {},
     "output_type": "execute_result"
    }
   ],
   "source": [
    "beta.dot(X[20000,:-2])"
   ]
  },
  {
   "cell_type": "code",
   "execution_count": 241,
   "metadata": {},
   "outputs": [
    {
     "data": {
      "text/plain": [
       "(array([ 9278.,     0., 17159.,  6030., 15479., 10814., 15889.,  6081.,\n",
       "         4208.,   712.]),\n",
       " array([-0.02715262,  0.00229859,  0.03174981,  0.06120102,  0.09065223,\n",
       "         0.12010345,  0.14955466,  0.17900588,  0.20845709,  0.2379083 ,\n",
       "         0.26735952]),\n",
       " <a list of 10 Patch objects>)"
      ]
     },
     "execution_count": 241,
     "metadata": {},
     "output_type": "execute_result"
    },
    {
     "data": {
      "image/png": "[encoded data removed]",
      "text/plain": [
       "<Figure size 432x288 with 1 Axes>"
      ]
     },
     "metadata": {},
     "output_type": "display_data"
    }
   ],
   "source": [
    "plt.hist(beta.dot(X[:,:-2].T))"
   ]
  },
  {
   "cell_type": "code",
   "execution_count": 95,
   "metadata": {
    "collapsed": true
   },
   "outputs": [],
   "source": [
    "if constant:\n",
    "    pred = res.params[1:-1].dot(X[:,1:-1].T)\n",
    "else:\n",
    "    pred = res.params[:-1].dot(X[:,:-1].T)\n"
   ]
  },
  {
   "cell_type": "code",
   "execution_count": 101,
   "metadata": {
    "collapsed": true
   },
   "outputs": [],
   "source": [
    "pred = res.params[:].dot(X[:,:].T)"
   ]
  },
  {
   "cell_type": "code",
   "execution_count": 102,
   "metadata": {},
   "outputs": [
    {
     "data": {
      "text/plain": [
       "(array([ 8444., 10861., 11294., 10238.,  8526.,  8829.,  7509.,  9345.,\n",
       "        14697., 11545.]),\n",
       " array([-0.01317405,  0.06512699,  0.14342802,  0.22172906,  0.3000301 ,\n",
       "         0.37833114,  0.45663218,  0.53493322,  0.61323426,  0.69153529,\n",
       "         0.76983633]),\n",
       " <a list of 10 Patch objects>)"
      ]
     },
     "execution_count": 102,
     "metadata": {},
     "output_type": "execute_result"
    },
    {
     "data": {
      "image/png": "[encoded data removed]",
      "text/plain": [
       "<Figure size 432x288 with 1 Axes>"
      ]
     },
     "metadata": {},
     "output_type": "display_data"
    }
   ],
   "source": [
    "plt.hist(pred)"
   ]
  },
  {
   "cell_type": "code",
   "execution_count": null,
   "metadata": {
    "collapsed": true
   },
   "outputs": [],
   "source": []
  },
  {
   "cell_type": "code",
   "execution_count": 105,
   "metadata": {},
   "outputs": [
    {
     "data": {
      "image/png": "[encoded data removed]",
      "text/plain": [
       "<Figure size 432x288 with 1 Axes>"
      ]
     },
     "metadata": {},
     "output_type": "display_data"
    }
   ],
   "source": [
    "# residuals\n",
    "temp = pd.DataFrame({col:X[:,-1],'residuals':y-pred,'y':y})\n",
    "sns.boxplot(x=col,y='residuals',data=temp)\n",
    "d = dict(list(zip(list(sorted(set(temp[col]))),list(np.arange(temp[col].nunique())))))\n",
    "temp['bins'] = temp[col].apply(lambda x: d[x])\n",
    "#sns.lineplot(x='bins',y='y',data=temp,estimator=np.median,label='uncorrected_frex')"
   ]
  },
  {
   "cell_type": "code",
   "execution_count": 75,
   "metadata": {
    "collapsed": true
   },
   "outputs": [],
   "source": []
  },
  {
   "cell_type": "code",
   "execution_count": null,
   "metadata": {
    "collapsed": true
   },
   "outputs": [],
   "source": []
  },
  {
   "cell_type": "code",
   "execution_count": 106,
   "metadata": {
    "collapsed": true
   },
   "outputs": [],
   "source": [
    "#sns.lineplot(x=col,y='y',data=temp)"
   ]
  },
  {
   "cell_type": "code",
   "execution_count": 107,
   "metadata": {
    "collapsed": true
   },
   "outputs": [],
   "source": [
    "#sns.distplot(pred,bins=5)#,np.linspace(-0.3,0,10))"
   ]
  },
  {
   "cell_type": "code",
   "execution_count": 20,
   "metadata": {},
   "outputs": [
    {
     "data": {
      "text/plain": [
       "array([-5.53821485e-01,  7.75863581e-04, -2.56565386e-05,  3.10071115e-01,\n",
       "       -1.26020746e-01, -2.93784581e-01, -6.48018012e-02,  6.30247735e-02,\n",
       "       -9.66583212e-01,  1.76860519e-01,  4.35175687e-01,  7.00898718e-02,\n",
       "        1.77887898e-02,  1.59903909e-02])"
      ]
     },
     "execution_count": 20,
     "metadata": {},
     "output_type": "execute_result"
    }
   ],
   "source": [
    "#res.params"
   ]
  },
  {
   "cell_type": "markdown",
   "metadata": {},
   "source": [
    "## Model selection effects"
   ]
  },
  {
   "cell_type": "code",
   "execution_count": null,
   "metadata": {
    "collapsed": true
   },
   "outputs": [],
   "source": [
    "\n",
    "for col in model_controls[1:]: # \n",
    "    \n",
    "    cols = category_controls+topic_controls \n",
    "    #cols += model_controls[0:1] # control for no. of topics K\n",
    "    cols+=[col] \n",
    "    X = sample[cols].values\n",
    "    X = X.astype(float)\n",
    "    y_col = y_cols[-1]\n",
    "    y = sample[y_col].values\n",
    "    import statsmodels.api as sm\n",
    "    X = sm.add_constant(X)\n",
    "    mod = sm.OLS(y,X)\n",
    "    res = mod.fit()\n",
    "    #print(res.summary(xname=['constant']+cols))\n",
    "    print(col,res.tvalues[-1])"
   ]
  },
  {
   "cell_type": "markdown",
   "metadata": {},
   "source": [
    "## Control for K"
   ]
  },
  {
   "cell_type": "code",
   "execution_count": null,
   "metadata": {
    "collapsed": true
   },
   "outputs": [],
   "source": [
    "\n",
    "for col in model_controls[1:]: # \n",
    "    \n",
    "    cols = category_controls+topic_controls \n",
    "    cols += model_controls[0:1] # control for no. of topics K\n",
    "    cols+=[col] \n",
    "    X = sample[cols].values\n",
    "    X = X.astype(float)\n",
    "    y_col = y_cols[-1]\n",
    "    y = sample[y_col].values\n",
    "    import statsmodels.api as sm\n",
    "    X = sm.add_constant(X)\n",
    "    mod = sm.OLS(y,X)\n",
    "    res = mod.fit()\n",
    "    #print(res.summary(xname=['constant']+cols))\n",
    "    print(col,res.tvalues[-1])"
   ]
  }
 ],
 "metadata": {
  "kernelspec": {
   "display_name": "Python (full)",
   "language": "python",
   "name": "env_full"
  },
  "language_info": {
   "codemirror_mode": {
    "name": "ipython",
    "version": 3
   },
   "file_extension": ".py",
   "mimetype": "text/x-python",
   "name": "python",
   "nbconvert_exporter": "python",
   "pygments_lexer": "ipython3",
   "version": "3.6.10"
  }
 },
 "nbformat": 4,
 "nbformat_minor": 2
}
